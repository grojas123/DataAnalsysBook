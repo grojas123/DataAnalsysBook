{
 "cells": [
  {
   "cell_type": "code",
   "id": "initial_id",
   "metadata": {
    "collapsed": true,
    "ExecuteTime": {
     "end_time": "2024-06-18T23:36:11.089607Z",
     "start_time": "2024-06-18T23:36:11.083086Z"
    }
   },
   "source": [
    "def isiterable(obj):\n",
    "      try:\n",
    "        iter(obj)\n",
    "        return True\n",
    "      except TypeError:\n",
    "        return False"
   ],
   "outputs": [],
   "execution_count": 2
  },
  {
   "metadata": {
    "ExecuteTime": {
     "end_time": "2024-06-18T23:36:17.733712Z",
     "start_time": "2024-06-18T23:36:17.714657Z"
    }
   },
   "cell_type": "code",
   "source": "isiterable('a string')",
   "id": "a87c4f53f6219362",
   "outputs": [
    {
     "data": {
      "text/plain": [
       "True"
      ]
     },
     "execution_count": 3,
     "metadata": {},
     "output_type": "execute_result"
    }
   ],
   "execution_count": 3
  }
 ],
 "metadata": {
  "kernelspec": {
   "display_name": "Python 3",
   "language": "python",
   "name": "python3"
  },
  "language_info": {
   "codemirror_mode": {
    "name": "ipython",
    "version": 2
   },
   "file_extension": ".py",
   "mimetype": "text/x-python",
   "name": "python",
   "nbconvert_exporter": "python",
   "pygments_lexer": "ipython2",
   "version": "2.7.6"
  }
 },
 "nbformat": 4,
 "nbformat_minor": 5
}
