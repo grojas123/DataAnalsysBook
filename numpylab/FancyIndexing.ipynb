{
 "cells": [
  {
   "cell_type": "code",
   "id": "initial_id",
   "metadata": {
    "collapsed": true,
    "ExecuteTime": {
     "end_time": "2024-06-23T20:18:31.372341Z",
     "start_time": "2024-06-23T20:18:31.227602Z"
    }
   },
   "source": "import numpy as np",
   "outputs": [],
   "execution_count": 1
  },
  {
   "metadata": {
    "ExecuteTime": {
     "end_time": "2024-06-23T20:18:35.469902Z",
     "start_time": "2024-06-23T20:18:35.465673Z"
    }
   },
   "cell_type": "code",
   "source": "arr = np.zeros((8,4))",
   "id": "44fe242bdd6d176b",
   "outputs": [],
   "execution_count": 2
  },
  {
   "metadata": {
    "ExecuteTime": {
     "end_time": "2024-06-23T20:18:37.965974Z",
     "start_time": "2024-06-23T20:18:37.962329Z"
    }
   },
   "cell_type": "code",
   "source": [
    "for i in range(8):\n",
    "    arr[i] = i"
   ],
   "id": "4006c0cc691b8f76",
   "outputs": [],
   "execution_count": 3
  },
  {
   "metadata": {
    "ExecuteTime": {
     "end_time": "2024-06-23T20:18:45.880603Z",
     "start_time": "2024-06-23T20:18:45.869915Z"
    }
   },
   "cell_type": "code",
   "source": "arr",
   "id": "55d08b5272a00612",
   "outputs": [
    {
     "data": {
      "text/plain": [
       "array([[0., 0., 0., 0.],\n",
       "       [1., 1., 1., 1.],\n",
       "       [2., 2., 2., 2.],\n",
       "       [3., 3., 3., 3.],\n",
       "       [4., 4., 4., 4.],\n",
       "       [5., 5., 5., 5.],\n",
       "       [6., 6., 6., 6.],\n",
       "       [7., 7., 7., 7.]])"
      ]
     },
     "execution_count": 4,
     "metadata": {},
     "output_type": "execute_result"
    }
   ],
   "execution_count": 4
  },
  {
   "metadata": {
    "ExecuteTime": {
     "end_time": "2024-06-23T20:19:07.586798Z",
     "start_time": "2024-06-23T20:19:07.581570Z"
    }
   },
   "cell_type": "code",
   "source": "arr[[4,3,0,6]]",
   "id": "16f3f64db7165c44",
   "outputs": [
    {
     "data": {
      "text/plain": [
       "array([[4., 4., 4., 4.],\n",
       "       [3., 3., 3., 3.],\n",
       "       [0., 0., 0., 0.],\n",
       "       [6., 6., 6., 6.]])"
      ]
     },
     "execution_count": 5,
     "metadata": {},
     "output_type": "execute_result"
    }
   ],
   "execution_count": 5
  },
  {
   "metadata": {
    "ExecuteTime": {
     "end_time": "2024-06-23T20:19:49.078221Z",
     "start_time": "2024-06-23T20:19:49.071928Z"
    }
   },
   "cell_type": "code",
   "source": "arr[[-3,-5,-7]]",
   "id": "cbeec0a5138ff5e9",
   "outputs": [
    {
     "data": {
      "text/plain": [
       "array([[5., 5., 5., 5.],\n",
       "       [3., 3., 3., 3.],\n",
       "       [1., 1., 1., 1.]])"
      ]
     },
     "execution_count": 6,
     "metadata": {},
     "output_type": "execute_result"
    }
   ],
   "execution_count": 6
  },
  {
   "metadata": {
    "ExecuteTime": {
     "end_time": "2024-06-23T20:20:17.691909Z",
     "start_time": "2024-06-23T20:20:17.688297Z"
    }
   },
   "cell_type": "code",
   "source": "arr = np.arange(32).reshape((8,4))",
   "id": "f79a5d07e2eae644",
   "outputs": [],
   "execution_count": 7
  },
  {
   "metadata": {
    "ExecuteTime": {
     "end_time": "2024-06-23T20:20:22.019311Z",
     "start_time": "2024-06-23T20:20:22.013165Z"
    }
   },
   "cell_type": "code",
   "source": "arr",
   "id": "2900c5970dd10c4",
   "outputs": [
    {
     "data": {
      "text/plain": [
       "array([[ 0,  1,  2,  3],\n",
       "       [ 4,  5,  6,  7],\n",
       "       [ 8,  9, 10, 11],\n",
       "       [12, 13, 14, 15],\n",
       "       [16, 17, 18, 19],\n",
       "       [20, 21, 22, 23],\n",
       "       [24, 25, 26, 27],\n",
       "       [28, 29, 30, 31]])"
      ]
     },
     "execution_count": 8,
     "metadata": {},
     "output_type": "execute_result"
    }
   ],
   "execution_count": 8
  },
  {
   "metadata": {
    "ExecuteTime": {
     "end_time": "2024-06-23T20:20:48.223612Z",
     "start_time": "2024-06-23T20:20:48.218758Z"
    }
   },
   "cell_type": "code",
   "source": "arr[[1,5,7,2],[0,3,1,2]]",
   "id": "85ef37beb06f4d4b",
   "outputs": [
    {
     "data": {
      "text/plain": [
       "array([ 4, 23, 29, 10])"
      ]
     },
     "execution_count": 9,
     "metadata": {},
     "output_type": "execute_result"
    }
   ],
   "execution_count": 9
  },
  {
   "metadata": {
    "ExecuteTime": {
     "end_time": "2024-06-23T20:21:20.594049Z",
     "start_time": "2024-06-23T20:21:20.587323Z"
    }
   },
   "cell_type": "code",
   "source": "arr[[1,5,7,2]][:,[0,3,1,2]]",
   "id": "ac837d2c82120d6a",
   "outputs": [
    {
     "data": {
      "text/plain": [
       "array([[ 4,  7,  5,  6],\n",
       "       [20, 23, 21, 22],\n",
       "       [28, 31, 29, 30],\n",
       "       [ 8, 11,  9, 10]])"
      ]
     },
     "execution_count": 10,
     "metadata": {},
     "output_type": "execute_result"
    }
   ],
   "execution_count": 10
  },
  {
   "metadata": {
    "ExecuteTime": {
     "end_time": "2024-06-23T20:23:33.223607Z",
     "start_time": "2024-06-23T20:23:33.219051Z"
    }
   },
   "cell_type": "code",
   "source": "arr[[1,5,7,2],[0,3,1,2]]",
   "id": "9f9aa4a9b063775a",
   "outputs": [
    {
     "data": {
      "text/plain": [
       "array([ 4, 23, 29, 10])"
      ]
     },
     "execution_count": 12,
     "metadata": {},
     "output_type": "execute_result"
    }
   ],
   "execution_count": 12
  },
  {
   "metadata": {
    "ExecuteTime": {
     "end_time": "2024-06-23T20:24:39.661671Z",
     "start_time": "2024-06-23T20:24:39.656246Z"
    }
   },
   "cell_type": "code",
   "source": "arr[[1,5,7,2],[0,3,1,2]]",
   "id": "6479dcb1db2440ac",
   "outputs": [
    {
     "data": {
      "text/plain": [
       "array([ 4, 23, 29, 10])"
      ]
     },
     "execution_count": 13,
     "metadata": {},
     "output_type": "execute_result"
    }
   ],
   "execution_count": 13
  },
  {
   "metadata": {
    "ExecuteTime": {
     "end_time": "2024-06-23T20:24:49.176021Z",
     "start_time": "2024-06-23T20:24:49.170929Z"
    }
   },
   "cell_type": "code",
   "source": "arr",
   "id": "6066e30213487833",
   "outputs": [
    {
     "data": {
      "text/plain": [
       "array([[ 0,  1,  2,  3],\n",
       "       [ 4,  5,  6,  7],\n",
       "       [ 8,  9, 10, 11],\n",
       "       [12, 13, 14, 15],\n",
       "       [16, 17, 18, 19],\n",
       "       [20, 21, 22, 23],\n",
       "       [24, 25, 26, 27],\n",
       "       [28, 29, 30, 31]])"
      ]
     },
     "execution_count": 14,
     "metadata": {},
     "output_type": "execute_result"
    }
   ],
   "execution_count": 14
  },
  {
   "metadata": {},
   "cell_type": "code",
   "outputs": [],
   "execution_count": null,
   "source": "",
   "id": "2b6cbd819aaee55"
  }
 ],
 "metadata": {
  "kernelspec": {
   "display_name": "Python 3",
   "language": "python",
   "name": "python3"
  },
  "language_info": {
   "codemirror_mode": {
    "name": "ipython",
    "version": 2
   },
   "file_extension": ".py",
   "mimetype": "text/x-python",
   "name": "python",
   "nbconvert_exporter": "python",
   "pygments_lexer": "ipython2",
   "version": "2.7.6"
  }
 },
 "nbformat": 4,
 "nbformat_minor": 5
}
