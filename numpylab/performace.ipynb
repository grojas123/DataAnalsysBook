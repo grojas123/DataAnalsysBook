{
 "cells": [
  {
   "cell_type": "code",
   "id": "initial_id",
   "metadata": {
    "collapsed": true,
    "ExecuteTime": {
     "end_time": "2024-06-19T23:01:57.288075Z",
     "start_time": "2024-06-19T23:01:57.123022Z"
    }
   },
   "source": "import numpy as np",
   "outputs": [],
   "execution_count": 3
  },
  {
   "metadata": {
    "ExecuteTime": {
     "end_time": "2024-06-19T23:01:59.163625Z",
     "start_time": "2024-06-19T23:01:59.156982Z"
    }
   },
   "cell_type": "code",
   "source": "my_array = np.arange(1_000_000)",
   "id": "f5588980ec398ee",
   "outputs": [],
   "execution_count": 4
  },
  {
   "metadata": {
    "ExecuteTime": {
     "end_time": "2024-06-19T23:02:02.456447Z",
     "start_time": "2024-06-19T23:02:02.431730Z"
    }
   },
   "cell_type": "code",
   "source": "my_list = list(range(1_000_000))",
   "id": "77a5328a4328e859",
   "outputs": [],
   "execution_count": 5
  },
  {
   "metadata": {
    "ExecuteTime": {
     "end_time": "2024-06-19T23:02:07.053034Z",
     "start_time": "2024-06-19T23:02:04.948314Z"
    }
   },
   "cell_type": "code",
   "source": "%timeit my_arr2= my_array *2",
   "id": "bba0a3fad7b2a48d",
   "outputs": [
    {
     "name": "stdout",
     "output_type": "stream",
     "text": [
      "2.57 ms ± 323 μs per loop (mean ± std. dev. of 7 runs, 100 loops each)\n"
     ]
    }
   ],
   "execution_count": 6
  },
  {
   "metadata": {
    "ExecuteTime": {
     "end_time": "2024-06-19T23:02:16.199778Z",
     "start_time": "2024-06-19T23:02:11.094957Z"
    }
   },
   "cell_type": "code",
   "source": "%timeit my_list2=[x * 2 for x in my_list]",
   "id": "a4a919cd46519f17",
   "outputs": [
    {
     "name": "stdout",
     "output_type": "stream",
     "text": [
      "60.7 ms ± 1.49 ms per loop (mean ± std. dev. of 7 runs, 10 loops each)\n"
     ]
    }
   ],
   "execution_count": 7
  }
 ],
 "metadata": {
  "kernelspec": {
   "display_name": "Python 3",
   "language": "python",
   "name": "python3"
  },
  "language_info": {
   "codemirror_mode": {
    "name": "ipython",
    "version": 2
   },
   "file_extension": ".py",
   "mimetype": "text/x-python",
   "name": "python",
   "nbconvert_exporter": "python",
   "pygments_lexer": "ipython2",
   "version": "2.7.6"
  }
 },
 "nbformat": 4,
 "nbformat_minor": 5
}
