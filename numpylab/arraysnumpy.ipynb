{
 "cells": [
  {
   "cell_type": "code",
   "id": "initial_id",
   "metadata": {
    "collapsed": true,
    "ExecuteTime": {
     "end_time": "2024-06-19T23:18:51.585885Z",
     "start_time": "2024-06-19T23:18:51.581632Z"
    }
   },
   "source": "import numpy as np",
   "outputs": [],
   "execution_count": 22
  },
  {
   "metadata": {
    "ExecuteTime": {
     "end_time": "2024-06-19T23:07:03.854464Z",
     "start_time": "2024-06-19T23:07:03.849841Z"
    }
   },
   "cell_type": "code",
   "source": "data = np.array([[1.5, -0.1, 3], [0, -3, 6.5]])",
   "id": "67497001f07b7882",
   "outputs": [],
   "execution_count": 2
  },
  {
   "metadata": {
    "ExecuteTime": {
     "end_time": "2024-06-19T23:07:08.918380Z",
     "start_time": "2024-06-19T23:07:08.913184Z"
    }
   },
   "cell_type": "code",
   "source": "print(data)",
   "id": "af2c976a6df32d1d",
   "outputs": [
    {
     "name": "stdout",
     "output_type": "stream",
     "text": [
      "[[ 1.5 -0.1  3. ]\n",
      " [ 0.  -3.   6.5]]\n"
     ]
    }
   ],
   "execution_count": 3
  },
  {
   "metadata": {
    "ExecuteTime": {
     "end_time": "2024-06-19T23:07:22.899440Z",
     "start_time": "2024-06-19T23:07:22.887269Z"
    }
   },
   "cell_type": "code",
   "source": "data * 10",
   "id": "85185d8585c3dd4a",
   "outputs": [
    {
     "data": {
      "text/plain": [
       "array([[ 15.,  -1.,  30.],\n",
       "       [  0., -30.,  65.]])"
      ]
     },
     "execution_count": 4,
     "metadata": {},
     "output_type": "execute_result"
    }
   ],
   "execution_count": 4
  },
  {
   "metadata": {
    "ExecuteTime": {
     "end_time": "2024-06-19T23:07:34.970953Z",
     "start_time": "2024-06-19T23:07:34.964565Z"
    }
   },
   "cell_type": "code",
   "source": "data + data",
   "id": "5ab126a69d20e309",
   "outputs": [
    {
     "data": {
      "text/plain": [
       "array([[ 3. , -0.2,  6. ],\n",
       "       [ 0. , -6. , 13. ]])"
      ]
     },
     "execution_count": 5,
     "metadata": {},
     "output_type": "execute_result"
    }
   ],
   "execution_count": 5
  },
  {
   "metadata": {
    "ExecuteTime": {
     "end_time": "2024-06-19T23:08:16.850429Z",
     "start_time": "2024-06-19T23:08:16.844433Z"
    }
   },
   "cell_type": "code",
   "source": "data.shape",
   "id": "3411e96b6e5b0b1f",
   "outputs": [
    {
     "data": {
      "text/plain": [
       "(2, 3)"
      ]
     },
     "execution_count": 6,
     "metadata": {},
     "output_type": "execute_result"
    }
   ],
   "execution_count": 6
  },
  {
   "metadata": {
    "ExecuteTime": {
     "end_time": "2024-06-19T23:09:04.105242Z",
     "start_time": "2024-06-19T23:09:04.099078Z"
    }
   },
   "cell_type": "code",
   "source": "data.dtype",
   "id": "30dec51aa0ffff82",
   "outputs": [
    {
     "data": {
      "text/plain": [
       "dtype('float64')"
      ]
     },
     "execution_count": 7,
     "metadata": {},
     "output_type": "execute_result"
    }
   ],
   "execution_count": 7
  },
  {
   "metadata": {
    "ExecuteTime": {
     "end_time": "2024-06-19T23:10:06.458807Z",
     "start_time": "2024-06-19T23:10:06.454279Z"
    }
   },
   "cell_type": "code",
   "source": "data1 = [6, 7.5, 8, 0, 1]",
   "id": "fdc6a0121bc9c433",
   "outputs": [],
   "execution_count": 8
  },
  {
   "metadata": {
    "ExecuteTime": {
     "end_time": "2024-06-19T23:10:08.792622Z",
     "start_time": "2024-06-19T23:10:08.788090Z"
    }
   },
   "cell_type": "code",
   "source": "arr1 = np.array(data1)",
   "id": "e1c576f71c69ac7a",
   "outputs": [],
   "execution_count": 9
  },
  {
   "metadata": {
    "ExecuteTime": {
     "end_time": "2024-06-19T23:10:10.811935Z",
     "start_time": "2024-06-19T23:10:10.803896Z"
    }
   },
   "cell_type": "code",
   "source": "arr1",
   "id": "8e53c93a6d1deb75",
   "outputs": [
    {
     "data": {
      "text/plain": [
       "array([6. , 7.5, 8. , 0. , 1. ])"
      ]
     },
     "execution_count": 10,
     "metadata": {},
     "output_type": "execute_result"
    }
   ],
   "execution_count": 10
  },
  {
   "metadata": {
    "ExecuteTime": {
     "end_time": "2024-06-19T23:10:39.877498Z",
     "start_time": "2024-06-19T23:10:39.872898Z"
    }
   },
   "cell_type": "code",
   "source": "data2 = [[1, 2, 3, 4], [5, 6, 7, 8]]",
   "id": "7bd37f9aeea93a54",
   "outputs": [],
   "execution_count": 11
  },
  {
   "metadata": {
    "ExecuteTime": {
     "end_time": "2024-06-19T23:10:42.386624Z",
     "start_time": "2024-06-19T23:10:42.382994Z"
    }
   },
   "cell_type": "code",
   "source": "arr2 = np.array(data2)",
   "id": "55ab5c71a552a151",
   "outputs": [],
   "execution_count": 12
  },
  {
   "metadata": {
    "ExecuteTime": {
     "end_time": "2024-06-19T23:10:47.015769Z",
     "start_time": "2024-06-19T23:10:47.009506Z"
    }
   },
   "cell_type": "code",
   "source": "arr2",
   "id": "6466c7375ab180c4",
   "outputs": [
    {
     "data": {
      "text/plain": [
       "array([[1, 2, 3, 4],\n",
       "       [5, 6, 7, 8]])"
      ]
     },
     "execution_count": 13,
     "metadata": {},
     "output_type": "execute_result"
    }
   ],
   "execution_count": 13
  },
  {
   "metadata": {
    "ExecuteTime": {
     "end_time": "2024-06-19T23:11:40.564204Z",
     "start_time": "2024-06-19T23:11:40.558866Z"
    }
   },
   "cell_type": "code",
   "source": "arr1.dtype",
   "id": "fe07a232e8d00356",
   "outputs": [
    {
     "data": {
      "text/plain": [
       "dtype('float64')"
      ]
     },
     "execution_count": 14,
     "metadata": {},
     "output_type": "execute_result"
    }
   ],
   "execution_count": 14
  },
  {
   "metadata": {
    "ExecuteTime": {
     "end_time": "2024-06-19T23:11:47.914898Z",
     "start_time": "2024-06-19T23:11:47.907179Z"
    }
   },
   "cell_type": "code",
   "source": "arr2.dtype",
   "id": "a3dfdf9bfcb18e5d",
   "outputs": [
    {
     "data": {
      "text/plain": [
       "dtype('int64')"
      ]
     },
     "execution_count": 15,
     "metadata": {},
     "output_type": "execute_result"
    }
   ],
   "execution_count": 15
  },
  {
   "metadata": {
    "ExecuteTime": {
     "end_time": "2024-06-19T23:12:31.350385Z",
     "start_time": "2024-06-19T23:12:31.343067Z"
    }
   },
   "cell_type": "code",
   "source": "np.zeros(10)",
   "id": "605b517917fe325e",
   "outputs": [
    {
     "data": {
      "text/plain": [
       "array([0., 0., 0., 0., 0., 0., 0., 0., 0., 0.])"
      ]
     },
     "execution_count": 16,
     "metadata": {},
     "output_type": "execute_result"
    }
   ],
   "execution_count": 16
  },
  {
   "metadata": {
    "ExecuteTime": {
     "end_time": "2024-06-19T23:12:43.110409Z",
     "start_time": "2024-06-19T23:12:43.103808Z"
    }
   },
   "cell_type": "code",
   "source": "np.zeros((3, 6))",
   "id": "ab0ce6b4d8724136",
   "outputs": [
    {
     "data": {
      "text/plain": [
       "array([[0., 0., 0., 0., 0., 0.],\n",
       "       [0., 0., 0., 0., 0., 0.],\n",
       "       [0., 0., 0., 0., 0., 0.]])"
      ]
     },
     "execution_count": 17,
     "metadata": {},
     "output_type": "execute_result"
    }
   ],
   "execution_count": 17
  },
  {
   "metadata": {
    "ExecuteTime": {
     "end_time": "2024-06-19T23:21:30.926122Z",
     "start_time": "2024-06-19T23:21:30.920125Z"
    }
   },
   "cell_type": "code",
   "source": "np.zeros(10)",
   "id": "81d046540f0963ba",
   "outputs": [
    {
     "data": {
      "text/plain": [
       "array([0., 0., 0., 0., 0., 0., 0., 0., 0., 0.])"
      ]
     },
     "execution_count": 24,
     "metadata": {},
     "output_type": "execute_result"
    }
   ],
   "execution_count": 24
  },
  {
   "metadata": {
    "ExecuteTime": {
     "end_time": "2024-06-19T23:22:04.315717Z",
     "start_time": "2024-06-19T23:22:04.308749Z"
    }
   },
   "cell_type": "code",
   "source": "np.zeros((3,6))",
   "id": "1035ca331625f461",
   "outputs": [
    {
     "data": {
      "text/plain": [
       "array([[0., 0., 0., 0., 0., 0.],\n",
       "       [0., 0., 0., 0., 0., 0.],\n",
       "       [0., 0., 0., 0., 0., 0.]])"
      ]
     },
     "execution_count": 25,
     "metadata": {},
     "output_type": "execute_result"
    }
   ],
   "execution_count": 25
  },
  {
   "metadata": {
    "ExecuteTime": {
     "end_time": "2024-06-19T23:22:15.174909Z",
     "start_time": "2024-06-19T23:22:15.168084Z"
    }
   },
   "cell_type": "code",
   "source": "np.empty((2, 3, 2))",
   "id": "13b9e4f7a2f6e02",
   "outputs": [
    {
     "data": {
      "text/plain": [
       "array([[[0., 0.],\n",
       "        [0., 0.],\n",
       "        [0., 0.]],\n",
       "\n",
       "       [[0., 0.],\n",
       "        [0., 0.],\n",
       "        [0., 0.]]])"
      ]
     },
     "execution_count": 26,
     "metadata": {},
     "output_type": "execute_result"
    }
   ],
   "execution_count": 26
  },
  {
   "metadata": {
    "ExecuteTime": {
     "end_time": "2024-06-19T23:22:40.779652Z",
     "start_time": "2024-06-19T23:22:40.773112Z"
    }
   },
   "cell_type": "code",
   "source": "np.arange(15)",
   "id": "8368fbba42632311",
   "outputs": [
    {
     "data": {
      "text/plain": [
       "array([ 0,  1,  2,  3,  4,  5,  6,  7,  8,  9, 10, 11, 12, 13, 14])"
      ]
     },
     "execution_count": 27,
     "metadata": {},
     "output_type": "execute_result"
    }
   ],
   "execution_count": 27
  },
  {
   "metadata": {
    "ExecuteTime": {
     "end_time": "2024-06-19T23:23:20.407601Z",
     "start_time": "2024-06-19T23:23:20.404055Z"
    }
   },
   "cell_type": "code",
   "source": "arr1 = np.array([1, 2, 3], dtype=np.float64)",
   "id": "49262e7d2d58a99a",
   "outputs": [],
   "execution_count": 28
  },
  {
   "metadata": {
    "ExecuteTime": {
     "end_time": "2024-06-19T23:23:24.556594Z",
     "start_time": "2024-06-19T23:23:24.552592Z"
    }
   },
   "cell_type": "code",
   "source": "arr2 = np.array([1, 2, 3], dtype=np.int32)",
   "id": "f1a31ff34ae48c03",
   "outputs": [],
   "execution_count": 29
  },
  {
   "metadata": {
    "ExecuteTime": {
     "end_time": "2024-06-19T23:23:27.492737Z",
     "start_time": "2024-06-19T23:23:27.486614Z"
    }
   },
   "cell_type": "code",
   "source": "arr1.dtype",
   "id": "1e4ec15c6abc6aa4",
   "outputs": [
    {
     "data": {
      "text/plain": [
       "dtype('float64')"
      ]
     },
     "execution_count": 30,
     "metadata": {},
     "output_type": "execute_result"
    }
   ],
   "execution_count": 30
  },
  {
   "metadata": {
    "ExecuteTime": {
     "end_time": "2024-06-19T23:23:30.795290Z",
     "start_time": "2024-06-19T23:23:30.789287Z"
    }
   },
   "cell_type": "code",
   "source": "arr2.dtype",
   "id": "8253bf53d20abdd9",
   "outputs": [
    {
     "data": {
      "text/plain": [
       "dtype('int32')"
      ]
     },
     "execution_count": 31,
     "metadata": {},
     "output_type": "execute_result"
    }
   ],
   "execution_count": 31
  },
  {
   "metadata": {
    "ExecuteTime": {
     "end_time": "2024-06-19T23:24:35.379421Z",
     "start_time": "2024-06-19T23:24:35.375376Z"
    }
   },
   "cell_type": "code",
   "source": "arr = np.array([1, 2, 3, 4, 5])",
   "id": "73f2c1a5f57446a6",
   "outputs": [],
   "execution_count": 32
  },
  {
   "metadata": {
    "ExecuteTime": {
     "end_time": "2024-06-19T23:24:37.658728Z",
     "start_time": "2024-06-19T23:24:37.652146Z"
    }
   },
   "cell_type": "code",
   "source": "arr.dtype",
   "id": "f5fd81e5e2163335",
   "outputs": [
    {
     "data": {
      "text/plain": [
       "dtype('int64')"
      ]
     },
     "execution_count": 33,
     "metadata": {},
     "output_type": "execute_result"
    }
   ],
   "execution_count": 33
  },
  {
   "metadata": {
    "ExecuteTime": {
     "end_time": "2024-06-19T23:24:48.647372Z",
     "start_time": "2024-06-19T23:24:48.642807Z"
    }
   },
   "cell_type": "code",
   "source": "float_arr = arr.astype(np.float64)",
   "id": "1a6d51492f30ad7d",
   "outputs": [],
   "execution_count": 34
  },
  {
   "metadata": {
    "ExecuteTime": {
     "end_time": "2024-06-19T23:24:55.707907Z",
     "start_time": "2024-06-19T23:24:55.702072Z"
    }
   },
   "cell_type": "code",
   "source": "float_arr.dtype",
   "id": "51fe52d1760b8ee0",
   "outputs": [
    {
     "data": {
      "text/plain": [
       "dtype('float64')"
      ]
     },
     "execution_count": 35,
     "metadata": {},
     "output_type": "execute_result"
    }
   ],
   "execution_count": 35
  },
  {
   "metadata": {
    "ExecuteTime": {
     "end_time": "2024-06-19T23:26:33.285884Z",
     "start_time": "2024-06-19T23:26:33.281654Z"
    }
   },
   "cell_type": "code",
   "source": "arr = np.array([3.7, -1.2, -2.6, 0.5, 12.9, 10.1])",
   "id": "60c3eb0d954b37ea",
   "outputs": [],
   "execution_count": 36
  },
  {
   "metadata": {
    "ExecuteTime": {
     "end_time": "2024-06-19T23:26:35.586354Z",
     "start_time": "2024-06-19T23:26:35.581377Z"
    }
   },
   "cell_type": "code",
   "source": "arr",
   "id": "1e043b5646ce9d51",
   "outputs": [
    {
     "data": {
      "text/plain": [
       "array([ 3.7, -1.2, -2.6,  0.5, 12.9, 10.1])"
      ]
     },
     "execution_count": 37,
     "metadata": {},
     "output_type": "execute_result"
    }
   ],
   "execution_count": 37
  },
  {
   "metadata": {
    "ExecuteTime": {
     "end_time": "2024-06-19T23:26:39.518381Z",
     "start_time": "2024-06-19T23:26:39.512385Z"
    }
   },
   "cell_type": "code",
   "source": "arr.astype(np.int32)",
   "id": "7a159043c9b96c3e",
   "outputs": [
    {
     "data": {
      "text/plain": [
       "array([ 3, -1, -2,  0, 12, 10], dtype=int32)"
      ]
     },
     "execution_count": 38,
     "metadata": {},
     "output_type": "execute_result"
    }
   ],
   "execution_count": 38
  },
  {
   "metadata": {
    "ExecuteTime": {
     "end_time": "2024-06-19T23:27:29.304285Z",
     "start_time": "2024-06-19T23:27:29.299282Z"
    }
   },
   "cell_type": "code",
   "source": "numeric_strings = np.array(['1.25', '-9.6', '42'], dtype=np.bytes_)",
   "id": "294989402fd31ab",
   "outputs": [],
   "execution_count": 40
  },
  {
   "metadata": {
    "ExecuteTime": {
     "end_time": "2024-06-19T23:27:34.551328Z",
     "start_time": "2024-06-19T23:27:34.544655Z"
    }
   },
   "cell_type": "code",
   "source": "numeric_strings.astype(float)",
   "id": "d3b4a675b9703f27",
   "outputs": [
    {
     "data": {
      "text/plain": [
       "array([ 1.25, -9.6 , 42.  ])"
      ]
     },
     "execution_count": 41,
     "metadata": {},
     "output_type": "execute_result"
    }
   ],
   "execution_count": 41
  },
  {
   "metadata": {
    "ExecuteTime": {
     "end_time": "2024-06-19T23:29:53.347807Z",
     "start_time": "2024-06-19T23:29:53.343283Z"
    }
   },
   "cell_type": "code",
   "source": "int_array = np.arange(10)",
   "id": "4f922bab107d9bef",
   "outputs": [],
   "execution_count": 42
  },
  {
   "metadata": {
    "ExecuteTime": {
     "end_time": "2024-06-19T23:29:56.829387Z",
     "start_time": "2024-06-19T23:29:56.824410Z"
    }
   },
   "cell_type": "code",
   "source": "calibers = np.array([.22, .270, .357, .380, .44, .50], dtype=np.float64)",
   "id": "d36a5fddd3ad0578",
   "outputs": [],
   "execution_count": 43
  },
  {
   "metadata": {
    "ExecuteTime": {
     "end_time": "2024-06-19T23:29:59.569682Z",
     "start_time": "2024-06-19T23:29:59.563533Z"
    }
   },
   "cell_type": "code",
   "source": "int_array.astype(calibers.dtype)",
   "id": "7a8dd3519c865713",
   "outputs": [
    {
     "data": {
      "text/plain": [
       "array([0., 1., 2., 3., 4., 5., 6., 7., 8., 9.])"
      ]
     },
     "execution_count": 44,
     "metadata": {},
     "output_type": "execute_result"
    }
   ],
   "execution_count": 44
  }
 ],
 "metadata": {
  "kernelspec": {
   "display_name": "Python 3",
   "language": "python",
   "name": "python3"
  },
  "language_info": {
   "codemirror_mode": {
    "name": "ipython",
    "version": 2
   },
   "file_extension": ".py",
   "mimetype": "text/x-python",
   "name": "python",
   "nbconvert_exporter": "python",
   "pygments_lexer": "ipython2",
   "version": "2.7.6"
  }
 },
 "nbformat": 4,
 "nbformat_minor": 5
}
