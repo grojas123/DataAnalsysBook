{
 "cells": [
  {
   "cell_type": "code",
   "id": "initial_id",
   "metadata": {
    "collapsed": true,
    "ExecuteTime": {
     "end_time": "2024-06-29T18:10:21.619428Z",
     "start_time": "2024-06-29T18:10:21.615317Z"
    }
   },
   "source": [
    "import numpy as np\n",
    "rng = np.random.RandomState(seed=1234)"
   ],
   "outputs": [],
   "execution_count": 10
  },
  {
   "metadata": {
    "ExecuteTime": {
     "end_time": "2024-06-29T18:04:56.928321Z",
     "start_time": "2024-06-29T18:04:56.922725Z"
    }
   },
   "cell_type": "code",
   "source": "x = np.array([[1., 2., 3.],[4., 5., 6.]])",
   "id": "a0913d490e994962",
   "outputs": [],
   "execution_count": 3
  },
  {
   "metadata": {
    "ExecuteTime": {
     "end_time": "2024-06-29T18:05:59.214154Z",
     "start_time": "2024-06-29T18:05:59.210585Z"
    }
   },
   "cell_type": "code",
   "source": "y = np.array([[6., 23.],[-1, 7],[8, 9]])",
   "id": "8bb260df041c6e10",
   "outputs": [],
   "execution_count": 4
  },
  {
   "metadata": {
    "ExecuteTime": {
     "end_time": "2024-06-29T18:06:03.122602Z",
     "start_time": "2024-06-29T18:06:03.115363Z"
    }
   },
   "cell_type": "code",
   "source": "x",
   "id": "ab6671eaf7674f0",
   "outputs": [
    {
     "data": {
      "text/plain": [
       "array([[1., 2., 3.],\n",
       "       [4., 5., 6.]])"
      ]
     },
     "execution_count": 5,
     "metadata": {},
     "output_type": "execute_result"
    }
   ],
   "execution_count": 5
  },
  {
   "metadata": {
    "ExecuteTime": {
     "end_time": "2024-06-29T18:06:11.495107Z",
     "start_time": "2024-06-29T18:06:11.489588Z"
    }
   },
   "cell_type": "code",
   "source": "y",
   "id": "27c6b82debcb5508",
   "outputs": [
    {
     "data": {
      "text/plain": [
       "array([[ 6., 23.],\n",
       "       [-1.,  7.],\n",
       "       [ 8.,  9.]])"
      ]
     },
     "execution_count": 6,
     "metadata": {},
     "output_type": "execute_result"
    }
   ],
   "execution_count": 6
  },
  {
   "metadata": {
    "ExecuteTime": {
     "end_time": "2024-06-29T18:06:26.666369Z",
     "start_time": "2024-06-29T18:06:26.660357Z"
    }
   },
   "cell_type": "code",
   "source": "x.dot(y)",
   "id": "8feff013b1277e9e",
   "outputs": [
    {
     "data": {
      "text/plain": [
       "array([[ 28.,  64.],\n",
       "       [ 67., 181.]])"
      ]
     },
     "execution_count": 7,
     "metadata": {},
     "output_type": "execute_result"
    }
   ],
   "execution_count": 7
  },
  {
   "metadata": {
    "ExecuteTime": {
     "end_time": "2024-06-29T18:06:31.820493Z",
     "start_time": "2024-06-29T18:06:31.815714Z"
    }
   },
   "cell_type": "code",
   "source": "np.dot(x, y)",
   "id": "bc960232c89cbc3d",
   "outputs": [
    {
     "data": {
      "text/plain": [
       "array([[ 28.,  64.],\n",
       "       [ 67., 181.]])"
      ]
     },
     "execution_count": 8,
     "metadata": {},
     "output_type": "execute_result"
    }
   ],
   "execution_count": 8
  },
  {
   "metadata": {
    "ExecuteTime": {
     "end_time": "2024-06-29T18:07:40.587801Z",
     "start_time": "2024-06-29T18:07:40.581040Z"
    }
   },
   "cell_type": "code",
   "source": "x @ np.ones(3)",
   "id": "63f639d84dc8093a",
   "outputs": [
    {
     "data": {
      "text/plain": [
       "array([ 6., 15.])"
      ]
     },
     "execution_count": 9,
     "metadata": {},
     "output_type": "execute_result"
    }
   ],
   "execution_count": 9
  },
  {
   "metadata": {
    "ExecuteTime": {
     "end_time": "2024-06-29T18:15:40.415869Z",
     "start_time": "2024-06-29T18:15:40.411373Z"
    }
   },
   "cell_type": "code",
   "source": [
    "from numpy.linalg import inv, qr\n",
    "X = rng.standard_normal((5, 5))"
   ],
   "id": "a4f28db98b1d446a",
   "outputs": [],
   "execution_count": 12
  },
  {
   "metadata": {
    "ExecuteTime": {
     "end_time": "2024-06-29T18:18:54.284682Z",
     "start_time": "2024-06-29T18:18:54.280663Z"
    }
   },
   "cell_type": "code",
   "source": "mat = X.T @ X",
   "id": "96668f5d07670f91",
   "outputs": [],
   "execution_count": 13
  },
  {
   "metadata": {
    "ExecuteTime": {
     "end_time": "2024-06-29T18:18:58.559619Z",
     "start_time": "2024-06-29T18:18:58.553306Z"
    }
   },
   "cell_type": "code",
   "source": "inv(mat)",
   "id": "1905c44ba994172c",
   "outputs": [
    {
     "data": {
      "text/plain": [
       "array([[ 4.04722626, -0.30713134, -0.62041503,  1.49320309,  1.20383591],\n",
       "       [-0.30713134,  0.78024451,  0.52519597,  0.22528196,  0.15345671],\n",
       "       [-0.62041503,  0.52519597,  0.74137752,  0.09029206, -0.02101403],\n",
       "       [ 1.49320309,  0.22528196,  0.09029206,  0.89550079,  0.56375637],\n",
       "       [ 1.20383591,  0.15345671, -0.02101403,  0.56375637,  0.53995896]])"
      ]
     },
     "execution_count": 14,
     "metadata": {},
     "output_type": "execute_result"
    }
   ],
   "execution_count": 14
  },
  {
   "metadata": {
    "ExecuteTime": {
     "end_time": "2024-06-29T18:19:16.648638Z",
     "start_time": "2024-06-29T18:19:16.642523Z"
    }
   },
   "cell_type": "code",
   "source": "mat @ inv(mat)",
   "id": "d9b483948aa82d5a",
   "outputs": [
    {
     "data": {
      "text/plain": [
       "array([[ 1.00000000e+00,  2.09951389e-16,  2.69420736e-16,\n",
       "        -2.77372248e-16,  5.48367458e-16],\n",
       "       [-1.48276419e-16,  1.00000000e+00,  4.44650774e-18,\n",
       "         1.35015219e-16,  1.03259641e-15],\n",
       "       [-1.21574919e-15,  3.11315149e-17,  1.00000000e+00,\n",
       "        -2.72834593e-16,  5.45271807e-17],\n",
       "       [ 2.61147939e-15, -1.54705857e-16,  1.16311580e-16,\n",
       "         1.00000000e+00, -6.74893227e-16],\n",
       "       [-8.88671813e-17,  4.20541087e-17,  4.26630251e-17,\n",
       "        -7.43620525e-17,  1.00000000e+00]])"
      ]
     },
     "execution_count": 15,
     "metadata": {},
     "output_type": "execute_result"
    }
   ],
   "execution_count": 15
  },
  {
   "metadata": {},
   "cell_type": "code",
   "outputs": [],
   "execution_count": null,
   "source": "",
   "id": "b6aaa6f2d6008a46"
  }
 ],
 "metadata": {
  "kernelspec": {
   "display_name": "Python 3",
   "language": "python",
   "name": "python3"
  },
  "language_info": {
   "codemirror_mode": {
    "name": "ipython",
    "version": 2
   },
   "file_extension": ".py",
   "mimetype": "text/x-python",
   "name": "python",
   "nbconvert_exporter": "python",
   "pygments_lexer": "ipython2",
   "version": "2.7.6"
  }
 },
 "nbformat": 4,
 "nbformat_minor": 5
}
