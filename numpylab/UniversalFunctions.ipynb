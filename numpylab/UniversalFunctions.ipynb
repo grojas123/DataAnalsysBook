{
 "cells": [
  {
   "cell_type": "code",
   "id": "initial_id",
   "metadata": {
    "collapsed": true,
    "ExecuteTime": {
     "end_time": "2024-06-28T00:34:10.252192Z",
     "start_time": "2024-06-28T00:34:10.248214Z"
    }
   },
   "source": "import numpy as np",
   "outputs": [],
   "execution_count": 2
  },
  {
   "metadata": {
    "ExecuteTime": {
     "end_time": "2024-06-28T00:36:50.071346Z",
     "start_time": "2024-06-28T00:36:50.039658Z"
    }
   },
   "cell_type": "code",
   "source": [
    "arr = np.arange(10)\n",
    "rng = np.random.RandomState(seed=1234)"
   ],
   "id": "144b0f6d428a4826",
   "outputs": [],
   "execution_count": 6
  },
  {
   "metadata": {
    "ExecuteTime": {
     "end_time": "2024-06-28T00:34:15.507220Z",
     "start_time": "2024-06-28T00:34:15.501771Z"
    }
   },
   "cell_type": "code",
   "source": "print(arr)",
   "id": "50120848398d91a3",
   "outputs": [
    {
     "name": "stdout",
     "output_type": "stream",
     "text": [
      "[0 1 2 3 4 5 6 7 8 9]\n"
     ]
    }
   ],
   "execution_count": 4
  },
  {
   "metadata": {
    "ExecuteTime": {
     "end_time": "2024-06-28T00:35:52.632463Z",
     "start_time": "2024-06-28T00:35:52.622044Z"
    }
   },
   "cell_type": "code",
   "source": "np.sqrt(arr)",
   "id": "c58e1bc0c2c92673",
   "outputs": [
    {
     "data": {
      "text/plain": [
       "array([0.        , 1.        , 1.41421356, 1.73205081, 2.        ,\n",
       "       2.23606798, 2.44948974, 2.64575131, 2.82842712, 3.        ])"
      ]
     },
     "execution_count": 5,
     "metadata": {},
     "output_type": "execute_result"
    }
   ],
   "execution_count": 5
  },
  {
   "metadata": {
    "ExecuteTime": {
     "end_time": "2024-06-28T00:38:55.152100Z",
     "start_time": "2024-06-28T00:38:55.146535Z"
    }
   },
   "cell_type": "code",
   "source": "np.exp(arr)",
   "id": "aba60d0ade1e1384",
   "outputs": [
    {
     "data": {
      "text/plain": [
       "array([1.00000000e+00, 2.71828183e+00, 7.38905610e+00, 2.00855369e+01,\n",
       "       5.45981500e+01, 1.48413159e+02, 4.03428793e+02, 1.09663316e+03,\n",
       "       2.98095799e+03, 8.10308393e+03])"
      ]
     },
     "execution_count": 7,
     "metadata": {},
     "output_type": "execute_result"
    }
   ],
   "execution_count": 7
  },
  {
   "metadata": {
    "ExecuteTime": {
     "end_time": "2024-06-28T00:41:18.648400Z",
     "start_time": "2024-06-28T00:41:18.643620Z"
    }
   },
   "cell_type": "code",
   "source": [
    "x = rng.standard_normal(10)\n",
    "print(x)"
   ],
   "id": "38b087356de70502",
   "outputs": [
    {
     "name": "stdout",
     "output_type": "stream",
     "text": [
      "[ 0.47143516 -1.19097569  1.43270697 -0.3126519  -0.72058873  0.88716294\n",
      "  0.85958841 -0.6365235   0.01569637 -2.24268495]\n"
     ]
    }
   ],
   "execution_count": 8
  },
  {
   "metadata": {
    "ExecuteTime": {
     "end_time": "2024-06-28T00:41:29.475123Z",
     "start_time": "2024-06-28T00:41:29.471304Z"
    }
   },
   "cell_type": "code",
   "source": [
    "y = rng.standard_normal(10)\n",
    "print(y)"
   ],
   "id": "7287af138cc2fd1f",
   "outputs": [
    {
     "name": "stdout",
     "output_type": "stream",
     "text": [
      "[ 1.15003572  0.99194602  0.95332413 -2.02125482 -0.33407737  0.00211836\n",
      "  0.40545341  0.28909194  1.32115819 -1.54690555]\n"
     ]
    }
   ],
   "execution_count": 9
  },
  {
   "metadata": {
    "ExecuteTime": {
     "end_time": "2024-06-28T00:41:56.650339Z",
     "start_time": "2024-06-28T00:41:56.643652Z"
    }
   },
   "cell_type": "code",
   "source": "np.maximum(x, y)",
   "id": "3a3a70c3385f728d",
   "outputs": [
    {
     "data": {
      "text/plain": [
       "array([ 1.15003572,  0.99194602,  1.43270697, -0.3126519 , -0.33407737,\n",
       "        0.88716294,  0.85958841,  0.28909194,  1.32115819, -1.54690555])"
      ]
     },
     "execution_count": 10,
     "metadata": {},
     "output_type": "execute_result"
    }
   ],
   "execution_count": 10
  },
  {
   "metadata": {
    "ExecuteTime": {
     "end_time": "2024-06-28T00:55:26.927509Z",
     "start_time": "2024-06-28T00:55:26.923671Z"
    }
   },
   "cell_type": "code",
   "source": "arr = rng.standard_normal(7)*5",
   "id": "8605d05761e88163",
   "outputs": [],
   "execution_count": 11
  },
  {
   "metadata": {
    "ExecuteTime": {
     "end_time": "2024-06-28T00:55:29.134052Z",
     "start_time": "2024-06-28T00:55:29.130118Z"
    }
   },
   "cell_type": "code",
   "source": "print(arr)",
   "id": "92b7d86a9fafc897",
   "outputs": [
    {
     "name": "stdout",
     "output_type": "stream",
     "text": [
      "[-1.01323162 -3.27984672  0.96710688  2.76719455  6.59075777 -2.34652642\n",
      "  3.37777043]\n"
     ]
    }
   ],
   "execution_count": 12
  },
  {
   "metadata": {
    "ExecuteTime": {
     "end_time": "2024-06-28T00:56:48.839861Z",
     "start_time": "2024-06-28T00:56:48.836264Z"
    }
   },
   "cell_type": "code",
   "source": "reminder, whole_part = np.modf(arr)",
   "id": "b4acfa0d74f964b4",
   "outputs": [],
   "execution_count": 13
  },
  {
   "metadata": {
    "ExecuteTime": {
     "end_time": "2024-06-28T00:56:51.874142Z",
     "start_time": "2024-06-28T00:56:51.869763Z"
    }
   },
   "cell_type": "code",
   "source": "print(reminder)",
   "id": "bbce8508a5d64647",
   "outputs": [
    {
     "name": "stdout",
     "output_type": "stream",
     "text": [
      "[-0.01323162 -0.27984672  0.96710688  0.76719455  0.59075777 -0.34652642\n",
      "  0.37777043]\n"
     ]
    }
   ],
   "execution_count": 14
  },
  {
   "metadata": {
    "ExecuteTime": {
     "end_time": "2024-06-28T00:56:55.689108Z",
     "start_time": "2024-06-28T00:56:55.684442Z"
    }
   },
   "cell_type": "code",
   "source": "print(whole_part)",
   "id": "f700b8f915d52051",
   "outputs": [
    {
     "name": "stdout",
     "output_type": "stream",
     "text": [
      "[-1. -3.  0.  2.  6. -2.  3.]\n"
     ]
    }
   ],
   "execution_count": 15
  },
  {
   "metadata": {
    "ExecuteTime": {
     "end_time": "2024-06-28T00:57:34.982782Z",
     "start_time": "2024-06-28T00:57:34.978888Z"
    }
   },
   "cell_type": "code",
   "source": "print(arr)",
   "id": "1920e49e99f49598",
   "outputs": [
    {
     "name": "stdout",
     "output_type": "stream",
     "text": [
      "[-1.01323162 -3.27984672  0.96710688  2.76719455  6.59075777 -2.34652642\n",
      "  3.37777043]\n"
     ]
    }
   ],
   "execution_count": 16
  },
  {
   "metadata": {
    "ExecuteTime": {
     "end_time": "2024-06-28T00:58:50.831796Z",
     "start_time": "2024-06-28T00:58:50.828384Z"
    }
   },
   "cell_type": "code",
   "source": "out = np.zeros_like(arr)",
   "id": "9a4fd3aeaeb41547",
   "outputs": [],
   "execution_count": 17
  },
  {
   "metadata": {
    "ExecuteTime": {
     "end_time": "2024-06-28T00:59:49.951517Z",
     "start_time": "2024-06-28T00:59:49.946566Z"
    }
   },
   "cell_type": "code",
   "source": "print(out)",
   "id": "29396fe35df1313d",
   "outputs": [
    {
     "name": "stdout",
     "output_type": "stream",
     "text": [
      "[0. 0. 0. 0. 0. 0. 0.]\n"
     ]
    }
   ],
   "execution_count": 19
  },
  {
   "metadata": {
    "ExecuteTime": {
     "end_time": "2024-06-28T01:01:10.923721Z",
     "start_time": "2024-06-28T01:01:10.918883Z"
    }
   },
   "cell_type": "code",
   "source": "print(np.add(arr, 1))",
   "id": "addf98eac0ca0ded",
   "outputs": [
    {
     "name": "stdout",
     "output_type": "stream",
     "text": [
      "[-0.01323162 -2.27984672  1.96710688  3.76719455  7.59075777 -1.34652642\n",
      "  4.37777043]\n"
     ]
    }
   ],
   "execution_count": 20
  },
  {
   "metadata": {
    "ExecuteTime": {
     "end_time": "2024-06-28T01:02:03.300660Z",
     "start_time": "2024-06-28T01:02:03.294711Z"
    }
   },
   "cell_type": "code",
   "source": "np.add(arr, 1, out=out)",
   "id": "6d0e3517a956457c",
   "outputs": [
    {
     "data": {
      "text/plain": [
       "array([-0.01323162, -2.27984672,  1.96710688,  3.76719455,  7.59075777,\n",
       "       -1.34652642,  4.37777043])"
      ]
     },
     "execution_count": 21,
     "metadata": {},
     "output_type": "execute_result"
    }
   ],
   "execution_count": 21
  },
  {
   "metadata": {
    "ExecuteTime": {
     "end_time": "2024-06-28T01:02:08.870772Z",
     "start_time": "2024-06-28T01:02:08.865839Z"
    }
   },
   "cell_type": "code",
   "source": "print(out)",
   "id": "9e441468a0b26858",
   "outputs": [
    {
     "name": "stdout",
     "output_type": "stream",
     "text": [
      "[-0.01323162 -2.27984672  1.96710688  3.76719455  7.59075777 -1.34652642\n",
      "  4.37777043]\n"
     ]
    }
   ],
   "execution_count": 22
  }
 ],
 "metadata": {
  "kernelspec": {
   "display_name": "Python 3",
   "language": "python",
   "name": "python3"
  },
  "language_info": {
   "codemirror_mode": {
    "name": "ipython",
    "version": 2
   },
   "file_extension": ".py",
   "mimetype": "text/x-python",
   "name": "python",
   "nbconvert_exporter": "python",
   "pygments_lexer": "ipython2",
   "version": "2.7.6"
  }
 },
 "nbformat": 4,
 "nbformat_minor": 5
}
