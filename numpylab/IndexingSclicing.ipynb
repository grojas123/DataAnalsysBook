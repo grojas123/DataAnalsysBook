{
 "cells": [
  {
   "cell_type": "code",
   "id": "initial_id",
   "metadata": {
    "collapsed": true,
    "jupyter": {
     "is_executing": true
    }
   },
   "source": "import numpy as np",
   "outputs": [],
   "execution_count": null
  },
  {
   "metadata": {
    "ExecuteTime": {
     "end_time": "2024-06-23T18:47:03.457289Z",
     "start_time": "2024-06-23T18:47:03.453438Z"
    }
   },
   "cell_type": "code",
   "source": "arr = np.arange(10)",
   "id": "9a237935c4098c31",
   "outputs": [],
   "execution_count": 7
  },
  {
   "metadata": {
    "ExecuteTime": {
     "end_time": "2024-06-23T18:46:48.348287Z",
     "start_time": "2024-06-23T18:46:48.339366Z"
    }
   },
   "cell_type": "code",
   "source": "arr",
   "id": "dadadaa39afdfd52",
   "outputs": [
    {
     "data": {
      "text/plain": [
       "array([0, 1, 2, 3, 4, 5, 6, 7, 8, 9])"
      ]
     },
     "execution_count": 4,
     "metadata": {},
     "output_type": "execute_result"
    }
   ],
   "execution_count": 4
  },
  {
   "metadata": {
    "ExecuteTime": {
     "end_time": "2024-06-23T18:47:00.771283Z",
     "start_time": "2024-06-23T18:47:00.754754Z"
    }
   },
   "cell_type": "code",
   "source": "arr[5]",
   "id": "f2d3f29679090d55",
   "outputs": [
    {
     "data": {
      "text/plain": [
       "np.int64(5)"
      ]
     },
     "execution_count": 5,
     "metadata": {},
     "output_type": "execute_result"
    }
   ],
   "execution_count": 5
  },
  {
   "metadata": {
    "ExecuteTime": {
     "end_time": "2024-06-23T18:47:20.366347Z",
     "start_time": "2024-06-23T18:47:20.355837Z"
    }
   },
   "cell_type": "code",
   "source": "arr[5:8]",
   "id": "890ab9fb7f89ed22",
   "outputs": [
    {
     "data": {
      "text/plain": [
       "array([5, 6, 7])"
      ]
     },
     "execution_count": 9,
     "metadata": {},
     "output_type": "execute_result"
    }
   ],
   "execution_count": 9
  },
  {
   "metadata": {
    "ExecuteTime": {
     "end_time": "2024-06-23T18:47:43.709657Z",
     "start_time": "2024-06-23T18:47:43.706404Z"
    }
   },
   "cell_type": "code",
   "source": "arr[5:8] = 12",
   "id": "4ad2755c6acbafb4",
   "outputs": [],
   "execution_count": 10
  },
  {
   "metadata": {
    "ExecuteTime": {
     "end_time": "2024-06-23T18:47:47.695795Z",
     "start_time": "2024-06-23T18:47:47.690492Z"
    }
   },
   "cell_type": "code",
   "source": "arr",
   "id": "5e390144ebd32bb0",
   "outputs": [
    {
     "data": {
      "text/plain": [
       "array([ 0,  1,  2,  3,  4, 12, 12, 12,  8,  9])"
      ]
     },
     "execution_count": 11,
     "metadata": {},
     "output_type": "execute_result"
    }
   ],
   "execution_count": 11
  },
  {
   "metadata": {
    "ExecuteTime": {
     "end_time": "2024-06-23T18:48:06.511818Z",
     "start_time": "2024-06-23T18:48:06.508638Z"
    }
   },
   "cell_type": "code",
   "source": "arr_slice = arr[5:8]",
   "id": "b74b9aafb4327b56",
   "outputs": [],
   "execution_count": 12
  },
  {
   "metadata": {
    "ExecuteTime": {
     "end_time": "2024-06-23T18:48:09.420147Z",
     "start_time": "2024-06-23T18:48:09.415806Z"
    }
   },
   "cell_type": "code",
   "source": "arr_slice",
   "id": "76c755c4d478f0c0",
   "outputs": [
    {
     "data": {
      "text/plain": [
       "array([12, 12, 12])"
      ]
     },
     "execution_count": 13,
     "metadata": {},
     "output_type": "execute_result"
    }
   ],
   "execution_count": 13
  },
  {
   "metadata": {
    "ExecuteTime": {
     "end_time": "2024-06-23T18:48:35.495093Z",
     "start_time": "2024-06-23T18:48:35.491865Z"
    }
   },
   "cell_type": "code",
   "source": "arr_slice[1] = 12345",
   "id": "3c4cb846ef9d9d03",
   "outputs": [],
   "execution_count": 14
  },
  {
   "metadata": {
    "ExecuteTime": {
     "end_time": "2024-06-23T18:48:41.296691Z",
     "start_time": "2024-06-23T18:48:41.290278Z"
    }
   },
   "cell_type": "code",
   "source": "arr",
   "id": "fd478a3753f9e9b1",
   "outputs": [
    {
     "data": {
      "text/plain": [
       "array([    0,     1,     2,     3,     4,    12, 12345,    12,     8,\n",
       "           9])"
      ]
     },
     "execution_count": 15,
     "metadata": {},
     "output_type": "execute_result"
    }
   ],
   "execution_count": 15
  },
  {
   "metadata": {
    "ExecuteTime": {
     "end_time": "2024-06-23T18:49:03.766417Z",
     "start_time": "2024-06-23T18:49:03.763206Z"
    }
   },
   "cell_type": "code",
   "source": "arr_slice[:] = 64",
   "id": "72860d0616af5188",
   "outputs": [],
   "execution_count": 16
  },
  {
   "metadata": {
    "ExecuteTime": {
     "end_time": "2024-06-23T18:49:07.784121Z",
     "start_time": "2024-06-23T18:49:07.779305Z"
    }
   },
   "cell_type": "code",
   "source": "arr",
   "id": "8366a0c82dc3c02f",
   "outputs": [
    {
     "data": {
      "text/plain": [
       "array([ 0,  1,  2,  3,  4, 64, 64, 64,  8,  9])"
      ]
     },
     "execution_count": 17,
     "metadata": {},
     "output_type": "execute_result"
    }
   ],
   "execution_count": 17
  },
  {
   "metadata": {
    "ExecuteTime": {
     "end_time": "2024-06-23T18:50:24.624524Z",
     "start_time": "2024-06-23T18:50:24.621162Z"
    }
   },
   "cell_type": "code",
   "source": "arr2d = np.array([[1, 2, 3], [4, 5, 6], [7, 8, 9]])",
   "id": "18b3ded1f080f7df",
   "outputs": [],
   "execution_count": 18
  },
  {
   "metadata": {
    "ExecuteTime": {
     "end_time": "2024-06-23T18:50:30.013383Z",
     "start_time": "2024-06-23T18:50:30.008437Z"
    }
   },
   "cell_type": "code",
   "source": "arr2d[2]",
   "id": "32a4ed23da63276a",
   "outputs": [
    {
     "data": {
      "text/plain": [
       "array([7, 8, 9])"
      ]
     },
     "execution_count": 19,
     "metadata": {},
     "output_type": "execute_result"
    }
   ],
   "execution_count": 19
  },
  {
   "metadata": {
    "ExecuteTime": {
     "end_time": "2024-06-23T18:50:38.719233Z",
     "start_time": "2024-06-23T18:50:38.714720Z"
    }
   },
   "cell_type": "code",
   "source": "arr2d[0][2]",
   "id": "429b6754f08d83b3",
   "outputs": [
    {
     "data": {
      "text/plain": [
       "np.int64(3)"
      ]
     },
     "execution_count": 20,
     "metadata": {},
     "output_type": "execute_result"
    }
   ],
   "execution_count": 20
  },
  {
   "metadata": {
    "ExecuteTime": {
     "end_time": "2024-06-23T18:50:47.626185Z",
     "start_time": "2024-06-23T18:50:47.621764Z"
    }
   },
   "cell_type": "code",
   "source": "arr2d[0, 2]",
   "id": "4e4303432c9098cf",
   "outputs": [
    {
     "data": {
      "text/plain": [
       "np.int64(3)"
      ]
     },
     "execution_count": 21,
     "metadata": {},
     "output_type": "execute_result"
    }
   ],
   "execution_count": 21
  },
  {
   "metadata": {
    "ExecuteTime": {
     "end_time": "2024-06-23T18:51:29.436683Z",
     "start_time": "2024-06-23T18:51:29.433189Z"
    }
   },
   "cell_type": "code",
   "source": "arr3d = np.array([[[1, 2, 3], [4, 5, 6]], [[7, 8, 9], [10, 11, 12]]])",
   "id": "f5d374056d17daa5",
   "outputs": [],
   "execution_count": 22
  },
  {
   "metadata": {
    "ExecuteTime": {
     "end_time": "2024-06-23T18:51:31.858773Z",
     "start_time": "2024-06-23T18:51:31.852379Z"
    }
   },
   "cell_type": "code",
   "source": "arr3d",
   "id": "22c8009956c312b3",
   "outputs": [
    {
     "data": {
      "text/plain": [
       "array([[[ 1,  2,  3],\n",
       "        [ 4,  5,  6]],\n",
       "\n",
       "       [[ 7,  8,  9],\n",
       "        [10, 11, 12]]])"
      ]
     },
     "execution_count": 23,
     "metadata": {},
     "output_type": "execute_result"
    }
   ],
   "execution_count": 23
  },
  {
   "metadata": {
    "ExecuteTime": {
     "end_time": "2024-06-23T18:52:54.071449Z",
     "start_time": "2024-06-23T18:52:54.066769Z"
    }
   },
   "cell_type": "code",
   "source": "arr3d[0]",
   "id": "6e6044fe45ab94c9",
   "outputs": [
    {
     "data": {
      "text/plain": [
       "array([[1, 2, 3],\n",
       "       [4, 5, 6]])"
      ]
     },
     "execution_count": 24,
     "metadata": {},
     "output_type": "execute_result"
    }
   ],
   "execution_count": 24
  },
  {
   "metadata": {
    "ExecuteTime": {
     "end_time": "2024-06-23T18:58:18.899585Z",
     "start_time": "2024-06-23T18:58:18.896482Z"
    }
   },
   "cell_type": "code",
   "source": "old_values = arr3d[0].copy()",
   "id": "33cf96e671f7ceba",
   "outputs": [],
   "execution_count": 25
  },
  {
   "metadata": {
    "ExecuteTime": {
     "end_time": "2024-06-23T18:58:24.696083Z",
     "start_time": "2024-06-23T18:58:24.691151Z"
    }
   },
   "cell_type": "code",
   "source": "arr3d[0] = 42",
   "id": "e7ad9f8ed0ce53d7",
   "outputs": [],
   "execution_count": 26
  },
  {
   "metadata": {
    "ExecuteTime": {
     "end_time": "2024-06-23T18:58:29.026364Z",
     "start_time": "2024-06-23T18:58:29.018967Z"
    }
   },
   "cell_type": "code",
   "source": "arr3d",
   "id": "2d00ef6bbd4faa31",
   "outputs": [
    {
     "data": {
      "text/plain": [
       "array([[[42, 42, 42],\n",
       "        [42, 42, 42]],\n",
       "\n",
       "       [[ 7,  8,  9],\n",
       "        [10, 11, 12]]])"
      ]
     },
     "execution_count": 27,
     "metadata": {},
     "output_type": "execute_result"
    }
   ],
   "execution_count": 27
  },
  {
   "metadata": {
    "ExecuteTime": {
     "end_time": "2024-06-23T19:07:38.085877Z",
     "start_time": "2024-06-23T19:07:38.081683Z"
    }
   },
   "cell_type": "code",
   "source": "arr3d[0] = old_values",
   "id": "4716507bdda03d57",
   "outputs": [],
   "execution_count": 28
  },
  {
   "metadata": {
    "ExecuteTime": {
     "end_time": "2024-06-23T19:07:40.241654Z",
     "start_time": "2024-06-23T19:07:40.235547Z"
    }
   },
   "cell_type": "code",
   "source": "arr3d",
   "id": "74b0292abac49412",
   "outputs": [
    {
     "data": {
      "text/plain": [
       "array([[[ 1,  2,  3],\n",
       "        [ 4,  5,  6]],\n",
       "\n",
       "       [[ 7,  8,  9],\n",
       "        [10, 11, 12]]])"
      ]
     },
     "execution_count": 29,
     "metadata": {},
     "output_type": "execute_result"
    }
   ],
   "execution_count": 29
  },
  {
   "metadata": {
    "ExecuteTime": {
     "end_time": "2024-06-23T19:40:12.296332Z",
     "start_time": "2024-06-23T19:40:12.291017Z"
    }
   },
   "cell_type": "code",
   "source": "arr3d[1, 0]",
   "id": "23bf9bcb6ed50aea",
   "outputs": [
    {
     "data": {
      "text/plain": [
       "array([7, 8, 9])"
      ]
     },
     "execution_count": 30,
     "metadata": {},
     "output_type": "execute_result"
    }
   ],
   "execution_count": 30
  },
  {
   "metadata": {
    "ExecuteTime": {
     "end_time": "2024-06-23T19:40:54.121935Z",
     "start_time": "2024-06-23T19:40:54.118907Z"
    }
   },
   "cell_type": "code",
   "source": "x = arr3d[1]",
   "id": "d7eab0bf9e485f6a",
   "outputs": [],
   "execution_count": 31
  },
  {
   "metadata": {
    "ExecuteTime": {
     "end_time": "2024-06-23T19:40:56.133493Z",
     "start_time": "2024-06-23T19:40:56.128084Z"
    }
   },
   "cell_type": "code",
   "source": "x",
   "id": "97fedaa321edeb62",
   "outputs": [
    {
     "data": {
      "text/plain": [
       "array([[ 7,  8,  9],\n",
       "       [10, 11, 12]])"
      ]
     },
     "execution_count": 32,
     "metadata": {},
     "output_type": "execute_result"
    }
   ],
   "execution_count": 32
  },
  {
   "metadata": {
    "ExecuteTime": {
     "end_time": "2024-06-23T19:41:08.582093Z",
     "start_time": "2024-06-23T19:41:08.576771Z"
    }
   },
   "cell_type": "code",
   "source": "x[0]",
   "id": "125e1ba4788db7b6",
   "outputs": [
    {
     "data": {
      "text/plain": [
       "array([7, 8, 9])"
      ]
     },
     "execution_count": 33,
     "metadata": {},
     "output_type": "execute_result"
    }
   ],
   "execution_count": 33
  },
  {
   "metadata": {
    "ExecuteTime": {
     "end_time": "2024-06-23T19:41:43.407123Z",
     "start_time": "2024-06-23T19:41:43.402379Z"
    }
   },
   "cell_type": "code",
   "source": "arr",
   "id": "49e2bf48c93b8062",
   "outputs": [
    {
     "data": {
      "text/plain": [
       "array([ 0,  1,  2,  3,  4, 64, 64, 64,  8,  9])"
      ]
     },
     "execution_count": 34,
     "metadata": {},
     "output_type": "execute_result"
    }
   ],
   "execution_count": 34
  },
  {
   "metadata": {
    "ExecuteTime": {
     "end_time": "2024-06-23T19:42:03.773813Z",
     "start_time": "2024-06-23T19:42:03.769376Z"
    }
   },
   "cell_type": "code",
   "source": "arr[1:6]",
   "id": "fa115abfa0db6d1f",
   "outputs": [
    {
     "data": {
      "text/plain": [
       "array([ 1,  2,  3,  4, 64])"
      ]
     },
     "execution_count": 35,
     "metadata": {},
     "output_type": "execute_result"
    }
   ],
   "execution_count": 35
  },
  {
   "metadata": {
    "ExecuteTime": {
     "end_time": "2024-06-23T19:42:33.137180Z",
     "start_time": "2024-06-23T19:42:33.130305Z"
    }
   },
   "cell_type": "code",
   "source": "arr2d",
   "id": "5bad13d8dd362504",
   "outputs": [
    {
     "data": {
      "text/plain": [
       "array([[1, 2, 3],\n",
       "       [4, 5, 6],\n",
       "       [7, 8, 9]])"
      ]
     },
     "execution_count": 36,
     "metadata": {},
     "output_type": "execute_result"
    }
   ],
   "execution_count": 36
  },
  {
   "metadata": {
    "ExecuteTime": {
     "end_time": "2024-06-23T19:42:40.000523Z",
     "start_time": "2024-06-23T19:42:39.995844Z"
    }
   },
   "cell_type": "code",
   "source": "arr2d[:2]",
   "id": "6c2912c9b13618db",
   "outputs": [
    {
     "data": {
      "text/plain": [
       "array([[1, 2, 3],\n",
       "       [4, 5, 6]])"
      ]
     },
     "execution_count": 37,
     "metadata": {},
     "output_type": "execute_result"
    }
   ],
   "execution_count": 37
  },
  {
   "metadata": {
    "ExecuteTime": {
     "end_time": "2024-06-23T19:43:01.225480Z",
     "start_time": "2024-06-23T19:43:01.220819Z"
    }
   },
   "cell_type": "code",
   "source": "arr2d[:2, 1:]",
   "id": "235e7741bc9aad82",
   "outputs": [
    {
     "data": {
      "text/plain": [
       "array([[2, 3],\n",
       "       [5, 6]])"
      ]
     },
     "execution_count": 38,
     "metadata": {},
     "output_type": "execute_result"
    }
   ],
   "execution_count": 38
  },
  {
   "metadata": {
    "ExecuteTime": {
     "end_time": "2024-06-23T19:43:24.150166Z",
     "start_time": "2024-06-23T19:43:24.143982Z"
    }
   },
   "cell_type": "code",
   "source": "arr2d[1, :2]",
   "id": "cf481a23a8a73a20",
   "outputs": [
    {
     "data": {
      "text/plain": [
       "array([4, 5])"
      ]
     },
     "execution_count": 39,
     "metadata": {},
     "output_type": "execute_result"
    }
   ],
   "execution_count": 39
  },
  {
   "metadata": {
    "ExecuteTime": {
     "end_time": "2024-06-23T19:45:22.321124Z",
     "start_time": "2024-06-23T19:45:22.318130Z"
    }
   },
   "cell_type": "code",
   "source": "lower_dim_slice = arr2d[1, :2]",
   "id": "502bde7f0569c338",
   "outputs": [],
   "execution_count": 40
  },
  {
   "metadata": {
    "ExecuteTime": {
     "end_time": "2024-06-23T19:45:38.915635Z",
     "start_time": "2024-06-23T19:45:38.911133Z"
    }
   },
   "cell_type": "code",
   "source": "lower_dim_slice.shape",
   "id": "82cd8a0904f6774",
   "outputs": [
    {
     "data": {
      "text/plain": [
       "(2,)"
      ]
     },
     "execution_count": 42,
     "metadata": {},
     "output_type": "execute_result"
    }
   ],
   "execution_count": 42
  },
  {
   "metadata": {
    "ExecuteTime": {
     "end_time": "2024-06-23T19:46:24.885115Z",
     "start_time": "2024-06-23T19:46:24.879859Z"
    }
   },
   "cell_type": "code",
   "source": "arr2d[:2, 2]",
   "id": "4ed3b2a9369c5486",
   "outputs": [
    {
     "data": {
      "text/plain": [
       "array([3, 6])"
      ]
     },
     "execution_count": 43,
     "metadata": {},
     "output_type": "execute_result"
    }
   ],
   "execution_count": 43
  },
  {
   "metadata": {
    "ExecuteTime": {
     "end_time": "2024-06-23T19:48:43.290655Z",
     "start_time": "2024-06-23T19:48:43.285338Z"
    }
   },
   "cell_type": "code",
   "source": "arr2d[:, :1]",
   "id": "295e4e62a4ecfc13",
   "outputs": [
    {
     "data": {
      "text/plain": [
       "array([[1],\n",
       "       [4],\n",
       "       [7]])"
      ]
     },
     "execution_count": 46,
     "metadata": {},
     "output_type": "execute_result"
    }
   ],
   "execution_count": 46
  },
  {
   "metadata": {
    "ExecuteTime": {
     "end_time": "2024-06-23T19:49:05.337744Z",
     "start_time": "2024-06-23T19:49:05.334138Z"
    }
   },
   "cell_type": "code",
   "source": "arr2d[:2, 1:] = 0",
   "id": "f987d47f53eb7212",
   "outputs": [],
   "execution_count": 47
  },
  {
   "metadata": {
    "ExecuteTime": {
     "end_time": "2024-06-23T19:49:10.034331Z",
     "start_time": "2024-06-23T19:49:10.028992Z"
    }
   },
   "cell_type": "code",
   "source": "arr2d",
   "id": "7bad35100978bc2b",
   "outputs": [
    {
     "data": {
      "text/plain": [
       "array([[1, 0, 0],\n",
       "       [4, 0, 0],\n",
       "       [7, 8, 9]])"
      ]
     },
     "execution_count": 48,
     "metadata": {},
     "output_type": "execute_result"
    }
   ],
   "execution_count": 48
  }
 ],
 "metadata": {
  "kernelspec": {
   "display_name": "Python 3",
   "language": "python",
   "name": "python3"
  },
  "language_info": {
   "codemirror_mode": {
    "name": "ipython",
    "version": 2
   },
   "file_extension": ".py",
   "mimetype": "text/x-python",
   "name": "python",
   "nbconvert_exporter": "python",
   "pygments_lexer": "ipython2",
   "version": "2.7.6"
  }
 },
 "nbformat": 4,
 "nbformat_minor": 5
}
