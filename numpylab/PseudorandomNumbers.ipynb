{
 "cells": [
  {
   "cell_type": "code",
   "id": "initial_id",
   "metadata": {
    "collapsed": true,
    "ExecuteTime": {
     "end_time": "2024-06-28T00:19:58.604700Z",
     "start_time": "2024-06-28T00:19:57.454414Z"
    }
   },
   "source": "import numpy as np",
   "outputs": [],
   "execution_count": 2
  },
  {
   "metadata": {
    "ExecuteTime": {
     "end_time": "2024-06-28T00:20:01.303925Z",
     "start_time": "2024-06-28T00:20:01.169005Z"
    }
   },
   "cell_type": "code",
   "source": "samples = np.random.standard_normal(size=(4, 4))",
   "id": "154eaa1ed58cf5ff",
   "outputs": [],
   "execution_count": 3
  },
  {
   "metadata": {
    "ExecuteTime": {
     "end_time": "2024-06-28T00:20:02.811447Z",
     "start_time": "2024-06-28T00:20:02.802570Z"
    }
   },
   "cell_type": "code",
   "source": "samples",
   "id": "7e2bdcb6296642e8",
   "outputs": [
    {
     "data": {
      "text/plain": [
       "array([[-0.42920809,  1.40675887,  2.31367141,  1.4934889 ],\n",
       "       [-1.1024819 , -0.38311663, -0.12534023,  0.7833949 ],\n",
       "       [ 0.06732789,  0.88496248, -0.30519517,  2.49993666],\n",
       "       [ 0.76245774, -0.26809605,  0.64644792, -0.21503602]])"
      ]
     },
     "execution_count": 4,
     "metadata": {},
     "output_type": "execute_result"
    }
   ],
   "execution_count": 4
  },
  {
   "metadata": {
    "ExecuteTime": {
     "end_time": "2024-06-28T00:22:15.894547Z",
     "start_time": "2024-06-28T00:22:15.890643Z"
    }
   },
   "cell_type": "code",
   "source": [
    "from random import normalvariate\n",
    "N=1_000_000"
   ],
   "id": "ed19ee07185b0340",
   "outputs": [],
   "execution_count": 5
  },
  {
   "metadata": {
    "ExecuteTime": {
     "end_time": "2024-06-28T00:23:51.313657Z",
     "start_time": "2024-06-28T00:23:44.960701Z"
    }
   },
   "cell_type": "code",
   "source": "%timeit samples = [normalvariate(0, 1) for _ in range(N)]",
   "id": "16734a5ca7d42479",
   "outputs": [
    {
     "name": "stdout",
     "output_type": "stream",
     "text": [
      "772 ms ± 14.4 ms per loop (mean ± std. dev. of 7 runs, 1 loop each)\n"
     ]
    }
   ],
   "execution_count": 6
  },
  {
   "metadata": {
    "ExecuteTime": {
     "end_time": "2024-06-28T00:23:55.772194Z",
     "start_time": "2024-06-28T00:23:52.414796Z"
    }
   },
   "cell_type": "code",
   "source": "%timeit np.random.standard_normal(N) ",
   "id": "c647f4051ff9137a",
   "outputs": [
    {
     "name": "stdout",
     "output_type": "stream",
     "text": [
      "40.2 ms ± 2.3 ms per loop (mean ± std. dev. of 7 runs, 10 loops each)\n"
     ]
    }
   ],
   "execution_count": 7
  },
  {
   "metadata": {
    "ExecuteTime": {
     "end_time": "2024-06-28T00:27:12.131809Z",
     "start_time": "2024-06-28T00:27:12.128185Z"
    }
   },
   "cell_type": "code",
   "source": "rng = np.random.RandomState(seed=1234)",
   "id": "edac224c00df28d3",
   "outputs": [],
   "execution_count": 8
  },
  {
   "metadata": {
    "ExecuteTime": {
     "end_time": "2024-06-28T00:27:15.399990Z",
     "start_time": "2024-06-28T00:27:15.396623Z"
    }
   },
   "cell_type": "code",
   "source": "data = rng.standard_normal((2, 3))",
   "id": "9749d87c3d9b0560",
   "outputs": [],
   "execution_count": 9
  },
  {
   "metadata": {
    "ExecuteTime": {
     "end_time": "2024-06-28T00:27:53.241340Z",
     "start_time": "2024-06-28T00:27:53.235891Z"
    }
   },
   "cell_type": "code",
   "source": "type(rng)",
   "id": "5f8ec6ac7be25638",
   "outputs": [
    {
     "data": {
      "text/plain": [
       "numpy.random.mtrand.RandomState"
      ]
     },
     "execution_count": 11,
     "metadata": {},
     "output_type": "execute_result"
    }
   ],
   "execution_count": 11
  },
  {
   "metadata": {},
   "cell_type": "code",
   "outputs": [],
   "execution_count": null,
   "source": "",
   "id": "82db41e90318ec3a"
  }
 ],
 "metadata": {
  "kernelspec": {
   "display_name": "Python 3",
   "language": "python",
   "name": "python3"
  },
  "language_info": {
   "codemirror_mode": {
    "name": "ipython",
    "version": 2
   },
   "file_extension": ".py",
   "mimetype": "text/x-python",
   "name": "python",
   "nbconvert_exporter": "python",
   "pygments_lexer": "ipython2",
   "version": "2.7.6"
  }
 },
 "nbformat": 4,
 "nbformat_minor": 5
}
