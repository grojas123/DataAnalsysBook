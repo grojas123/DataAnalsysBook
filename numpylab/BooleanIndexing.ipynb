{
 "cells": [
  {
   "metadata": {
    "ExecuteTime": {
     "end_time": "2024-06-23T19:58:39.272462Z",
     "start_time": "2024-06-23T19:58:38.865417Z"
    }
   },
   "cell_type": "code",
   "source": "import numpy as np",
   "id": "ef1df8a2c1f88374",
   "outputs": [],
   "execution_count": 2
  },
  {
   "metadata": {
    "ExecuteTime": {
     "end_time": "2024-06-23T19:58:41.513030Z",
     "start_time": "2024-06-23T19:58:41.504465Z"
    }
   },
   "cell_type": "code",
   "source": "names = np.array(['Bob', 'Joe', 'Will', 'Bob', 'Will', 'Joe', 'Joe'])",
   "id": "initial_id",
   "outputs": [],
   "execution_count": 3
  },
  {
   "metadata": {
    "ExecuteTime": {
     "end_time": "2024-06-23T19:58:44.025431Z",
     "start_time": "2024-06-23T19:58:44.020892Z"
    }
   },
   "cell_type": "code",
   "source": "data = np.array([[4, 7], [0, 2], [-5, 6], [0, 0], [1, 2],[-12, -4], [3, 4]])",
   "id": "a7787bc555851fd6",
   "outputs": [],
   "execution_count": 4
  },
  {
   "metadata": {
    "ExecuteTime": {
     "end_time": "2024-06-23T19:59:01.354086Z",
     "start_time": "2024-06-23T19:59:01.348928Z"
    }
   },
   "cell_type": "code",
   "source": "names",
   "id": "d05d6eacb1a20fd",
   "outputs": [
    {
     "data": {
      "text/plain": [
       "array(['Bob', 'Joe', 'Will', 'Bob', 'Will', 'Joe', 'Joe'], dtype='<U4')"
      ]
     },
     "execution_count": 6,
     "metadata": {},
     "output_type": "execute_result"
    }
   ],
   "execution_count": 6
  },
  {
   "metadata": {
    "ExecuteTime": {
     "end_time": "2024-06-23T19:59:04.358713Z",
     "start_time": "2024-06-23T19:59:04.353160Z"
    }
   },
   "cell_type": "code",
   "source": "data",
   "id": "507d5c137aaf862a",
   "outputs": [
    {
     "data": {
      "text/plain": [
       "array([[  4,   7],\n",
       "       [  0,   2],\n",
       "       [ -5,   6],\n",
       "       [  0,   0],\n",
       "       [  1,   2],\n",
       "       [-12,  -4],\n",
       "       [  3,   4]])"
      ]
     },
     "execution_count": 7,
     "metadata": {},
     "output_type": "execute_result"
    }
   ],
   "execution_count": 7
  },
  {
   "metadata": {
    "ExecuteTime": {
     "end_time": "2024-06-23T20:03:29.828254Z",
     "start_time": "2024-06-23T20:03:29.823769Z"
    }
   },
   "cell_type": "code",
   "source": "names == 'Bob'",
   "id": "be7f9fb59cb4cbec",
   "outputs": [
    {
     "data": {
      "text/plain": [
       "array([ True, False, False,  True, False, False, False])"
      ]
     },
     "execution_count": 8,
     "metadata": {},
     "output_type": "execute_result"
    }
   ],
   "execution_count": 8
  },
  {
   "metadata": {
    "ExecuteTime": {
     "end_time": "2024-06-23T20:05:02.136305Z",
     "start_time": "2024-06-23T20:05:02.127457Z"
    }
   },
   "cell_type": "code",
   "source": "data[names == 'Bob']",
   "id": "f4f3908eeab27ed9",
   "outputs": [
    {
     "data": {
      "text/plain": [
       "array([[4, 7],\n",
       "       [0, 0]])"
      ]
     },
     "execution_count": 9,
     "metadata": {},
     "output_type": "execute_result"
    }
   ],
   "execution_count": 9
  },
  {
   "metadata": {
    "ExecuteTime": {
     "end_time": "2024-06-23T20:05:59.562671Z",
     "start_time": "2024-06-23T20:05:59.557520Z"
    }
   },
   "cell_type": "code",
   "source": "data[names == 'Bob', 1]",
   "id": "b146420280ab6d05",
   "outputs": [
    {
     "data": {
      "text/plain": [
       "array([7, 0])"
      ]
     },
     "execution_count": 10,
     "metadata": {},
     "output_type": "execute_result"
    }
   ],
   "execution_count": 10
  },
  {
   "metadata": {
    "ExecuteTime": {
     "end_time": "2024-06-23T20:06:11.655870Z",
     "start_time": "2024-06-23T20:06:11.649748Z"
    }
   },
   "cell_type": "code",
   "source": "data[names != 'Bob']",
   "id": "47a0447a2f2b7d78",
   "outputs": [
    {
     "data": {
      "text/plain": [
       "array([[  0,   2],\n",
       "       [ -5,   6],\n",
       "       [  1,   2],\n",
       "       [-12,  -4],\n",
       "       [  3,   4]])"
      ]
     },
     "execution_count": 11,
     "metadata": {},
     "output_type": "execute_result"
    }
   ],
   "execution_count": 11
  },
  {
   "metadata": {
    "ExecuteTime": {
     "end_time": "2024-06-23T20:06:29.905362Z",
     "start_time": "2024-06-23T20:06:29.897534Z"
    }
   },
   "cell_type": "code",
   "source": "~(names == 'Bob')",
   "id": "5c5176e1fb320c9d",
   "outputs": [
    {
     "data": {
      "text/plain": [
       "array([False,  True,  True, False,  True,  True,  True])"
      ]
     },
     "execution_count": 12,
     "metadata": {},
     "output_type": "execute_result"
    }
   ],
   "execution_count": 12
  },
  {
   "metadata": {
    "ExecuteTime": {
     "end_time": "2024-06-23T20:06:49.658095Z",
     "start_time": "2024-06-23T20:06:49.653121Z"
    }
   },
   "cell_type": "code",
   "source": "data[~(names == 'Bob')]",
   "id": "de1c954920249ec6",
   "outputs": [
    {
     "data": {
      "text/plain": [
       "array([[  0,   2],\n",
       "       [ -5,   6],\n",
       "       [  1,   2],\n",
       "       [-12,  -4],\n",
       "       [  3,   4]])"
      ]
     },
     "execution_count": 13,
     "metadata": {},
     "output_type": "execute_result"
    }
   ],
   "execution_count": 13
  },
  {
   "metadata": {
    "ExecuteTime": {
     "end_time": "2024-06-23T20:07:24.849248Z",
     "start_time": "2024-06-23T20:07:24.845990Z"
    }
   },
   "cell_type": "code",
   "source": "cond = names == 'Bob'",
   "id": "6fe43ebba1daa16a",
   "outputs": [],
   "execution_count": 14
  },
  {
   "metadata": {
    "ExecuteTime": {
     "end_time": "2024-06-23T20:07:27.923733Z",
     "start_time": "2024-06-23T20:07:27.917124Z"
    }
   },
   "cell_type": "code",
   "source": "data[~cond]",
   "id": "26be557958a610e8",
   "outputs": [
    {
     "data": {
      "text/plain": [
       "array([[  0,   2],\n",
       "       [ -5,   6],\n",
       "       [  1,   2],\n",
       "       [-12,  -4],\n",
       "       [  3,   4]])"
      ]
     },
     "execution_count": 15,
     "metadata": {},
     "output_type": "execute_result"
    }
   ],
   "execution_count": 15
  },
  {
   "metadata": {
    "ExecuteTime": {
     "end_time": "2024-06-23T20:08:03.950192Z",
     "start_time": "2024-06-23T20:08:03.945593Z"
    }
   },
   "cell_type": "code",
   "source": "mask = (names == 'Bob') | (names == 'Will')",
   "id": "779e5af76fffa050",
   "outputs": [],
   "execution_count": 16
  },
  {
   "metadata": {
    "ExecuteTime": {
     "end_time": "2024-06-23T20:08:06.658861Z",
     "start_time": "2024-06-23T20:08:06.654301Z"
    }
   },
   "cell_type": "code",
   "source": "mask",
   "id": "5966cfb730082bd5",
   "outputs": [
    {
     "data": {
      "text/plain": [
       "array([ True, False,  True,  True,  True, False, False])"
      ]
     },
     "execution_count": 17,
     "metadata": {},
     "output_type": "execute_result"
    }
   ],
   "execution_count": 17
  },
  {
   "metadata": {
    "ExecuteTime": {
     "end_time": "2024-06-23T20:08:19.221187Z",
     "start_time": "2024-06-23T20:08:19.215546Z"
    }
   },
   "cell_type": "code",
   "source": "data[mask]",
   "id": "c7521255eb03d02e",
   "outputs": [
    {
     "data": {
      "text/plain": [
       "array([[ 4,  7],\n",
       "       [-5,  6],\n",
       "       [ 0,  0],\n",
       "       [ 1,  2]])"
      ]
     },
     "execution_count": 18,
     "metadata": {},
     "output_type": "execute_result"
    }
   ],
   "execution_count": 18
  },
  {
   "metadata": {
    "ExecuteTime": {
     "end_time": "2024-06-23T20:11:32.474271Z",
     "start_time": "2024-06-23T20:11:32.467818Z"
    }
   },
   "cell_type": "code",
   "source": "data[data < 0] = 0",
   "id": "1c14bd2dc4abb53",
   "outputs": [],
   "execution_count": 19
  },
  {
   "metadata": {
    "ExecuteTime": {
     "end_time": "2024-06-23T20:11:39.211285Z",
     "start_time": "2024-06-23T20:11:39.205889Z"
    }
   },
   "cell_type": "code",
   "source": "data",
   "id": "aeb9290c97039146",
   "outputs": [
    {
     "data": {
      "text/plain": [
       "array([[4, 7],\n",
       "       [0, 2],\n",
       "       [0, 6],\n",
       "       [0, 0],\n",
       "       [1, 2],\n",
       "       [0, 0],\n",
       "       [3, 4]])"
      ]
     },
     "execution_count": 20,
     "metadata": {},
     "output_type": "execute_result"
    }
   ],
   "execution_count": 20
  },
  {
   "metadata": {
    "ExecuteTime": {
     "end_time": "2024-06-23T20:12:19.065089Z",
     "start_time": "2024-06-23T20:12:19.060806Z"
    }
   },
   "cell_type": "code",
   "source": "data[names != 'Joe'] = 7",
   "id": "e70380ca1268ba55",
   "outputs": [],
   "execution_count": 21
  },
  {
   "metadata": {
    "ExecuteTime": {
     "end_time": "2024-06-23T20:12:23.283456Z",
     "start_time": "2024-06-23T20:12:23.278269Z"
    }
   },
   "cell_type": "code",
   "source": "data",
   "id": "a0ccf79a5ff04ac0",
   "outputs": [
    {
     "data": {
      "text/plain": [
       "array([[7, 7],\n",
       "       [0, 2],\n",
       "       [7, 7],\n",
       "       [7, 7],\n",
       "       [7, 7],\n",
       "       [0, 0],\n",
       "       [3, 4]])"
      ]
     },
     "execution_count": 22,
     "metadata": {},
     "output_type": "execute_result"
    }
   ],
   "execution_count": 22
  },
  {
   "metadata": {},
   "cell_type": "code",
   "outputs": [],
   "execution_count": null,
   "source": "",
   "id": "812a591ecca2da0"
  }
 ],
 "metadata": {
  "kernelspec": {
   "display_name": "Python 3",
   "language": "python",
   "name": "python3"
  },
  "language_info": {
   "codemirror_mode": {
    "name": "ipython",
    "version": 2
   },
   "file_extension": ".py",
   "mimetype": "text/x-python",
   "name": "python",
   "nbconvert_exporter": "python",
   "pygments_lexer": "ipython2",
   "version": "2.7.6"
  }
 },
 "nbformat": 4,
 "nbformat_minor": 5
}
