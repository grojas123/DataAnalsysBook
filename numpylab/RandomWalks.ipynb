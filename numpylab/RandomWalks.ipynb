{
 "cells": [
  {
   "cell_type": "code",
   "id": "initial_id",
   "metadata": {
    "collapsed": true,
    "ExecuteTime": {
     "end_time": "2024-06-29T19:04:27.357245Z",
     "start_time": "2024-06-29T19:04:27.350955Z"
    }
   },
   "source": [
    "#! blockstart\n",
    "import random\n",
    "\n",
    "import numpy as np\n",
    "\n",
    "position = 0\n",
    "walk = [position]\n",
    "nsteps = 1000\n",
    "for _ in range(nsteps):\n",
    "    step = 1 if random.randint(0, 1) else -1\n",
    "    position += step\n",
    "    walk.append(position)\n",
    "#! blockend"
   ],
   "outputs": [],
   "execution_count": 9
  },
  {
   "metadata": {
    "ExecuteTime": {
     "end_time": "2024-06-29T19:05:12.928618Z",
     "start_time": "2024-06-29T19:05:12.753594Z"
    }
   },
   "cell_type": "code",
   "source": [
    "import matplotlib.pyplot as plt\n",
    "rng = np.random.RandomState(seed=1234)\n",
    "plt.plot(walk[:100])"
   ],
   "id": "d6495bc278a013f9",
   "outputs": [
    {
     "data": {
      "text/plain": [
       "[<matplotlib.lines.Line2D at 0x113f5a3d0>]"
      ]
     },
     "execution_count": 14,
     "metadata": {},
     "output_type": "execute_result"
    },
    {
     "data": {
      "text/plain": [
       "<Figure size 640x480 with 1 Axes>"
      ],
      "image/png": "[encoded data removed]"
     },
     "metadata": {},
     "output_type": "display_data"
    }
   ],
   "execution_count": 14
  },
  {
   "metadata": {
    "ExecuteTime": {
     "end_time": "2024-06-29T19:05:14.931087Z",
     "start_time": "2024-06-29T19:05:14.927823Z"
    }
   },
   "cell_type": "code",
   "source": "nsteps = 1000",
   "id": "6af87c02ac6f150c",
   "outputs": [],
   "execution_count": 15
  },
  {
   "metadata": {
    "ExecuteTime": {
     "end_time": "2024-06-29T19:05:15.777799Z",
     "start_time": "2024-06-29T19:05:15.774354Z"
    }
   },
   "cell_type": "code",
   "source": "rng = np.random.default_rng(seed=12345)",
   "id": "b6cf3ac9e2281d44",
   "outputs": [],
   "execution_count": 16
  },
  {
   "metadata": {
    "ExecuteTime": {
     "end_time": "2024-06-29T19:05:32.467544Z",
     "start_time": "2024-06-29T19:05:32.464431Z"
    }
   },
   "cell_type": "code",
   "source": "draws = rng.integers(0, 2, size=nsteps)",
   "id": "78c3423260453633",
   "outputs": [],
   "execution_count": 18
  },
  {
   "metadata": {
    "ExecuteTime": {
     "end_time": "2024-06-29T19:18:56.525705Z",
     "start_time": "2024-06-29T19:18:56.521463Z"
    }
   },
   "cell_type": "code",
   "source": "steps=np.where(draws == 0, 1, -1)",
   "id": "67111ff1f2addf8d",
   "outputs": [],
   "execution_count": 19
  },
  {
   "metadata": {
    "ExecuteTime": {
     "end_time": "2024-06-29T19:19:08.796221Z",
     "start_time": "2024-06-29T19:19:08.793037Z"
    }
   },
   "cell_type": "code",
   "source": "walk = steps.cumsum()",
   "id": "d01e2bd64e7e557f",
   "outputs": [],
   "execution_count": 20
  },
  {
   "metadata": {
    "ExecuteTime": {
     "end_time": "2024-06-29T19:19:29.156791Z",
     "start_time": "2024-06-29T19:19:29.152069Z"
    }
   },
   "cell_type": "code",
   "source": "walk.min()",
   "id": "82f8717771c07c06",
   "outputs": [
    {
     "data": {
      "text/plain": [
       "np.int64(-8)"
      ]
     },
     "execution_count": 21,
     "metadata": {},
     "output_type": "execute_result"
    }
   ],
   "execution_count": 21
  },
  {
   "metadata": {
    "ExecuteTime": {
     "end_time": "2024-06-29T19:19:41.243311Z",
     "start_time": "2024-06-29T19:19:41.238499Z"
    }
   },
   "cell_type": "code",
   "source": "walk.max()",
   "id": "8cd78be67a134371",
   "outputs": [
    {
     "data": {
      "text/plain": [
       "np.int64(50)"
      ]
     },
     "execution_count": 22,
     "metadata": {},
     "output_type": "execute_result"
    }
   ],
   "execution_count": 22
  },
  {
   "metadata": {
    "ExecuteTime": {
     "end_time": "2024-06-29T19:20:11.382817Z",
     "start_time": "2024-06-29T19:20:11.377739Z"
    }
   },
   "cell_type": "code",
   "source": "(np.abs(walk) >= 10).argmax()",
   "id": "7942a89065fd7a72",
   "outputs": [
    {
     "data": {
      "text/plain": [
       "np.int64(155)"
      ]
     },
     "execution_count": 23,
     "metadata": {},
     "output_type": "execute_result"
    }
   ],
   "execution_count": 23
  },
  {
   "metadata": {
    "ExecuteTime": {
     "end_time": "2024-06-29T19:21:35.234597Z",
     "start_time": "2024-06-29T19:21:35.108954Z"
    }
   },
   "cell_type": "code",
   "source": [
    "nwalks = 5000\n",
    "nsteps = 1000\n",
    "draws = rng.integers(0, 2, size=(nwalks, nsteps))\n",
    "steps = np.where(draws > 0, 1, -1)\n",
    "walks = steps.cumsum(axis=1)\n",
    "walks"
   ],
   "id": "1395fd8c609558b8",
   "outputs": [
    {
     "data": {
      "text/plain": [
       "array([[  1,   2,   3, ...,  22,  23,  22],\n",
       "       [  1,   0,  -1, ..., -50, -49, -48],\n",
       "       [  1,   2,   3, ...,  50,  49,  48],\n",
       "       ...,\n",
       "       [ -1,  -2,  -1, ..., -10,  -9, -10],\n",
       "       [ -1,  -2,  -3, ...,   8,   9,   8],\n",
       "       [ -1,   0,   1, ...,  -4,  -3,  -2]])"
      ]
     },
     "execution_count": 24,
     "metadata": {},
     "output_type": "execute_result"
    }
   ],
   "execution_count": 24
  },
  {
   "metadata": {
    "ExecuteTime": {
     "end_time": "2024-06-29T19:25:23.845359Z",
     "start_time": "2024-06-29T19:25:23.836859Z"
    }
   },
   "cell_type": "code",
   "source": "walks.max()",
   "id": "5ff4a6b214b87128",
   "outputs": [
    {
     "data": {
      "text/plain": [
       "np.int64(114)"
      ]
     },
     "execution_count": 25,
     "metadata": {},
     "output_type": "execute_result"
    }
   ],
   "execution_count": 25
  },
  {
   "metadata": {
    "ExecuteTime": {
     "end_time": "2024-06-29T19:25:30.420402Z",
     "start_time": "2024-06-29T19:25:30.411825Z"
    }
   },
   "cell_type": "code",
   "source": "walks.min()",
   "id": "96ff5ab5dfe66f5e",
   "outputs": [
    {
     "data": {
      "text/plain": [
       "np.int64(-120)"
      ]
     },
     "execution_count": 26,
     "metadata": {},
     "output_type": "execute_result"
    }
   ],
   "execution_count": 26
  },
  {
   "metadata": {
    "ExecuteTime": {
     "end_time": "2024-06-29T19:25:58.339367Z",
     "start_time": "2024-06-29T19:25:58.300361Z"
    }
   },
   "cell_type": "code",
   "source": "hits30 = (np.abs(walks) >= 30).any(1)\n",
   "id": "ecd943e4b9100d5c",
   "outputs": [],
   "execution_count": 27
  },
  {
   "metadata": {
    "ExecuteTime": {
     "end_time": "2024-06-29T19:26:01.204622Z",
     "start_time": "2024-06-29T19:26:01.200261Z"
    }
   },
   "cell_type": "code",
   "source": "hits30",
   "id": "cc7c0b7e79e49004",
   "outputs": [
    {
     "data": {
      "text/plain": [
       "array([False,  True,  True, ...,  True, False,  True])"
      ]
     },
     "execution_count": 28,
     "metadata": {},
     "output_type": "execute_result"
    }
   ],
   "execution_count": 28
  },
  {
   "metadata": {
    "ExecuteTime": {
     "end_time": "2024-06-29T19:26:27.347314Z",
     "start_time": "2024-06-29T19:26:27.342419Z"
    }
   },
   "cell_type": "code",
   "source": "hits30.sum()",
   "id": "4d9d4192bde980f5",
   "outputs": [
    {
     "data": {
      "text/plain": [
       "np.int64(3395)"
      ]
     },
     "execution_count": 29,
     "metadata": {},
     "output_type": "execute_result"
    }
   ],
   "execution_count": 29
  },
  {
   "metadata": {
    "ExecuteTime": {
     "end_time": "2024-06-29T19:26:46.123863Z",
     "start_time": "2024-06-29T19:26:46.078005Z"
    }
   },
   "cell_type": "code",
   "source": "crossing_times = (np.abs(walks[hits30]) >= 30).argmax(1)",
   "id": "5ce47cddef136632",
   "outputs": [],
   "execution_count": 30
  },
  {
   "metadata": {
    "ExecuteTime": {
     "end_time": "2024-06-29T19:26:50.833750Z",
     "start_time": "2024-06-29T19:26:50.828584Z"
    }
   },
   "cell_type": "code",
   "source": "crossing_times",
   "id": "dc73ebb717d83dfd",
   "outputs": [
    {
     "data": {
      "text/plain": [
       "array([201, 491, 283, ..., 219, 259, 541])"
      ]
     },
     "execution_count": 31,
     "metadata": {},
     "output_type": "execute_result"
    }
   ],
   "execution_count": 31
  },
  {
   "metadata": {
    "ExecuteTime": {
     "end_time": "2024-06-29T19:27:07.315398Z",
     "start_time": "2024-06-29T19:27:07.310160Z"
    }
   },
   "cell_type": "code",
   "source": "crossing_times.mean()",
   "id": "9ecd024f36111956",
   "outputs": [
    {
     "data": {
      "text/plain": [
       "np.float64(500.5699558173785)"
      ]
     },
     "execution_count": 32,
     "metadata": {},
     "output_type": "execute_result"
    }
   ],
   "execution_count": 32
  },
  {
   "metadata": {
    "ExecuteTime": {
     "end_time": "2024-06-29T19:27:47.819567Z",
     "start_time": "2024-06-29T19:27:47.710667Z"
    }
   },
   "cell_type": "code",
   "source": "draws = 0.25 * rng.standard_normal((nwalks, nsteps))",
   "id": "1f38e6e220de0a3d",
   "outputs": [],
   "execution_count": 33
  },
  {
   "metadata": {},
   "cell_type": "code",
   "outputs": [],
   "execution_count": null,
   "source": "",
   "id": "1bc02e4de38ba322"
  }
 ],
 "metadata": {
  "kernelspec": {
   "display_name": "Python 3",
   "language": "python",
   "name": "python3"
  },
  "language_info": {
   "codemirror_mode": {
    "name": "ipython",
    "version": 2
   },
   "file_extension": ".py",
   "mimetype": "text/x-python",
   "name": "python",
   "nbconvert_exporter": "python",
   "pygments_lexer": "ipython2",
   "version": "2.7.6"
  }
 },
 "nbformat": 4,
 "nbformat_minor": 5
}
