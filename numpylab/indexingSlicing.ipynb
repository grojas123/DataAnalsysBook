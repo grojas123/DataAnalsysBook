{
 "cells": [
  {
   "cell_type": "code",
   "id": "initial_id",
   "metadata": {
    "collapsed": true,
    "ExecuteTime": {
     "end_time": "2024-06-19T23:42:12.568291Z",
     "start_time": "2024-06-19T23:42:12.459762Z"
    }
   },
   "source": "import numpy as np",
   "outputs": [],
   "execution_count": 1
  },
  {
   "metadata": {
    "ExecuteTime": {
     "end_time": "2024-06-19T23:42:14.464300Z",
     "start_time": "2024-06-19T23:42:14.458553Z"
    }
   },
   "cell_type": "code",
   "source": "arr = np.arange(10)",
   "id": "807cacc8b6904bd0",
   "outputs": [],
   "execution_count": 2
  },
  {
   "metadata": {
    "ExecuteTime": {
     "end_time": "2024-06-19T23:42:19.256563Z",
     "start_time": "2024-06-19T23:42:19.247440Z"
    }
   },
   "cell_type": "code",
   "source": "arr",
   "id": "3cbb9af1e5df6c9f",
   "outputs": [
    {
     "data": {
      "text/plain": [
       "array([0, 1, 2, 3, 4, 5, 6, 7, 8, 9])"
      ]
     },
     "execution_count": 3,
     "metadata": {},
     "output_type": "execute_result"
    }
   ],
   "execution_count": 3
  },
  {
   "metadata": {
    "ExecuteTime": {
     "end_time": "2024-06-19T23:42:29.846954Z",
     "start_time": "2024-06-19T23:42:29.840930Z"
    }
   },
   "cell_type": "code",
   "source": "arr[5]",
   "id": "3a0184b6b467d740",
   "outputs": [
    {
     "data": {
      "text/plain": [
       "np.int64(5)"
      ]
     },
     "execution_count": 4,
     "metadata": {},
     "output_type": "execute_result"
    }
   ],
   "execution_count": 4
  },
  {
   "metadata": {
    "ExecuteTime": {
     "end_time": "2024-06-19T23:42:35.726275Z",
     "start_time": "2024-06-19T23:42:35.717765Z"
    }
   },
   "cell_type": "code",
   "source": "arr[5:8]",
   "id": "295adf45e94d6797",
   "outputs": [
    {
     "data": {
      "text/plain": [
       "array([5, 6, 7])"
      ]
     },
     "execution_count": 5,
     "metadata": {},
     "output_type": "execute_result"
    }
   ],
   "execution_count": 5
  },
  {
   "metadata": {
    "ExecuteTime": {
     "end_time": "2024-06-19T23:42:46.052877Z",
     "start_time": "2024-06-19T23:42:46.048226Z"
    }
   },
   "cell_type": "code",
   "source": "arr[5:8] = 12",
   "id": "ac24483d1ca2ec9b",
   "outputs": [],
   "execution_count": 6
  },
  {
   "metadata": {
    "ExecuteTime": {
     "end_time": "2024-06-19T23:42:49.722262Z",
     "start_time": "2024-06-19T23:42:49.716599Z"
    }
   },
   "cell_type": "code",
   "source": "arr",
   "id": "840b899bf38cd263",
   "outputs": [
    {
     "data": {
      "text/plain": [
       "array([ 0,  1,  2,  3,  4, 12, 12, 12,  8,  9])"
      ]
     },
     "execution_count": 7,
     "metadata": {},
     "output_type": "execute_result"
    }
   ],
   "execution_count": 7
  },
  {
   "metadata": {
    "ExecuteTime": {
     "end_time": "2024-06-19T23:43:44.172198Z",
     "start_time": "2024-06-19T23:43:44.167201Z"
    }
   },
   "cell_type": "code",
   "source": "arr_slice = arr[5:8]",
   "id": "35907abc289ee747",
   "outputs": [],
   "execution_count": 8
  },
  {
   "metadata": {
    "ExecuteTime": {
     "end_time": "2024-06-19T23:43:47.788907Z",
     "start_time": "2024-06-19T23:43:47.783846Z"
    }
   },
   "cell_type": "code",
   "source": "arr_slice",
   "id": "86cef3426d1179ab",
   "outputs": [
    {
     "data": {
      "text/plain": [
       "array([12, 12, 12])"
      ]
     },
     "execution_count": 9,
     "metadata": {},
     "output_type": "execute_result"
    }
   ],
   "execution_count": 9
  },
  {
   "metadata": {
    "ExecuteTime": {
     "end_time": "2024-06-19T23:44:02.627299Z",
     "start_time": "2024-06-19T23:44:02.622918Z"
    }
   },
   "cell_type": "code",
   "source": "arr_slice[1] = 12345",
   "id": "5a740ee616e0397b",
   "outputs": [],
   "execution_count": 10
  },
  {
   "metadata": {
    "ExecuteTime": {
     "end_time": "2024-06-19T23:44:07.660824Z",
     "start_time": "2024-06-19T23:44:07.655664Z"
    }
   },
   "cell_type": "code",
   "source": "arr",
   "id": "420c60ad4c7c91fa",
   "outputs": [
    {
     "data": {
      "text/plain": [
       "array([    0,     1,     2,     3,     4,    12, 12345,    12,     8,\n",
       "           9])"
      ]
     },
     "execution_count": 11,
     "metadata": {},
     "output_type": "execute_result"
    }
   ],
   "execution_count": 11
  },
  {
   "metadata": {
    "ExecuteTime": {
     "end_time": "2024-06-19T23:44:49.537885Z",
     "start_time": "2024-06-19T23:44:49.533080Z"
    }
   },
   "cell_type": "code",
   "source": "arr_slice[:] = 64",
   "id": "a4a325c7397f402f",
   "outputs": [],
   "execution_count": 12
  },
  {
   "metadata": {
    "ExecuteTime": {
     "end_time": "2024-06-19T23:44:53.292365Z",
     "start_time": "2024-06-19T23:44:53.286435Z"
    }
   },
   "cell_type": "code",
   "source": "arr",
   "id": "b9577b2e12524ebb",
   "outputs": [
    {
     "data": {
      "text/plain": [
       "array([ 0,  1,  2,  3,  4, 64, 64, 64,  8,  9])"
      ]
     },
     "execution_count": 13,
     "metadata": {},
     "output_type": "execute_result"
    }
   ],
   "execution_count": 13
  },
  {
   "metadata": {
    "ExecuteTime": {
     "end_time": "2024-06-19T23:49:54.441822Z",
     "start_time": "2024-06-19T23:49:54.437949Z"
    }
   },
   "cell_type": "code",
   "source": "arr2d = np.array([[1, 2, 3], [4, 5, 6], [7, 8, 9]])",
   "id": "78a511a96d730ca6",
   "outputs": [],
   "execution_count": 18
  },
  {
   "metadata": {
    "ExecuteTime": {
     "end_time": "2024-06-19T23:49:57.180618Z",
     "start_time": "2024-06-19T23:49:57.173521Z"
    }
   },
   "cell_type": "code",
   "source": "arr2d[2]",
   "id": "ba5bb7a4778e1832",
   "outputs": [
    {
     "data": {
      "text/plain": [
       "array([7, 8, 9])"
      ]
     },
     "execution_count": 19,
     "metadata": {},
     "output_type": "execute_result"
    }
   ],
   "execution_count": 19
  },
  {
   "metadata": {
    "ExecuteTime": {
     "end_time": "2024-06-19T23:49:36.154258Z",
     "start_time": "2024-06-19T23:49:36.148988Z"
    }
   },
   "cell_type": "code",
   "source": "arr2d[0][2]",
   "id": "7eef185700bec8dc",
   "outputs": [
    {
     "data": {
      "text/plain": [
       "np.int64(3)"
      ]
     },
     "execution_count": 16,
     "metadata": {},
     "output_type": "execute_result"
    }
   ],
   "execution_count": 16
  },
  {
   "metadata": {
    "ExecuteTime": {
     "end_time": "2024-06-19T23:50:40.682966Z",
     "start_time": "2024-06-19T23:50:40.675541Z"
    }
   },
   "cell_type": "code",
   "source": "arr2d[0, 2]",
   "id": "18cbf6f0a4f5ef65",
   "outputs": [
    {
     "data": {
      "text/plain": [
       "np.int64(3)"
      ]
     },
     "execution_count": 20,
     "metadata": {},
     "output_type": "execute_result"
    }
   ],
   "execution_count": 20
  },
  {
   "metadata": {
    "ExecuteTime": {
     "end_time": "2024-06-19T23:51:19.152399Z",
     "start_time": "2024-06-19T23:51:19.146556Z"
    }
   },
   "cell_type": "code",
   "source": "arr3d = np.array([[[1, 2, 3], [4, 5, 6]], [[7, 8, 9], [10, 11, 12]]])",
   "id": "2ad9549d90fc4062",
   "outputs": [],
   "execution_count": 21
  },
  {
   "metadata": {
    "ExecuteTime": {
     "end_time": "2024-06-19T23:51:22.513874Z",
     "start_time": "2024-06-19T23:51:22.508625Z"
    }
   },
   "cell_type": "code",
   "source": "arr3d",
   "id": "6cfb7956accd955f",
   "outputs": [
    {
     "data": {
      "text/plain": [
       "array([[[ 1,  2,  3],\n",
       "        [ 4,  5,  6]],\n",
       "\n",
       "       [[ 7,  8,  9],\n",
       "        [10, 11, 12]]])"
      ]
     },
     "execution_count": 22,
     "metadata": {},
     "output_type": "execute_result"
    }
   ],
   "execution_count": 22
  },
  {
   "metadata": {
    "ExecuteTime": {
     "end_time": "2024-06-19T23:51:40.838254Z",
     "start_time": "2024-06-19T23:51:40.830826Z"
    }
   },
   "cell_type": "code",
   "source": "arr3d[0]",
   "id": "e89391d4075024c1",
   "outputs": [
    {
     "data": {
      "text/plain": [
       "array([[1, 2, 3],\n",
       "       [4, 5, 6]])"
      ]
     },
     "execution_count": 23,
     "metadata": {},
     "output_type": "execute_result"
    }
   ],
   "execution_count": 23
  },
  {
   "metadata": {},
   "cell_type": "code",
   "outputs": [],
   "execution_count": null,
   "source": "",
   "id": "5fb5a5cfda0309df"
  }
 ],
 "metadata": {
  "kernelspec": {
   "display_name": "Python 3",
   "language": "python",
   "name": "python3"
  },
  "language_info": {
   "codemirror_mode": {
    "name": "ipython",
    "version": 2
   },
   "file_extension": ".py",
   "mimetype": "text/x-python",
   "name": "python",
   "nbconvert_exporter": "python",
   "pygments_lexer": "ipython2",
   "version": "2.7.6"
  }
 },
 "nbformat": 4,
 "nbformat_minor": 5
}
