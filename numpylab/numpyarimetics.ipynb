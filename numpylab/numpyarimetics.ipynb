{
 "cells": [
  {
   "cell_type": "code",
   "id": "initial_id",
   "metadata": {
    "collapsed": true,
    "ExecuteTime": {
     "end_time": "2024-06-19T23:34:38.355650Z",
     "start_time": "2024-06-19T23:34:38.253910Z"
    }
   },
   "source": [
    "import numpy as np\n",
    "arr = np.array([[1., 2., 3.], [4., 5., 6.]])"
   ],
   "outputs": [],
   "execution_count": 1
  },
  {
   "metadata": {
    "ExecuteTime": {
     "end_time": "2024-06-19T23:34:40.507321Z",
     "start_time": "2024-06-19T23:34:40.495896Z"
    }
   },
   "cell_type": "code",
   "source": "arr * arr",
   "id": "9d630957c70f9bcf",
   "outputs": [
    {
     "data": {
      "text/plain": [
       "array([[ 1.,  4.,  9.],\n",
       "       [16., 25., 36.]])"
      ]
     },
     "execution_count": 2,
     "metadata": {},
     "output_type": "execute_result"
    }
   ],
   "execution_count": 2
  },
  {
   "metadata": {
    "ExecuteTime": {
     "end_time": "2024-06-19T23:38:17.109490Z",
     "start_time": "2024-06-19T23:38:17.103793Z"
    }
   },
   "cell_type": "code",
   "source": "arr - arr",
   "id": "f7ef6cd0d56bf7b6",
   "outputs": [
    {
     "data": {
      "text/plain": [
       "array([[0., 0., 0.],\n",
       "       [0., 0., 0.]])"
      ]
     },
     "execution_count": 3,
     "metadata": {},
     "output_type": "execute_result"
    }
   ],
   "execution_count": 3
  },
  {
   "metadata": {
    "ExecuteTime": {
     "end_time": "2024-06-19T23:38:26.577665Z",
     "start_time": "2024-06-19T23:38:26.570423Z"
    }
   },
   "cell_type": "code",
   "source": "1 / arr",
   "id": "7daa8f6a94e8fa8a",
   "outputs": [
    {
     "data": {
      "text/plain": [
       "array([[1.        , 0.5       , 0.33333333],\n",
       "       [0.25      , 0.2       , 0.16666667]])"
      ]
     },
     "execution_count": 4,
     "metadata": {},
     "output_type": "execute_result"
    }
   ],
   "execution_count": 4
  },
  {
   "metadata": {
    "ExecuteTime": {
     "end_time": "2024-06-19T23:38:43.746554Z",
     "start_time": "2024-06-19T23:38:43.740092Z"
    }
   },
   "cell_type": "code",
   "source": "arr ** 2",
   "id": "53fb917985b34b8d",
   "outputs": [
    {
     "data": {
      "text/plain": [
       "array([[ 1.,  4.,  9.],\n",
       "       [16., 25., 36.]])"
      ]
     },
     "execution_count": 5,
     "metadata": {},
     "output_type": "execute_result"
    }
   ],
   "execution_count": 5
  },
  {
   "metadata": {
    "ExecuteTime": {
     "end_time": "2024-06-19T23:39:36.371625Z",
     "start_time": "2024-06-19T23:39:36.367114Z"
    }
   },
   "cell_type": "code",
   "source": "arr2 = np.array([[0., 4., 1.], [7., 2., 12.]])",
   "id": "5913b4386385fc4c",
   "outputs": [],
   "execution_count": 6
  },
  {
   "metadata": {
    "ExecuteTime": {
     "end_time": "2024-06-19T23:39:46.265287Z",
     "start_time": "2024-06-19T23:39:46.258292Z"
    }
   },
   "cell_type": "code",
   "source": "arr2",
   "id": "3a84c988bfb01550",
   "outputs": [
    {
     "data": {
      "text/plain": [
       "array([[ 0.,  4.,  1.],\n",
       "       [ 7.,  2., 12.]])"
      ]
     },
     "execution_count": 7,
     "metadata": {},
     "output_type": "execute_result"
    }
   ],
   "execution_count": 7
  },
  {
   "metadata": {
    "ExecuteTime": {
     "end_time": "2024-06-19T23:39:55.567585Z",
     "start_time": "2024-06-19T23:39:55.561336Z"
    }
   },
   "cell_type": "code",
   "source": "arr2 > arr",
   "id": "21f83ac26f73397b",
   "outputs": [
    {
     "data": {
      "text/plain": [
       "array([[False,  True, False],\n",
       "       [ True, False,  True]])"
      ]
     },
     "execution_count": 8,
     "metadata": {},
     "output_type": "execute_result"
    }
   ],
   "execution_count": 8
  },
  {
   "metadata": {},
   "cell_type": "code",
   "outputs": [],
   "execution_count": null,
   "source": "",
   "id": "4080a3da860b80d9"
  }
 ],
 "metadata": {
  "kernelspec": {
   "display_name": "Python 3",
   "language": "python",
   "name": "python3"
  },
  "language_info": {
   "codemirror_mode": {
    "name": "ipython",
    "version": 2
   },
   "file_extension": ".py",
   "mimetype": "text/x-python",
   "name": "python",
   "nbconvert_exporter": "python",
   "pygments_lexer": "ipython2",
   "version": "2.7.6"
  }
 },
 "nbformat": 4,
 "nbformat_minor": 5
}
