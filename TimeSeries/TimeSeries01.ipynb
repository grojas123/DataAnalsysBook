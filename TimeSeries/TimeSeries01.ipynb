{
 "cells": [
  {
   "cell_type": "code",
   "id": "initial_id",
   "metadata": {
    "collapsed": true,
    "ExecuteTime": {
     "end_time": "2024-09-28T20:11:48.894001Z",
     "start_time": "2024-09-28T20:11:48.890387Z"
    }
   },
   "source": [
    "import numpy as np\n",
    "import pandas as pd\n",
    "from statsmodels.sandbox.regression.example_kernridge import index"
   ],
   "outputs": [],
   "execution_count": 37
  },
  {
   "metadata": {
    "ExecuteTime": {
     "end_time": "2024-09-28T20:11:48.916292Z",
     "start_time": "2024-09-28T20:11:48.911197Z"
    }
   },
   "cell_type": "code",
   "source": [
    "from datetime import datetime, date\n",
    "\n",
    "now = datetime.now()\n",
    "now.year,now.month,now.day"
   ],
   "id": "6e43253679c520d7",
   "outputs": [
    {
     "data": {
      "text/plain": [
       "(2024, 9, 28)"
      ]
     },
     "execution_count": 38,
     "metadata": {},
     "output_type": "execute_result"
    }
   ],
   "execution_count": 38
  },
  {
   "metadata": {
    "ExecuteTime": {
     "end_time": "2024-09-28T20:11:49.028397Z",
     "start_time": "2024-09-28T20:11:49.022823Z"
    }
   },
   "cell_type": "code",
   "source": [
    "delta = datetime(2011,1,7) - datetime(2008,6,24,8,15)\n",
    "delta"
   ],
   "id": "ae6ef78c0e0110eb",
   "outputs": [
    {
     "data": {
      "text/plain": [
       "datetime.timedelta(days=926, seconds=56700)"
      ]
     },
     "execution_count": 39,
     "metadata": {},
     "output_type": "execute_result"
    }
   ],
   "execution_count": 39
  },
  {
   "metadata": {
    "ExecuteTime": {
     "end_time": "2024-09-28T20:11:49.151353Z",
     "start_time": "2024-09-28T20:11:49.146244Z"
    }
   },
   "cell_type": "code",
   "source": "delta.days\n",
   "id": "f12a1a99d8b080d5",
   "outputs": [
    {
     "data": {
      "text/plain": [
       "926"
      ]
     },
     "execution_count": 40,
     "metadata": {},
     "output_type": "execute_result"
    }
   ],
   "execution_count": 40
  },
  {
   "metadata": {
    "ExecuteTime": {
     "end_time": "2024-09-28T20:11:49.266875Z",
     "start_time": "2024-09-28T20:11:49.259358Z"
    }
   },
   "cell_type": "code",
   "source": "delta.seconds",
   "id": "20854a97f6e0d993",
   "outputs": [
    {
     "data": {
      "text/plain": [
       "56700"
      ]
     },
     "execution_count": 41,
     "metadata": {},
     "output_type": "execute_result"
    }
   ],
   "execution_count": 41
  },
  {
   "metadata": {
    "ExecuteTime": {
     "end_time": "2024-09-28T20:11:49.377905Z",
     "start_time": "2024-09-28T20:11:49.373968Z"
    }
   },
   "cell_type": "code",
   "source": [
    "from datetime import timedelta\n",
    "start = datetime(2011,1,7)"
   ],
   "id": "b6c3d4f59467ed80",
   "outputs": [],
   "execution_count": 42
  },
  {
   "metadata": {
    "ExecuteTime": {
     "end_time": "2024-09-28T20:11:49.429062Z",
     "start_time": "2024-09-28T20:11:49.423691Z"
    }
   },
   "cell_type": "code",
   "source": "start + timedelta(12)",
   "id": "f2f6d6b2cf934d64",
   "outputs": [
    {
     "data": {
      "text/plain": [
       "datetime.datetime(2011, 1, 19, 0, 0)"
      ]
     },
     "execution_count": 43,
     "metadata": {},
     "output_type": "execute_result"
    }
   ],
   "execution_count": 43
  },
  {
   "metadata": {
    "ExecuteTime": {
     "end_time": "2024-09-28T20:11:49.496668Z",
     "start_time": "2024-09-28T20:11:49.492427Z"
    }
   },
   "cell_type": "code",
   "source": "stamp =datetime(2011,1,7)",
   "id": "45fdea580afa83c6",
   "outputs": [],
   "execution_count": 44
  },
  {
   "metadata": {
    "ExecuteTime": {
     "end_time": "2024-09-28T20:11:49.532777Z",
     "start_time": "2024-09-28T20:11:49.527296Z"
    }
   },
   "cell_type": "code",
   "source": "str(stamp)",
   "id": "51a0235bc5ea14b3",
   "outputs": [
    {
     "data": {
      "text/plain": [
       "'2011-01-07 00:00:00'"
      ]
     },
     "execution_count": 45,
     "metadata": {},
     "output_type": "execute_result"
    }
   ],
   "execution_count": 45
  },
  {
   "metadata": {
    "ExecuteTime": {
     "end_time": "2024-09-28T20:11:49.650883Z",
     "start_time": "2024-09-28T20:11:49.642530Z"
    }
   },
   "cell_type": "code",
   "source": "value =\"2011-01-03\"",
   "id": "c96a962f335fe216",
   "outputs": [],
   "execution_count": 46
  },
  {
   "metadata": {
    "ExecuteTime": {
     "end_time": "2024-09-28T20:11:49.673298Z",
     "start_time": "2024-09-28T20:11:49.667957Z"
    }
   },
   "cell_type": "code",
   "source": "datetime.strptime(value,\"%Y-%m-%d\")",
   "id": "62e93772216a1339",
   "outputs": [
    {
     "data": {
      "text/plain": [
       "datetime.datetime(2011, 1, 3, 0, 0)"
      ]
     },
     "execution_count": 47,
     "metadata": {},
     "output_type": "execute_result"
    }
   ],
   "execution_count": 47
  },
  {
   "metadata": {
    "ExecuteTime": {
     "end_time": "2024-09-28T20:11:49.707355Z",
     "start_time": "2024-09-28T20:11:49.702154Z"
    }
   },
   "cell_type": "code",
   "source": "datestrs =[\"7/6/2011\",\"8/6/2011\"]",
   "id": "492f9b3f8518c934",
   "outputs": [],
   "execution_count": 48
  },
  {
   "metadata": {
    "ExecuteTime": {
     "end_time": "2024-09-28T20:11:49.738588Z",
     "start_time": "2024-09-28T20:11:49.731713Z"
    }
   },
   "cell_type": "code",
   "source": "[datetime.strptime(x,\"%m/%d/%Y\") for x in datestrs]",
   "id": "f0a57aefeef6757b",
   "outputs": [
    {
     "data": {
      "text/plain": [
       "[datetime.datetime(2011, 7, 6, 0, 0), datetime.datetime(2011, 8, 6, 0, 0)]"
      ]
     },
     "execution_count": 49,
     "metadata": {},
     "output_type": "execute_result"
    }
   ],
   "execution_count": 49
  },
  {
   "metadata": {
    "ExecuteTime": {
     "end_time": "2024-09-28T20:11:49.787269Z",
     "start_time": "2024-09-28T20:11:49.777741Z"
    }
   },
   "cell_type": "code",
   "source": [
    "datestrs = [\"2011-07-06 12:00:00\", \"2011-08-06 00:00:00\"]\n",
    "pd.to_datetime(datestrs)"
   ],
   "id": "e41190f426599829",
   "outputs": [
    {
     "data": {
      "text/plain": [
       "DatetimeIndex(['2011-07-06 12:00:00', '2011-08-06 00:00:00'], dtype='datetime64[ns]', freq=None)"
      ]
     },
     "execution_count": 50,
     "metadata": {},
     "output_type": "execute_result"
    }
   ],
   "execution_count": 50
  },
  {
   "metadata": {
    "ExecuteTime": {
     "end_time": "2024-09-28T20:11:49.823800Z",
     "start_time": "2024-09-28T20:11:49.818920Z"
    }
   },
   "cell_type": "code",
   "source": "idx=pd.to_datetime(datestrs+[None])",
   "id": "a3e7e30376caaa01",
   "outputs": [],
   "execution_count": 51
  },
  {
   "metadata": {
    "ExecuteTime": {
     "end_time": "2024-09-28T20:11:49.871175Z",
     "start_time": "2024-09-28T20:11:49.864149Z"
    }
   },
   "cell_type": "code",
   "source": "idx[2]",
   "id": "27ce6a52d683c84d",
   "outputs": [
    {
     "data": {
      "text/plain": [
       "NaT"
      ]
     },
     "execution_count": 52,
     "metadata": {},
     "output_type": "execute_result"
    }
   ],
   "execution_count": 52
  },
  {
   "metadata": {
    "ExecuteTime": {
     "end_time": "2024-09-28T20:11:49.921424Z",
     "start_time": "2024-09-28T20:11:49.913158Z"
    }
   },
   "cell_type": "code",
   "source": "pd.isna(idx)",
   "id": "565a98615c1a519",
   "outputs": [
    {
     "data": {
      "text/plain": [
       "array([False, False,  True])"
      ]
     },
     "execution_count": 53,
     "metadata": {},
     "output_type": "execute_result"
    }
   ],
   "execution_count": 53
  },
  {
   "metadata": {
    "ExecuteTime": {
     "end_time": "2024-09-28T20:11:49.972940Z",
     "start_time": "2024-09-28T20:11:49.962404Z"
    }
   },
   "cell_type": "code",
   "source": [
    "dates = [datetime(2011, 1, 2), datetime(2011, 1, 5),\n",
    "         datetime(2011, 1, 7), datetime(2011, 1, 8),\n",
    "         datetime(2011, 1, 10), datetime(2011, 1, 12)]\n",
    "ts =pd.Series(np.random.standard_normal(len(dates)),index=dates)\n",
    "ts"
   ],
   "id": "b11b1648fb8da79d",
   "outputs": [
    {
     "data": {
      "text/plain": [
       "2011-01-02   -1.301297\n",
       "2011-01-05   -0.823075\n",
       "2011-01-07   -1.401732\n",
       "2011-01-08   -0.074045\n",
       "2011-01-10    0.053863\n",
       "2011-01-12    1.816669\n",
       "dtype: float64"
      ]
     },
     "execution_count": 54,
     "metadata": {},
     "output_type": "execute_result"
    }
   ],
   "execution_count": 54
  },
  {
   "metadata": {
    "ExecuteTime": {
     "end_time": "2024-09-28T20:11:50.138622Z",
     "start_time": "2024-09-28T20:11:50.130428Z"
    }
   },
   "cell_type": "code",
   "source": "ts.index",
   "id": "a01e4baa4ea3e21d",
   "outputs": [
    {
     "data": {
      "text/plain": [
       "DatetimeIndex(['2011-01-02', '2011-01-05', '2011-01-07', '2011-01-08',\n",
       "               '2011-01-10', '2011-01-12'],\n",
       "              dtype='datetime64[ns]', freq=None)"
      ]
     },
     "execution_count": 55,
     "metadata": {},
     "output_type": "execute_result"
    }
   ],
   "execution_count": 55
  },
  {
   "metadata": {
    "ExecuteTime": {
     "end_time": "2024-09-28T20:11:50.210464Z",
     "start_time": "2024-09-28T20:11:50.202215Z"
    }
   },
   "cell_type": "code",
   "source": "ts + ts[::2]",
   "id": "6501e95472ed901d",
   "outputs": [
    {
     "data": {
      "text/plain": [
       "2011-01-02   -2.602594\n",
       "2011-01-05         NaN\n",
       "2011-01-07   -2.803463\n",
       "2011-01-08         NaN\n",
       "2011-01-10    0.107726\n",
       "2011-01-12         NaN\n",
       "dtype: float64"
      ]
     },
     "execution_count": 56,
     "metadata": {},
     "output_type": "execute_result"
    }
   ],
   "execution_count": 56
  },
  {
   "metadata": {
    "ExecuteTime": {
     "end_time": "2024-09-28T20:11:50.358722Z",
     "start_time": "2024-09-28T20:11:50.353533Z"
    }
   },
   "cell_type": "code",
   "source": "ts.index.dtype",
   "id": "cde646b865318757",
   "outputs": [
    {
     "data": {
      "text/plain": [
       "dtype('<M8[ns]')"
      ]
     },
     "execution_count": 57,
     "metadata": {},
     "output_type": "execute_result"
    }
   ],
   "execution_count": 57
  },
  {
   "metadata": {
    "ExecuteTime": {
     "end_time": "2024-09-28T20:11:50.454418Z",
     "start_time": "2024-09-28T20:11:50.448791Z"
    }
   },
   "cell_type": "code",
   "source": [
    "stamp=ts.index[0]\n",
    "stamp"
   ],
   "id": "5496bd9b10de75a4",
   "outputs": [
    {
     "data": {
      "text/plain": [
       "Timestamp('2011-01-02 00:00:00')"
      ]
     },
     "execution_count": 58,
     "metadata": {},
     "output_type": "execute_result"
    }
   ],
   "execution_count": 58
  },
  {
   "metadata": {
    "ExecuteTime": {
     "end_time": "2024-09-28T20:11:50.590502Z",
     "start_time": "2024-09-28T20:11:50.581760Z"
    }
   },
   "cell_type": "code",
   "source": [
    "stamp = ts.index[2]\n",
    "ts[stamp]"
   ],
   "id": "2bc9730ebe3d35f3",
   "outputs": [
    {
     "data": {
      "text/plain": [
       "-1.4017317247886873"
      ]
     },
     "execution_count": 59,
     "metadata": {},
     "output_type": "execute_result"
    }
   ],
   "execution_count": 59
  },
  {
   "metadata": {
    "ExecuteTime": {
     "end_time": "2024-09-28T20:11:50.692505Z",
     "start_time": "2024-09-28T20:11:50.683900Z"
    }
   },
   "cell_type": "code",
   "source": "ts[\"2011-01-10\"]",
   "id": "2b6467e05f79e50e",
   "outputs": [
    {
     "data": {
      "text/plain": [
       "0.053862875680423604"
      ]
     },
     "execution_count": 60,
     "metadata": {},
     "output_type": "execute_result"
    }
   ],
   "execution_count": 60
  },
  {
   "metadata": {
    "ExecuteTime": {
     "end_time": "2024-09-28T20:11:50.770719Z",
     "start_time": "2024-09-28T20:11:50.760701Z"
    }
   },
   "cell_type": "code",
   "source": [
    "longer_ts= pd.Series(np.random.standard_normal(1000),index=pd.date_range(\"2000-01-01\",periods=1000))\n",
    "longer_ts"
   ],
   "id": "a70cd917c8d3ed8e",
   "outputs": [
    {
     "data": {
      "text/plain": [
       "2000-01-01    0.584257\n",
       "2000-01-02   -0.492267\n",
       "2000-01-03    1.730746\n",
       "2000-01-04   -1.528655\n",
       "2000-01-05   -0.117065\n",
       "                ...   \n",
       "2002-09-22   -0.808005\n",
       "2002-09-23   -0.288459\n",
       "2002-09-24    0.284169\n",
       "2002-09-25    0.650443\n",
       "2002-09-26    0.492317\n",
       "Freq: D, Length: 1000, dtype: float64"
      ]
     },
     "execution_count": 61,
     "metadata": {},
     "output_type": "execute_result"
    }
   ],
   "execution_count": 61
  },
  {
   "metadata": {
    "ExecuteTime": {
     "end_time": "2024-09-28T20:11:50.853827Z",
     "start_time": "2024-09-28T20:11:50.841959Z"
    }
   },
   "cell_type": "code",
   "source": "longer_ts[\"2001\"]",
   "id": "23af97327d0a99dd",
   "outputs": [
    {
     "data": {
      "text/plain": [
       "2001-01-01    0.808277\n",
       "2001-01-02   -0.850658\n",
       "2001-01-03   -1.006927\n",
       "2001-01-04    0.281403\n",
       "2001-01-05   -1.088475\n",
       "                ...   \n",
       "2001-12-27    2.548116\n",
       "2001-12-28   -0.445199\n",
       "2001-12-29   -0.091060\n",
       "2001-12-30    0.897260\n",
       "2001-12-31   -0.597818\n",
       "Freq: D, Length: 365, dtype: float64"
      ]
     },
     "execution_count": 62,
     "metadata": {},
     "output_type": "execute_result"
    }
   ],
   "execution_count": 62
  },
  {
   "metadata": {
    "ExecuteTime": {
     "end_time": "2024-09-28T20:11:50.992397Z",
     "start_time": "2024-09-28T20:11:50.982628Z"
    }
   },
   "cell_type": "code",
   "source": "longer_ts[\"2001-05\"]",
   "id": "28513d1c1120c6ea",
   "outputs": [
    {
     "data": {
      "text/plain": [
       "2001-05-01   -1.182567\n",
       "2001-05-02   -1.498881\n",
       "2001-05-03   -0.080936\n",
       "2001-05-04   -0.716290\n",
       "2001-05-05    0.133294\n",
       "2001-05-06   -0.317970\n",
       "2001-05-07    0.310911\n",
       "2001-05-08   -1.958257\n",
       "2001-05-09    2.053796\n",
       "2001-05-10   -0.466479\n",
       "2001-05-11    0.718520\n",
       "2001-05-12   -0.356346\n",
       "2001-05-13    0.674042\n",
       "2001-05-14   -0.566741\n",
       "2001-05-15    0.247219\n",
       "2001-05-16   -0.265626\n",
       "2001-05-17   -0.855473\n",
       "2001-05-18   -1.929221\n",
       "2001-05-19   -0.554761\n",
       "2001-05-20    0.201900\n",
       "2001-05-21   -0.185235\n",
       "2001-05-22    0.523440\n",
       "2001-05-23   -1.149442\n",
       "2001-05-24    0.371229\n",
       "2001-05-25    1.017864\n",
       "2001-05-26    0.147681\n",
       "2001-05-27    0.027571\n",
       "2001-05-28   -1.532373\n",
       "2001-05-29    0.517830\n",
       "2001-05-30    1.181933\n",
       "2001-05-31   -0.721245\n",
       "Freq: D, dtype: float64"
      ]
     },
     "execution_count": 63,
     "metadata": {},
     "output_type": "execute_result"
    }
   ],
   "execution_count": 63
  },
  {
   "metadata": {
    "ExecuteTime": {
     "end_time": "2024-09-28T20:11:51.202358Z",
     "start_time": "2024-09-28T20:11:51.194917Z"
    }
   },
   "cell_type": "code",
   "source": "ts[datetime(2001,1,7):]",
   "id": "819d3a52db8cf8d7",
   "outputs": [
    {
     "data": {
      "text/plain": [
       "2011-01-02   -1.301297\n",
       "2011-01-05   -0.823075\n",
       "2011-01-07   -1.401732\n",
       "2011-01-08   -0.074045\n",
       "2011-01-10    0.053863\n",
       "2011-01-12    1.816669\n",
       "dtype: float64"
      ]
     },
     "execution_count": 64,
     "metadata": {},
     "output_type": "execute_result"
    }
   ],
   "execution_count": 64
  },
  {
   "metadata": {
    "ExecuteTime": {
     "end_time": "2024-09-28T20:11:51.371953Z",
     "start_time": "2024-09-28T20:11:51.364529Z"
    }
   },
   "cell_type": "code",
   "source": "ts[datetime(2011,1,7):datetime(2011,1,10)]",
   "id": "82b6ac08a70bf1dc",
   "outputs": [
    {
     "data": {
      "text/plain": [
       "2011-01-07   -1.401732\n",
       "2011-01-08   -0.074045\n",
       "2011-01-10    0.053863\n",
       "dtype: float64"
      ]
     },
     "execution_count": 65,
     "metadata": {},
     "output_type": "execute_result"
    }
   ],
   "execution_count": 65
  },
  {
   "metadata": {
    "ExecuteTime": {
     "end_time": "2024-09-28T20:11:51.518011Z",
     "start_time": "2024-09-28T20:11:51.510183Z"
    }
   },
   "cell_type": "code",
   "source": "ts",
   "id": "96a50c2bc89bc760",
   "outputs": [
    {
     "data": {
      "text/plain": [
       "2011-01-02   -1.301297\n",
       "2011-01-05   -0.823075\n",
       "2011-01-07   -1.401732\n",
       "2011-01-08   -0.074045\n",
       "2011-01-10    0.053863\n",
       "2011-01-12    1.816669\n",
       "dtype: float64"
      ]
     },
     "execution_count": 66,
     "metadata": {},
     "output_type": "execute_result"
    }
   ],
   "execution_count": 66
  },
  {
   "metadata": {
    "ExecuteTime": {
     "end_time": "2024-09-28T20:11:51.801643Z",
     "start_time": "2024-09-28T20:11:51.792359Z"
    }
   },
   "cell_type": "code",
   "source": "ts[\"2011-01-06\":\"2011-01-11\"]",
   "id": "3d64d30c09a96893",
   "outputs": [
    {
     "data": {
      "text/plain": [
       "2011-01-07   -1.401732\n",
       "2011-01-08   -0.074045\n",
       "2011-01-10    0.053863\n",
       "dtype: float64"
      ]
     },
     "execution_count": 67,
     "metadata": {},
     "output_type": "execute_result"
    }
   ],
   "execution_count": 67
  },
  {
   "metadata": {
    "ExecuteTime": {
     "end_time": "2024-09-28T20:11:51.962702Z",
     "start_time": "2024-09-28T20:11:51.951771Z"
    }
   },
   "cell_type": "code",
   "source": "ts.truncate(after=\"2011-01-09\")",
   "id": "5bc8c5d64474dee6",
   "outputs": [
    {
     "data": {
      "text/plain": [
       "2011-01-02   -1.301297\n",
       "2011-01-05   -0.823075\n",
       "2011-01-07   -1.401732\n",
       "2011-01-08   -0.074045\n",
       "dtype: float64"
      ]
     },
     "execution_count": 68,
     "metadata": {},
     "output_type": "execute_result"
    }
   ],
   "execution_count": 68
  },
  {
   "metadata": {
    "ExecuteTime": {
     "end_time": "2024-09-28T20:11:52.238400Z",
     "start_time": "2024-09-28T20:11:52.214210Z"
    }
   },
   "cell_type": "code",
   "source": "dates= pd.date_range(\"2000-01-01\",periods=1000,freq=\"W-WED\")",
   "id": "5154475cbf8ef63",
   "outputs": [],
   "execution_count": 69
  },
  {
   "metadata": {
    "ExecuteTime": {
     "end_time": "2024-09-28T20:11:52.398530Z",
     "start_time": "2024-09-28T20:11:52.391875Z"
    }
   },
   "cell_type": "code",
   "source": "longer_df=pd.DataFrame(np.random.standard_normal((1000,4)),index=dates,columns=[\"Colorado\",\"Texas\",\"New York\",\"Ohio\"])",
   "id": "3667f90aa2eab6a1",
   "outputs": [],
   "execution_count": 70
  },
  {
   "metadata": {
    "ExecuteTime": {
     "end_time": "2024-09-28T20:11:52.452242Z",
     "start_time": "2024-09-28T20:11:52.440720Z"
    }
   },
   "cell_type": "code",
   "source": "longer_df.loc[\"2001-05\"]",
   "id": "7391fe1c8eb6cbb0",
   "outputs": [
    {
     "data": {
      "text/plain": [
       "            Colorado     Texas  New York      Ohio\n",
       "2001-05-02 -0.396323 -0.889116  0.088762  1.675360\n",
       "2001-05-09  1.321709  0.355199  0.015839 -0.512097\n",
       "2001-05-16  1.705148 -0.242476  0.519671  0.283831\n",
       "2001-05-23  0.274405  1.688987 -0.869764 -1.940477\n",
       "2001-05-30  0.099899  0.274511 -0.433316 -1.966590"
      ],
      "text/html": [
       "<div>\n",
       "<style scoped>\n",
       "    .dataframe tbody tr th:only-of-type {\n",
       "        vertical-align: middle;\n",
       "    }\n",
       "\n",
       "    .dataframe tbody tr th {\n",
       "        vertical-align: top;\n",
       "    }\n",
       "\n",
       "    .dataframe thead th {\n",
       "        text-align: right;\n",
       "    }\n",
       "</style>\n",
       "<table border=\"1\" class=\"dataframe\">\n",
       "  <thead>\n",
       "    <tr style=\"text-align: right;\">\n",
       "      <th></th>\n",
       "      <th>Colorado</th>\n",
       "      <th>Texas</th>\n",
       "      <th>New York</th>\n",
       "      <th>Ohio</th>\n",
       "    </tr>\n",
       "  </thead>\n",
       "  <tbody>\n",
       "    <tr>\n",
       "      <th>2001-05-02</th>\n",
       "      <td>-0.396323</td>\n",
       "      <td>-0.889116</td>\n",
       "      <td>0.088762</td>\n",
       "      <td>1.675360</td>\n",
       "    </tr>\n",
       "    <tr>\n",
       "      <th>2001-05-09</th>\n",
       "      <td>1.321709</td>\n",
       "      <td>0.355199</td>\n",
       "      <td>0.015839</td>\n",
       "      <td>-0.512097</td>\n",
       "    </tr>\n",
       "    <tr>\n",
       "      <th>2001-05-16</th>\n",
       "      <td>1.705148</td>\n",
       "      <td>-0.242476</td>\n",
       "      <td>0.519671</td>\n",
       "      <td>0.283831</td>\n",
       "    </tr>\n",
       "    <tr>\n",
       "      <th>2001-05-23</th>\n",
       "      <td>0.274405</td>\n",
       "      <td>1.688987</td>\n",
       "      <td>-0.869764</td>\n",
       "      <td>-1.940477</td>\n",
       "    </tr>\n",
       "    <tr>\n",
       "      <th>2001-05-30</th>\n",
       "      <td>0.099899</td>\n",
       "      <td>0.274511</td>\n",
       "      <td>-0.433316</td>\n",
       "      <td>-1.966590</td>\n",
       "    </tr>\n",
       "  </tbody>\n",
       "</table>\n",
       "</div>"
      ]
     },
     "execution_count": 71,
     "metadata": {},
     "output_type": "execute_result"
    }
   ],
   "execution_count": 71
  },
  {
   "metadata": {
    "ExecuteTime": {
     "end_time": "2024-09-28T20:14:21.480968Z",
     "start_time": "2024-09-28T20:14:21.473225Z"
    }
   },
   "cell_type": "code",
   "source": [
    "dates = pd.DatetimeIndex(pd.DatetimeIndex([\"2000-01-01\", \"2000-01-02\", \"2000-01-02\",\"2000-01-02\", \"2000-01-03\"]))\n",
    "dup_ts= pd.Series(np.arange(5),index=dates)\n",
    "dup_ts"
   ],
   "id": "f415b54bed6912d7",
   "outputs": [
    {
     "data": {
      "text/plain": [
       "2000-01-01    0\n",
       "2000-01-02    1\n",
       "2000-01-02    2\n",
       "2000-01-02    3\n",
       "2000-01-03    4\n",
       "dtype: int64"
      ]
     },
     "execution_count": 75,
     "metadata": {},
     "output_type": "execute_result"
    }
   ],
   "execution_count": 75
  },
  {
   "metadata": {
    "ExecuteTime": {
     "end_time": "2024-09-28T20:14:52.386365Z",
     "start_time": "2024-09-28T20:14:52.380687Z"
    }
   },
   "cell_type": "code",
   "source": "dup_ts.index.is_unique",
   "id": "7ecc6dd8a8ae42dc",
   "outputs": [
    {
     "data": {
      "text/plain": [
       "False"
      ]
     },
     "execution_count": 76,
     "metadata": {},
     "output_type": "execute_result"
    }
   ],
   "execution_count": 76
  },
  {
   "metadata": {
    "ExecuteTime": {
     "end_time": "2024-09-28T20:15:35.291753Z",
     "start_time": "2024-09-28T20:15:35.284597Z"
    }
   },
   "cell_type": "code",
   "source": "dup_ts[\"2000-01-03\"]",
   "id": "b083505b69f3b75",
   "outputs": [
    {
     "data": {
      "text/plain": [
       "4"
      ]
     },
     "execution_count": 77,
     "metadata": {},
     "output_type": "execute_result"
    }
   ],
   "execution_count": 77
  },
  {
   "metadata": {
    "ExecuteTime": {
     "end_time": "2024-09-28T20:16:06.973125Z",
     "start_time": "2024-09-28T20:16:06.966930Z"
    }
   },
   "cell_type": "code",
   "source": "dup_ts[\"2000-01-02\"]",
   "id": "19b3185ca7ca51cf",
   "outputs": [
    {
     "data": {
      "text/plain": [
       "2000-01-02    1\n",
       "2000-01-02    2\n",
       "2000-01-02    3\n",
       "dtype: int64"
      ]
     },
     "execution_count": 78,
     "metadata": {},
     "output_type": "execute_result"
    }
   ],
   "execution_count": 78
  },
  {
   "metadata": {
    "ExecuteTime": {
     "end_time": "2024-09-28T20:17:04.917106Z",
     "start_time": "2024-09-28T20:17:04.900503Z"
    }
   },
   "cell_type": "code",
   "source": [
    "grouped=dup_ts.groupby(level=0)\n",
    "grouped.mean()"
   ],
   "id": "2c8ccb7c60c6aace",
   "outputs": [
    {
     "data": {
      "text/plain": [
       "2000-01-01    0.0\n",
       "2000-01-02    2.0\n",
       "2000-01-03    4.0\n",
       "dtype: float64"
      ]
     },
     "execution_count": 79,
     "metadata": {},
     "output_type": "execute_result"
    }
   ],
   "execution_count": 79
  },
  {
   "metadata": {
    "ExecuteTime": {
     "end_time": "2024-09-28T20:17:21.590361Z",
     "start_time": "2024-09-28T20:17:21.583241Z"
    }
   },
   "cell_type": "code",
   "source": "grouped.count()",
   "id": "f0c058fed876912",
   "outputs": [
    {
     "data": {
      "text/plain": [
       "2000-01-01    1\n",
       "2000-01-02    3\n",
       "2000-01-03    1\n",
       "dtype: int64"
      ]
     },
     "execution_count": 80,
     "metadata": {},
     "output_type": "execute_result"
    }
   ],
   "execution_count": 80
  },
  {
   "metadata": {
    "ExecuteTime": {
     "end_time": "2024-09-28T20:18:32.446562Z",
     "start_time": "2024-09-28T20:18:32.440530Z"
    }
   },
   "cell_type": "code",
   "source": "ts",
   "id": "7c01ccc9d8618c2e",
   "outputs": [
    {
     "data": {
      "text/plain": [
       "2011-01-02   -1.301297\n",
       "2011-01-05   -0.823075\n",
       "2011-01-07   -1.401732\n",
       "2011-01-08   -0.074045\n",
       "2011-01-10    0.053863\n",
       "2011-01-12    1.816669\n",
       "dtype: float64"
      ]
     },
     "execution_count": 81,
     "metadata": {},
     "output_type": "execute_result"
    }
   ],
   "execution_count": 81
  },
  {
   "metadata": {
    "ExecuteTime": {
     "end_time": "2024-09-28T20:19:06.727752Z",
     "start_time": "2024-09-28T20:19:06.722375Z"
    }
   },
   "cell_type": "code",
   "source": "resampler=ts.resample(\"D\")",
   "id": "66e205721fa6d4fd",
   "outputs": [],
   "execution_count": 82
  },
  {
   "metadata": {
    "ExecuteTime": {
     "end_time": "2024-09-28T20:19:12.702412Z",
     "start_time": "2024-09-28T20:19:12.694695Z"
    }
   },
   "cell_type": "code",
   "source": "resampler",
   "id": "91d82467d650d90a",
   "outputs": [
    {
     "data": {
      "text/plain": [
       "<pandas.core.resample.DatetimeIndexResampler object at 0x116ce07f0>"
      ]
     },
     "execution_count": 83,
     "metadata": {},
     "output_type": "execute_result"
    }
   ],
   "execution_count": 83
  },
  {
   "metadata": {
    "ExecuteTime": {
     "end_time": "2024-09-28T20:21:06.200528Z",
     "start_time": "2024-09-28T20:21:06.196711Z"
    }
   },
   "cell_type": "code",
   "source": "index=pd.date_range(\"2012-04-01\",\"2012-06-01\")",
   "id": "9e153ccbd15f7637",
   "outputs": [],
   "execution_count": 84
  },
  {
   "metadata": {
    "ExecuteTime": {
     "end_time": "2024-09-28T20:21:11.792128Z",
     "start_time": "2024-09-28T20:21:11.786541Z"
    }
   },
   "cell_type": "code",
   "source": "index",
   "id": "112f18efa8a6cc70",
   "outputs": [
    {
     "data": {
      "text/plain": [
       "DatetimeIndex(['2012-04-01', '2012-04-02', '2012-04-03', '2012-04-04',\n",
       "               '2012-04-05', '2012-04-06', '2012-04-07', '2012-04-08',\n",
       "               '2012-04-09', '2012-04-10', '2012-04-11', '2012-04-12',\n",
       "               '2012-04-13', '2012-04-14', '2012-04-15', '2012-04-16',\n",
       "               '2012-04-17', '2012-04-18', '2012-04-19', '2012-04-20',\n",
       "               '2012-04-21', '2012-04-22', '2012-04-23', '2012-04-24',\n",
       "               '2012-04-25', '2012-04-26', '2012-04-27', '2012-04-28',\n",
       "               '2012-04-29', '2012-04-30', '2012-05-01', '2012-05-02',\n",
       "               '2012-05-03', '2012-05-04', '2012-05-05', '2012-05-06',\n",
       "               '2012-05-07', '2012-05-08', '2012-05-09', '2012-05-10',\n",
       "               '2012-05-11', '2012-05-12', '2012-05-13', '2012-05-14',\n",
       "               '2012-05-15', '2012-05-16', '2012-05-17', '2012-05-18',\n",
       "               '2012-05-19', '2012-05-20', '2012-05-21', '2012-05-22',\n",
       "               '2012-05-23', '2012-05-24', '2012-05-25', '2012-05-26',\n",
       "               '2012-05-27', '2012-05-28', '2012-05-29', '2012-05-30',\n",
       "               '2012-05-31', '2012-06-01'],\n",
       "              dtype='datetime64[ns]', freq='D')"
      ]
     },
     "execution_count": 85,
     "metadata": {},
     "output_type": "execute_result"
    }
   ],
   "execution_count": 85
  },
  {
   "metadata": {
    "ExecuteTime": {
     "end_time": "2024-09-28T20:22:19.700168Z",
     "start_time": "2024-09-28T20:22:19.692906Z"
    }
   },
   "cell_type": "code",
   "source": "pd.date_range(start=\"2012-04-01\",periods=20)",
   "id": "cdc6e93185b2f3de",
   "outputs": [
    {
     "data": {
      "text/plain": [
       "DatetimeIndex(['2012-04-01', '2012-04-02', '2012-04-03', '2012-04-04',\n",
       "               '2012-04-05', '2012-04-06', '2012-04-07', '2012-04-08',\n",
       "               '2012-04-09', '2012-04-10', '2012-04-11', '2012-04-12',\n",
       "               '2012-04-13', '2012-04-14', '2012-04-15', '2012-04-16',\n",
       "               '2012-04-17', '2012-04-18', '2012-04-19', '2012-04-20'],\n",
       "              dtype='datetime64[ns]', freq='D')"
      ]
     },
     "execution_count": 86,
     "metadata": {},
     "output_type": "execute_result"
    }
   ],
   "execution_count": 86
  },
  {
   "metadata": {
    "ExecuteTime": {
     "end_time": "2024-09-28T20:23:15.730855Z",
     "start_time": "2024-09-28T20:23:15.724053Z"
    }
   },
   "cell_type": "code",
   "source": "pd.date_range(start=\"2012-06-01\",periods=20)",
   "id": "d742b4f82aa41bb",
   "outputs": [
    {
     "data": {
      "text/plain": [
       "DatetimeIndex(['2012-06-01', '2012-06-02', '2012-06-03', '2012-06-04',\n",
       "               '2012-06-05', '2012-06-06', '2012-06-07', '2012-06-08',\n",
       "               '2012-06-09', '2012-06-10', '2012-06-11', '2012-06-12',\n",
       "               '2012-06-13', '2012-06-14', '2012-06-15', '2012-06-16',\n",
       "               '2012-06-17', '2012-06-18', '2012-06-19', '2012-06-20'],\n",
       "              dtype='datetime64[ns]', freq='D')"
      ]
     },
     "execution_count": 87,
     "metadata": {},
     "output_type": "execute_result"
    }
   ],
   "execution_count": 87
  },
  {
   "metadata": {
    "ExecuteTime": {
     "end_time": "2024-09-28T20:24:35.200903Z",
     "start_time": "2024-09-28T20:24:35.193589Z"
    }
   },
   "cell_type": "code",
   "source": "pd.date_range(\"2000-01-01\",\"2000-12-01\",freq=\"BME\")",
   "id": "7ed593e304750c94",
   "outputs": [
    {
     "data": {
      "text/plain": [
       "DatetimeIndex(['2000-01-31', '2000-02-29', '2000-03-31', '2000-04-28',\n",
       "               '2000-05-31', '2000-06-30', '2000-07-31', '2000-08-31',\n",
       "               '2000-09-29', '2000-10-31', '2000-11-30'],\n",
       "              dtype='datetime64[ns]', freq='BME')"
      ]
     },
     "execution_count": 89,
     "metadata": {},
     "output_type": "execute_result"
    }
   ],
   "execution_count": 89
  },
  {
   "metadata": {
    "ExecuteTime": {
     "end_time": "2024-09-28T20:26:43.068343Z",
     "start_time": "2024-09-28T20:26:43.062273Z"
    }
   },
   "cell_type": "code",
   "source": "pd.date_range(\"2012-05-02 12:56:31\",periods=5)",
   "id": "2d19e4dea8cc226e",
   "outputs": [
    {
     "data": {
      "text/plain": [
       "DatetimeIndex(['2012-05-02 12:56:31', '2012-05-03 12:56:31',\n",
       "               '2012-05-04 12:56:31', '2012-05-05 12:56:31',\n",
       "               '2012-05-06 12:56:31'],\n",
       "              dtype='datetime64[ns]', freq='D')"
      ]
     },
     "execution_count": 90,
     "metadata": {},
     "output_type": "execute_result"
    }
   ],
   "execution_count": 90
  },
  {
   "metadata": {
    "ExecuteTime": {
     "end_time": "2024-09-28T20:28:27.972239Z",
     "start_time": "2024-09-28T20:28:27.965846Z"
    }
   },
   "cell_type": "code",
   "source": "pd.date_range(\"2012-05-02 12:56:31\",periods=5,normalize=True)",
   "id": "867145e316221050",
   "outputs": [
    {
     "data": {
      "text/plain": [
       "DatetimeIndex(['2012-05-02', '2012-05-03', '2012-05-04', '2012-05-05',\n",
       "               '2012-05-06'],\n",
       "              dtype='datetime64[ns]', freq='D')"
      ]
     },
     "execution_count": 91,
     "metadata": {},
     "output_type": "execute_result"
    }
   ],
   "execution_count": 91
  },
  {
   "metadata": {},
   "cell_type": "code",
   "outputs": [],
   "execution_count": null,
   "source": [
    "# Frequencies and Date Offsets\n",
    "# \n",
    "# McKinney, Wes. Python for Data Analysis: Data Wrangling with pandas, NumPy, and Jupyter (p. 574). O'Reilly Media. Kindle Edition. "
   ],
   "id": "85b51eb031a9d2ae"
  }
 ],
 "metadata": {
  "kernelspec": {
   "display_name": "Python 3",
   "language": "python",
   "name": "python3"
  },
  "language_info": {
   "codemirror_mode": {
    "name": "ipython",
    "version": 2
   },
   "file_extension": ".py",
   "mimetype": "text/x-python",
   "name": "python",
   "nbconvert_exporter": "python",
   "pygments_lexer": "ipython2",
   "version": "2.7.6"
  }
 },
 "nbformat": 4,
 "nbformat_minor": 5
}
