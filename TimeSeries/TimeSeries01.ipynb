{
 "cells": [
  {
   "cell_type": "code",
   "id": "initial_id",
   "metadata": {
    "collapsed": true,
    "ExecuteTime": {
     "end_time": "2024-09-21T23:34:05.030243Z",
     "start_time": "2024-09-21T23:34:03.990648Z"
    }
   },
   "source": [
    "import numpy as np\n",
    "import pandas as pd"
   ],
   "outputs": [],
   "execution_count": 1
  },
  {
   "metadata": {
    "ExecuteTime": {
     "end_time": "2024-09-21T23:42:26.439722Z",
     "start_time": "2024-09-21T23:42:26.433275Z"
    }
   },
   "cell_type": "code",
   "source": [
    "from datetime import datetime, date\n",
    "\n",
    "now = datetime.now()\n",
    "now.year,now.month,now.day"
   ],
   "id": "6e43253679c520d7",
   "outputs": [
    {
     "data": {
      "text/plain": [
       "(2024, 9, 21)"
      ]
     },
     "execution_count": 8,
     "metadata": {},
     "output_type": "execute_result"
    }
   ],
   "execution_count": 8
  },
  {
   "metadata": {
    "ExecuteTime": {
     "end_time": "2024-09-21T23:43:31.674424Z",
     "start_time": "2024-09-21T23:43:31.669327Z"
    }
   },
   "cell_type": "code",
   "source": [
    "delta = datetime(2011,1,7) - datetime(2008,6,24,8,15)\n",
    "delta"
   ],
   "id": "ae6ef78c0e0110eb",
   "outputs": [
    {
     "data": {
      "text/plain": [
       "datetime.timedelta(days=926, seconds=56700)"
      ]
     },
     "execution_count": 10,
     "metadata": {},
     "output_type": "execute_result"
    }
   ],
   "execution_count": 10
  },
  {
   "metadata": {
    "ExecuteTime": {
     "end_time": "2024-09-21T23:43:32.766601Z",
     "start_time": "2024-09-21T23:43:32.760936Z"
    }
   },
   "cell_type": "code",
   "source": "delta.days\n",
   "id": "f12a1a99d8b080d5",
   "outputs": [
    {
     "data": {
      "text/plain": [
       "926"
      ]
     },
     "execution_count": 11,
     "metadata": {},
     "output_type": "execute_result"
    }
   ],
   "execution_count": 11
  },
  {
   "metadata": {
    "ExecuteTime": {
     "end_time": "2024-09-21T23:43:34.012869Z",
     "start_time": "2024-09-21T23:43:34.002078Z"
    }
   },
   "cell_type": "code",
   "source": "delta.seconds",
   "id": "20854a97f6e0d993",
   "outputs": [
    {
     "data": {
      "text/plain": [
       "56700"
      ]
     },
     "execution_count": 12,
     "metadata": {},
     "output_type": "execute_result"
    }
   ],
   "execution_count": 12
  },
  {
   "metadata": {
    "ExecuteTime": {
     "end_time": "2024-09-21T23:44:25.101095Z",
     "start_time": "2024-09-21T23:44:25.097534Z"
    }
   },
   "cell_type": "code",
   "source": [
    "from datetime import timedelta\n",
    "start = datetime(2011,1,7)"
   ],
   "id": "b6c3d4f59467ed80",
   "outputs": [],
   "execution_count": 13
  },
  {
   "metadata": {
    "ExecuteTime": {
     "end_time": "2024-09-21T23:44:51.784750Z",
     "start_time": "2024-09-21T23:44:51.778939Z"
    }
   },
   "cell_type": "code",
   "source": "start + timedelta(12)",
   "id": "f2f6d6b2cf934d64",
   "outputs": [
    {
     "data": {
      "text/plain": [
       "datetime.datetime(2011, 1, 19, 0, 0)"
      ]
     },
     "execution_count": 14,
     "metadata": {},
     "output_type": "execute_result"
    }
   ],
   "execution_count": 14
  },
  {
   "metadata": {
    "ExecuteTime": {
     "end_time": "2024-09-21T23:45:56.787823Z",
     "start_time": "2024-09-21T23:45:56.784112Z"
    }
   },
   "cell_type": "code",
   "source": "stamp =datetime(2011,1,7)",
   "id": "45fdea580afa83c6",
   "outputs": [],
   "execution_count": 15
  },
  {
   "metadata": {
    "ExecuteTime": {
     "end_time": "2024-09-21T23:46:11.895254Z",
     "start_time": "2024-09-21T23:46:11.885823Z"
    }
   },
   "cell_type": "code",
   "source": "str(stamp)",
   "id": "51a0235bc5ea14b3",
   "outputs": [
    {
     "data": {
      "text/plain": [
       "'2011-01-07 00:00:00'"
      ]
     },
     "execution_count": 16,
     "metadata": {},
     "output_type": "execute_result"
    }
   ],
   "execution_count": 16
  },
  {
   "metadata": {
    "ExecuteTime": {
     "end_time": "2024-09-21T23:46:52.777962Z",
     "start_time": "2024-09-21T23:46:52.774304Z"
    }
   },
   "cell_type": "code",
   "source": "value =\"2011-01-03\"",
   "id": "c96a962f335fe216",
   "outputs": [],
   "execution_count": 17
  },
  {
   "metadata": {
    "ExecuteTime": {
     "end_time": "2024-09-21T23:48:48.864128Z",
     "start_time": "2024-09-21T23:48:48.858357Z"
    }
   },
   "cell_type": "code",
   "source": "datetime.strptime(value,\"%Y-%m-%d\")",
   "id": "62e93772216a1339",
   "outputs": [
    {
     "data": {
      "text/plain": [
       "datetime.datetime(2011, 1, 3, 0, 0)"
      ]
     },
     "execution_count": 20,
     "metadata": {},
     "output_type": "execute_result"
    }
   ],
   "execution_count": 20
  },
  {
   "metadata": {
    "ExecuteTime": {
     "end_time": "2024-09-21T23:50:10.266805Z",
     "start_time": "2024-09-21T23:50:10.263177Z"
    }
   },
   "cell_type": "code",
   "source": "datestrs =[\"7/6/2011\",\"8/6/2011\"]",
   "id": "492f9b3f8518c934",
   "outputs": [],
   "execution_count": 21
  },
  {
   "metadata": {
    "ExecuteTime": {
     "end_time": "2024-09-21T23:51:46.890271Z",
     "start_time": "2024-09-21T23:51:46.883890Z"
    }
   },
   "cell_type": "code",
   "source": "[datetime.strptime(x,\"%m/%d/%Y\") for x in datestrs]",
   "id": "f0a57aefeef6757b",
   "outputs": [
    {
     "data": {
      "text/plain": [
       "[datetime.datetime(2011, 7, 6, 0, 0), datetime.datetime(2011, 8, 6, 0, 0)]"
      ]
     },
     "execution_count": 24,
     "metadata": {},
     "output_type": "execute_result"
    }
   ],
   "execution_count": 24
  },
  {
   "metadata": {
    "ExecuteTime": {
     "end_time": "2024-09-21T23:52:48.356287Z",
     "start_time": "2024-09-21T23:52:48.346290Z"
    }
   },
   "cell_type": "code",
   "source": [
    "datestrs = [\"2011-07-06 12:00:00\", \"2011-08-06 00:00:00\"]\n",
    "pd.to_datetime(datestrs)"
   ],
   "id": "e41190f426599829",
   "outputs": [
    {
     "data": {
      "text/plain": [
       "DatetimeIndex(['2011-07-06 12:00:00', '2011-08-06 00:00:00'], dtype='datetime64[ns]', freq=None)"
      ]
     },
     "execution_count": 25,
     "metadata": {},
     "output_type": "execute_result"
    }
   ],
   "execution_count": 25
  },
  {
   "metadata": {
    "ExecuteTime": {
     "end_time": "2024-09-21T23:53:30.043054Z",
     "start_time": "2024-09-21T23:53:30.038551Z"
    }
   },
   "cell_type": "code",
   "source": "idx=pd.to_datetime(datestrs+[None])",
   "id": "a3e7e30376caaa01",
   "outputs": [],
   "execution_count": 26
  },
  {
   "metadata": {
    "ExecuteTime": {
     "end_time": "2024-09-21T23:53:47.970795Z",
     "start_time": "2024-09-21T23:53:47.964961Z"
    }
   },
   "cell_type": "code",
   "source": "idx[2]",
   "id": "27ce6a52d683c84d",
   "outputs": [
    {
     "data": {
      "text/plain": [
       "NaT"
      ]
     },
     "execution_count": 27,
     "metadata": {},
     "output_type": "execute_result"
    }
   ],
   "execution_count": 27
  },
  {
   "metadata": {
    "ExecuteTime": {
     "end_time": "2024-09-21T23:54:05.434316Z",
     "start_time": "2024-09-21T23:54:05.428232Z"
    }
   },
   "cell_type": "code",
   "source": "pd.isna(idx)",
   "id": "565a98615c1a519",
   "outputs": [
    {
     "data": {
      "text/plain": [
       "array([False, False,  True])"
      ]
     },
     "execution_count": 28,
     "metadata": {},
     "output_type": "execute_result"
    }
   ],
   "execution_count": 28
  },
  {
   "metadata": {
    "ExecuteTime": {
     "end_time": "2024-09-21T23:56:06.098194Z",
     "start_time": "2024-09-21T23:56:06.087451Z"
    }
   },
   "cell_type": "code",
   "source": [
    "dates = [datetime(2011, 1, 2), datetime(2011, 1, 5),\n",
    "         datetime(2011, 1, 7), datetime(2011, 1, 8),\n",
    "         datetime(2011, 1, 10), datetime(2011, 1, 12)]\n",
    "ts =pd.Series(np.random.standard_normal(len(dates)),index=dates)\n",
    "ts"
   ],
   "id": "b11b1648fb8da79d",
   "outputs": [
    {
     "data": {
      "text/plain": [
       "2011-01-02   -0.855898\n",
       "2011-01-05   -0.035507\n",
       "2011-01-07   -1.983422\n",
       "2011-01-08    0.761221\n",
       "2011-01-10   -0.027228\n",
       "2011-01-12   -0.113248\n",
       "dtype: float64"
      ]
     },
     "execution_count": 30,
     "metadata": {},
     "output_type": "execute_result"
    }
   ],
   "execution_count": 30
  },
  {
   "metadata": {
    "ExecuteTime": {
     "end_time": "2024-09-21T23:56:36.326595Z",
     "start_time": "2024-09-21T23:56:36.319801Z"
    }
   },
   "cell_type": "code",
   "source": "ts.index",
   "id": "a01e4baa4ea3e21d",
   "outputs": [
    {
     "data": {
      "text/plain": [
       "DatetimeIndex(['2011-01-02', '2011-01-05', '2011-01-07', '2011-01-08',\n",
       "               '2011-01-10', '2011-01-12'],\n",
       "              dtype='datetime64[ns]', freq=None)"
      ]
     },
     "execution_count": 31,
     "metadata": {},
     "output_type": "execute_result"
    }
   ],
   "execution_count": 31
  },
  {
   "metadata": {
    "ExecuteTime": {
     "end_time": "2024-09-21T23:57:12.005396Z",
     "start_time": "2024-09-21T23:57:11.997199Z"
    }
   },
   "cell_type": "code",
   "source": "ts + ts[::2]",
   "id": "6501e95472ed901d",
   "outputs": [
    {
     "data": {
      "text/plain": [
       "2011-01-02   -1.711796\n",
       "2011-01-05         NaN\n",
       "2011-01-07   -3.966843\n",
       "2011-01-08         NaN\n",
       "2011-01-10   -0.054457\n",
       "2011-01-12         NaN\n",
       "dtype: float64"
      ]
     },
     "execution_count": 32,
     "metadata": {},
     "output_type": "execute_result"
    }
   ],
   "execution_count": 32
  },
  {
   "metadata": {
    "ExecuteTime": {
     "end_time": "2024-09-21T23:57:44.377320Z",
     "start_time": "2024-09-21T23:57:44.372103Z"
    }
   },
   "cell_type": "code",
   "source": "ts.index.dtype",
   "id": "cde646b865318757",
   "outputs": [
    {
     "data": {
      "text/plain": [
       "dtype('<M8[ns]')"
      ]
     },
     "execution_count": 33,
     "metadata": {},
     "output_type": "execute_result"
    }
   ],
   "execution_count": 33
  },
  {
   "metadata": {
    "ExecuteTime": {
     "end_time": "2024-09-21T23:58:25.158268Z",
     "start_time": "2024-09-21T23:58:25.152051Z"
    }
   },
   "cell_type": "code",
   "source": [
    "stamp=ts.index[0]\n",
    "stamp"
   ],
   "id": "5496bd9b10de75a4",
   "outputs": [
    {
     "data": {
      "text/plain": [
       "Timestamp('2011-01-02 00:00:00')"
      ]
     },
     "execution_count": 35,
     "metadata": {},
     "output_type": "execute_result"
    }
   ],
   "execution_count": 35
  },
  {
   "metadata": {
    "ExecuteTime": {
     "end_time": "2024-09-21T23:59:01.904256Z",
     "start_time": "2024-09-21T23:59:01.897928Z"
    }
   },
   "cell_type": "code",
   "source": [
    "stamp = ts.index[2]\n",
    "ts[stamp]"
   ],
   "id": "2bc9730ebe3d35f3",
   "outputs": [
    {
     "data": {
      "text/plain": [
       "-1.983421507870331"
      ]
     },
     "execution_count": 36,
     "metadata": {},
     "output_type": "execute_result"
    }
   ],
   "execution_count": 36
  },
  {
   "metadata": {
    "ExecuteTime": {
     "end_time": "2024-09-21T23:59:35.890603Z",
     "start_time": "2024-09-21T23:59:35.883870Z"
    }
   },
   "cell_type": "code",
   "source": "ts[\"2011-01-10\"]",
   "id": "2b6467e05f79e50e",
   "outputs": [
    {
     "data": {
      "text/plain": [
       "-0.02722830605126013"
      ]
     },
     "execution_count": 37,
     "metadata": {},
     "output_type": "execute_result"
    }
   ],
   "execution_count": 37
  },
  {
   "metadata": {
    "ExecuteTime": {
     "end_time": "2024-09-22T00:02:00.577548Z",
     "start_time": "2024-09-22T00:02:00.565274Z"
    }
   },
   "cell_type": "code",
   "source": [
    "longer_ts= pd.Series(np.random.standard_normal(1000),index=pd.date_range(\"2000-01-01\",periods=1000))\n",
    "longer_ts"
   ],
   "id": "a70cd917c8d3ed8e",
   "outputs": [
    {
     "data": {
      "text/plain": [
       "2000-01-01   -0.654677\n",
       "2000-01-02    0.454028\n",
       "2000-01-03    0.435258\n",
       "2000-01-04   -1.796491\n",
       "2000-01-05    1.342460\n",
       "                ...   \n",
       "2002-09-22    1.681031\n",
       "2002-09-23    0.339582\n",
       "2002-09-24    1.866436\n",
       "2002-09-25   -1.810740\n",
       "2002-09-26    0.353254\n",
       "Freq: D, Length: 1000, dtype: float64"
      ]
     },
     "execution_count": 39,
     "metadata": {},
     "output_type": "execute_result"
    }
   ],
   "execution_count": 39
  },
  {
   "metadata": {
    "ExecuteTime": {
     "end_time": "2024-09-22T00:03:16.548212Z",
     "start_time": "2024-09-22T00:03:16.537072Z"
    }
   },
   "cell_type": "code",
   "source": "longer_ts[\"2001\"]",
   "id": "23af97327d0a99dd",
   "outputs": [
    {
     "data": {
      "text/plain": [
       "2001-01-01   -1.124653\n",
       "2001-01-02   -0.521695\n",
       "2001-01-03    1.397809\n",
       "2001-01-04    1.133260\n",
       "2001-01-05   -0.371997\n",
       "                ...   \n",
       "2001-12-27    0.258068\n",
       "2001-12-28   -1.161603\n",
       "2001-12-29   -0.527452\n",
       "2001-12-30    0.263500\n",
       "2001-12-31    0.687624\n",
       "Freq: D, Length: 365, dtype: float64"
      ]
     },
     "execution_count": 41,
     "metadata": {},
     "output_type": "execute_result"
    }
   ],
   "execution_count": 41
  },
  {
   "metadata": {
    "ExecuteTime": {
     "end_time": "2024-09-22T00:04:05.696314Z",
     "start_time": "2024-09-22T00:04:05.688785Z"
    }
   },
   "cell_type": "code",
   "source": "longer_ts[\"2001-05\"]",
   "id": "28513d1c1120c6ea",
   "outputs": [
    {
     "data": {
      "text/plain": [
       "2001-05-01    0.105153\n",
       "2001-05-02   -1.362060\n",
       "2001-05-03   -1.886959\n",
       "2001-05-04   -0.922807\n",
       "2001-05-05    0.001296\n",
       "2001-05-06   -0.078109\n",
       "2001-05-07   -0.416395\n",
       "2001-05-08    0.536493\n",
       "2001-05-09    1.582262\n",
       "2001-05-10   -0.154276\n",
       "2001-05-11   -0.489354\n",
       "2001-05-12    0.087871\n",
       "2001-05-13   -1.194565\n",
       "2001-05-14    0.056256\n",
       "2001-05-15   -1.057508\n",
       "2001-05-16    1.628096\n",
       "2001-05-17    0.084033\n",
       "2001-05-18   -0.026072\n",
       "2001-05-19    0.525869\n",
       "2001-05-20   -1.463950\n",
       "2001-05-21    0.168139\n",
       "2001-05-22   -0.135428\n",
       "2001-05-23    0.174862\n",
       "2001-05-24   -0.138346\n",
       "2001-05-25    0.184188\n",
       "2001-05-26   -0.837953\n",
       "2001-05-27   -1.423030\n",
       "2001-05-28    0.775226\n",
       "2001-05-29   -0.911282\n",
       "2001-05-30    0.017256\n",
       "2001-05-31    0.531437\n",
       "Freq: D, dtype: float64"
      ]
     },
     "execution_count": 42,
     "metadata": {},
     "output_type": "execute_result"
    }
   ],
   "execution_count": 42
  },
  {
   "metadata": {
    "ExecuteTime": {
     "end_time": "2024-09-22T00:05:11.092011Z",
     "start_time": "2024-09-22T00:05:11.085379Z"
    }
   },
   "cell_type": "code",
   "source": "ts[datetime(2001,1,7):]",
   "id": "819d3a52db8cf8d7",
   "outputs": [
    {
     "data": {
      "text/plain": [
       "2011-01-02   -0.855898\n",
       "2011-01-05   -0.035507\n",
       "2011-01-07   -1.983422\n",
       "2011-01-08    0.761221\n",
       "2011-01-10   -0.027228\n",
       "2011-01-12   -0.113248\n",
       "dtype: float64"
      ]
     },
     "execution_count": 44,
     "metadata": {},
     "output_type": "execute_result"
    }
   ],
   "execution_count": 44
  },
  {
   "metadata": {
    "ExecuteTime": {
     "end_time": "2024-09-22T00:06:07.690270Z",
     "start_time": "2024-09-22T00:06:07.682642Z"
    }
   },
   "cell_type": "code",
   "source": "ts[datetime(2011,1,7):datetime(2011,1,10)]",
   "id": "82b6ac08a70bf1dc",
   "outputs": [
    {
     "data": {
      "text/plain": [
       "2011-01-07   -1.983422\n",
       "2011-01-08    0.761221\n",
       "2011-01-10   -0.027228\n",
       "dtype: float64"
      ]
     },
     "execution_count": 46,
     "metadata": {},
     "output_type": "execute_result"
    }
   ],
   "execution_count": 46
  },
  {
   "metadata": {
    "ExecuteTime": {
     "end_time": "2024-09-22T00:06:46.881941Z",
     "start_time": "2024-09-22T00:06:46.875834Z"
    }
   },
   "cell_type": "code",
   "source": "ts",
   "id": "96a50c2bc89bc760",
   "outputs": [
    {
     "data": {
      "text/plain": [
       "2011-01-02   -0.855898\n",
       "2011-01-05   -0.035507\n",
       "2011-01-07   -1.983422\n",
       "2011-01-08    0.761221\n",
       "2011-01-10   -0.027228\n",
       "2011-01-12   -0.113248\n",
       "dtype: float64"
      ]
     },
     "execution_count": 47,
     "metadata": {},
     "output_type": "execute_result"
    }
   ],
   "execution_count": 47
  },
  {
   "metadata": {
    "ExecuteTime": {
     "end_time": "2024-09-22T00:07:26.056368Z",
     "start_time": "2024-09-22T00:07:26.048147Z"
    }
   },
   "cell_type": "code",
   "source": "ts[\"2011-01-06\":\"2011-01-11\"]",
   "id": "3d64d30c09a96893",
   "outputs": [
    {
     "data": {
      "text/plain": [
       "2011-01-07   -1.983422\n",
       "2011-01-08    0.761221\n",
       "2011-01-10   -0.027228\n",
       "dtype: float64"
      ]
     },
     "execution_count": 48,
     "metadata": {},
     "output_type": "execute_result"
    }
   ],
   "execution_count": 48
  },
  {
   "metadata": {
    "ExecuteTime": {
     "end_time": "2024-09-22T00:08:45.858611Z",
     "start_time": "2024-09-22T00:08:45.851511Z"
    }
   },
   "cell_type": "code",
   "source": "ts.truncate(after=\"2011-01-09\")",
   "id": "5bc8c5d64474dee6",
   "outputs": [
    {
     "data": {
      "text/plain": [
       "2011-01-02   -0.855898\n",
       "2011-01-05   -0.035507\n",
       "2011-01-07   -1.983422\n",
       "2011-01-08    0.761221\n",
       "dtype: float64"
      ]
     },
     "execution_count": 49,
     "metadata": {},
     "output_type": "execute_result"
    }
   ],
   "execution_count": 49
  },
  {
   "metadata": {
    "ExecuteTime": {
     "end_time": "2024-09-22T00:20:01.197874Z",
     "start_time": "2024-09-22T00:20:01.163097Z"
    }
   },
   "cell_type": "code",
   "source": "dates= pd.date_range(\"2000-01-01\",periods=1000,freq=\"W-WED\")",
   "id": "5154475cbf8ef63",
   "outputs": [],
   "execution_count": 50
  },
  {
   "metadata": {
    "ExecuteTime": {
     "end_time": "2024-09-22T00:24:29.966893Z",
     "start_time": "2024-09-22T00:24:29.962583Z"
    }
   },
   "cell_type": "code",
   "source": "longer_df=pd.DataFrame(np.random.standard_normal((1000,4)),index=dates,columns=[\"Colorado\",\"Texas\",\"New York\",\"Ohio\"])",
   "id": "3667f90aa2eab6a1",
   "outputs": [],
   "execution_count": 55
  },
  {
   "metadata": {
    "ExecuteTime": {
     "end_time": "2024-09-22T00:24:57.988890Z",
     "start_time": "2024-09-22T00:24:57.965955Z"
    }
   },
   "cell_type": "code",
   "source": "longer_df.loc[\"2001-05\"]",
   "id": "7391fe1c8eb6cbb0",
   "outputs": [
    {
     "data": {
      "text/plain": [
       "            Colorado     Texas  New York      Ohio\n",
       "2001-05-02  0.768964  0.915335  0.142154 -0.541988\n",
       "2001-05-09  0.290286 -0.493442 -0.119345 -0.508757\n",
       "2001-05-16 -0.178867 -2.319690  0.049650 -2.350147\n",
       "2001-05-23 -0.053467  0.516345 -0.050470  0.229332\n",
       "2001-05-30 -1.070678 -0.574716 -0.237580 -0.239583"
      ],
      "text/html": [
       "<div>\n",
       "<style scoped>\n",
       "    .dataframe tbody tr th:only-of-type {\n",
       "        vertical-align: middle;\n",
       "    }\n",
       "\n",
       "    .dataframe tbody tr th {\n",
       "        vertical-align: top;\n",
       "    }\n",
       "\n",
       "    .dataframe thead th {\n",
       "        text-align: right;\n",
       "    }\n",
       "</style>\n",
       "<table border=\"1\" class=\"dataframe\">\n",
       "  <thead>\n",
       "    <tr style=\"text-align: right;\">\n",
       "      <th></th>\n",
       "      <th>Colorado</th>\n",
       "      <th>Texas</th>\n",
       "      <th>New York</th>\n",
       "      <th>Ohio</th>\n",
       "    </tr>\n",
       "  </thead>\n",
       "  <tbody>\n",
       "    <tr>\n",
       "      <th>2001-05-02</th>\n",
       "      <td>0.768964</td>\n",
       "      <td>0.915335</td>\n",
       "      <td>0.142154</td>\n",
       "      <td>-0.541988</td>\n",
       "    </tr>\n",
       "    <tr>\n",
       "      <th>2001-05-09</th>\n",
       "      <td>0.290286</td>\n",
       "      <td>-0.493442</td>\n",
       "      <td>-0.119345</td>\n",
       "      <td>-0.508757</td>\n",
       "    </tr>\n",
       "    <tr>\n",
       "      <th>2001-05-16</th>\n",
       "      <td>-0.178867</td>\n",
       "      <td>-2.319690</td>\n",
       "      <td>0.049650</td>\n",
       "      <td>-2.350147</td>\n",
       "    </tr>\n",
       "    <tr>\n",
       "      <th>2001-05-23</th>\n",
       "      <td>-0.053467</td>\n",
       "      <td>0.516345</td>\n",
       "      <td>-0.050470</td>\n",
       "      <td>0.229332</td>\n",
       "    </tr>\n",
       "    <tr>\n",
       "      <th>2001-05-30</th>\n",
       "      <td>-1.070678</td>\n",
       "      <td>-0.574716</td>\n",
       "      <td>-0.237580</td>\n",
       "      <td>-0.239583</td>\n",
       "    </tr>\n",
       "  </tbody>\n",
       "</table>\n",
       "</div>"
      ]
     },
     "execution_count": 56,
     "metadata": {},
     "output_type": "execute_result"
    }
   ],
   "execution_count": 56
  },
  {
   "metadata": {},
   "cell_type": "code",
   "outputs": [],
   "execution_count": null,
   "source": [
    "# Time Series with Duplicate Indices\n",
    "# \n",
    "# McKinney, Wes. Python for Data Analysis: Data Wrangling with pandas, NumPy, and Jupyter (p. 566). O'Reilly Media. Kindle Edition. "
   ],
   "id": "f415b54bed6912d7"
  }
 ],
 "metadata": {
  "kernelspec": {
   "display_name": "Python 3",
   "language": "python",
   "name": "python3"
  },
  "language_info": {
   "codemirror_mode": {
    "name": "ipython",
    "version": 2
   },
   "file_extension": ".py",
   "mimetype": "text/x-python",
   "name": "python",
   "nbconvert_exporter": "python",
   "pygments_lexer": "ipython2",
   "version": "2.7.6"
  }
 },
 "nbformat": 4,
 "nbformat_minor": 5
}
