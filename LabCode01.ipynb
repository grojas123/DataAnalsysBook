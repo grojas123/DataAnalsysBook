{
 "cells": [
  {
   "cell_type": "code",
   "id": "initial_id",
   "metadata": {
    "collapsed": true,
    "ExecuteTime": {
     "end_time": "2024-06-18T23:39:47.208007Z",
     "start_time": "2024-06-18T23:39:47.201087Z"
    }
   },
   "source": "s = \"python\"",
   "outputs": [],
   "execution_count": 1
  },
  {
   "metadata": {
    "ExecuteTime": {
     "end_time": "2024-06-18T23:39:48.860921Z",
     "start_time": "2024-06-18T23:39:48.851246Z"
    }
   },
   "cell_type": "code",
   "source": "list(s)",
   "id": "8a182e7d8c3db1fb",
   "outputs": [
    {
     "data": {
      "text/plain": [
       "['p', 'y', 't', 'h', 'o', 'n']"
      ]
     },
     "execution_count": 2,
     "metadata": {},
     "output_type": "execute_result"
    }
   ],
   "execution_count": 2
  },
  {
   "metadata": {
    "ExecuteTime": {
     "end_time": "2024-06-18T23:40:23.791348Z",
     "start_time": "2024-06-18T23:40:23.784139Z"
    }
   },
   "cell_type": "code",
   "source": "s[3:]",
   "id": "4dc3b0c1ffeea079",
   "outputs": [
    {
     "data": {
      "text/plain": [
       "'hon'"
      ]
     },
     "execution_count": 4,
     "metadata": {},
     "output_type": "execute_result"
    }
   ],
   "execution_count": 4
  },
  {
   "metadata": {
    "ExecuteTime": {
     "end_time": "2024-06-18T23:41:44.937099Z",
     "start_time": "2024-06-18T23:41:44.932092Z"
    }
   },
   "cell_type": "code",
   "source": "s= \"12\\\\34\"",
   "id": "f3188afcd7daf706",
   "outputs": [],
   "execution_count": 5
  },
  {
   "metadata": {
    "ExecuteTime": {
     "end_time": "2024-06-18T23:41:59.265916Z",
     "start_time": "2024-06-18T23:41:59.259929Z"
    }
   },
   "cell_type": "code",
   "source": "print(s)",
   "id": "d2ee7dd09840497b",
   "outputs": [
    {
     "name": "stdout",
     "output_type": "stream",
     "text": [
      "12\\34\n"
     ]
    }
   ],
   "execution_count": 6
  },
  {
   "metadata": {
    "ExecuteTime": {
     "end_time": "2024-06-18T23:43:00.227564Z",
     "start_time": "2024-06-18T23:43:00.223893Z"
    }
   },
   "cell_type": "code",
   "source": "template = \"{0:.2f} {1:s} are worth US${2:d}\"",
   "id": "6e82c864ba171897",
   "outputs": [],
   "execution_count": 7
  },
  {
   "metadata": {
    "ExecuteTime": {
     "end_time": "2024-06-18T23:43:02.360563Z",
     "start_time": "2024-06-18T23:43:02.353870Z"
    }
   },
   "cell_type": "code",
   "source": "template.format(88.46, \"Argentine Pesos\", 1)",
   "id": "e086bcdff09b1ee0",
   "outputs": [
    {
     "data": {
      "text/plain": [
       "'88.46 Argentine Pesos are worth US$1'"
      ]
     },
     "execution_count": 8,
     "metadata": {},
     "output_type": "execute_result"
    }
   ],
   "execution_count": 8
  }
 ],
 "metadata": {
  "kernelspec": {
   "display_name": "Python 3",
   "language": "python",
   "name": "python3"
  },
  "language_info": {
   "codemirror_mode": {
    "name": "ipython",
    "version": 2
   },
   "file_extension": ".py",
   "mimetype": "text/x-python",
   "name": "python",
   "nbconvert_exporter": "python",
   "pygments_lexer": "ipython2",
   "version": "2.7.6"
  }
 },
 "nbformat": 4,
 "nbformat_minor": 5
}
