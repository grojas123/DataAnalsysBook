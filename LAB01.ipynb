{
 "cells": [
  {
   "cell_type": "code",
   "id": "initial_id",
   "metadata": {
    "collapsed": true,
    "ExecuteTime": {
     "end_time": "2024-08-10T19:11:38.270862Z",
     "start_time": "2024-08-10T19:11:38.267379Z"
    }
   },
   "source": [
    "import pandas as pd\n",
    "import numpy as np\n",
    "import re"
   ],
   "outputs": [],
   "execution_count": 3
  },
  {
   "metadata": {
    "ExecuteTime": {
     "end_time": "2024-08-10T19:11:38.385426Z",
     "start_time": "2024-08-10T19:11:38.381019Z"
    }
   },
   "cell_type": "code",
   "source": [
    "data = {\"Dave\": \"dave@google.com\", \"Steve\": \"steve@gmail.com\",\n",
    "        \"Rob\": \"rob@gmail.com\", \"Wes\": np.nan}"
   ],
   "id": "e2d84f6e36a01dd7",
   "outputs": [],
   "execution_count": 4
  },
  {
   "metadata": {
    "ExecuteTime": {
     "end_time": "2024-08-10T19:11:38.502979Z",
     "start_time": "2024-08-10T19:11:38.498349Z"
    }
   },
   "cell_type": "code",
   "source": "data = pd.Series(data)",
   "id": "7a39d58b4e7fe70a",
   "outputs": [],
   "execution_count": 5
  },
  {
   "metadata": {
    "ExecuteTime": {
     "end_time": "2024-08-10T19:11:38.533685Z",
     "start_time": "2024-08-10T19:11:38.523230Z"
    }
   },
   "cell_type": "code",
   "source": "data",
   "id": "2caa98b9890aabc",
   "outputs": [
    {
     "data": {
      "text/plain": [
       "Dave     dave@google.com\n",
       "Steve    steve@gmail.com\n",
       "Rob        rob@gmail.com\n",
       "Wes                  NaN\n",
       "dtype: object"
      ]
     },
     "execution_count": 6,
     "metadata": {},
     "output_type": "execute_result"
    }
   ],
   "execution_count": 6
  },
  {
   "metadata": {
    "ExecuteTime": {
     "end_time": "2024-08-10T19:11:38.570252Z",
     "start_time": "2024-08-10T19:11:38.563219Z"
    }
   },
   "cell_type": "code",
   "source": "data.isna()",
   "id": "8d1d9fc7aedc2445",
   "outputs": [
    {
     "data": {
      "text/plain": [
       "Dave     False\n",
       "Steve    False\n",
       "Rob      False\n",
       "Wes       True\n",
       "dtype: bool"
      ]
     },
     "execution_count": 7,
     "metadata": {},
     "output_type": "execute_result"
    }
   ],
   "execution_count": 7
  },
  {
   "metadata": {
    "ExecuteTime": {
     "end_time": "2024-08-10T19:11:38.620494Z",
     "start_time": "2024-08-10T19:11:38.612517Z"
    }
   },
   "cell_type": "code",
   "source": "data.str.contains(\"gmail\")",
   "id": "1d95ba6f9e0dbb56",
   "outputs": [
    {
     "data": {
      "text/plain": [
       "Dave     False\n",
       "Steve     True\n",
       "Rob       True\n",
       "Wes        NaN\n",
       "dtype: object"
      ]
     },
     "execution_count": 8,
     "metadata": {},
     "output_type": "execute_result"
    }
   ],
   "execution_count": 8
  },
  {
   "metadata": {
    "ExecuteTime": {
     "end_time": "2024-08-10T19:11:38.681264Z",
     "start_time": "2024-08-10T19:11:38.676577Z"
    }
   },
   "cell_type": "code",
   "source": "data_as_string_ext = data.astype('string')",
   "id": "14d5552ddcf95b57",
   "outputs": [],
   "execution_count": 9
  },
  {
   "metadata": {
    "ExecuteTime": {
     "end_time": "2024-08-10T19:11:38.714072Z",
     "start_time": "2024-08-10T19:11:38.706133Z"
    }
   },
   "cell_type": "code",
   "source": "data_as_string_ext",
   "id": "ee6854a01f28234c",
   "outputs": [
    {
     "data": {
      "text/plain": [
       "Dave     dave@google.com\n",
       "Steve    steve@gmail.com\n",
       "Rob        rob@gmail.com\n",
       "Wes                 <NA>\n",
       "dtype: string"
      ]
     },
     "execution_count": 10,
     "metadata": {},
     "output_type": "execute_result"
    }
   ],
   "execution_count": 10
  },
  {
   "metadata": {
    "ExecuteTime": {
     "end_time": "2024-08-10T19:11:38.755343Z",
     "start_time": "2024-08-10T19:11:38.748736Z"
    }
   },
   "cell_type": "code",
   "source": "data_as_string_ext.str.contains(\"gmail\")",
   "id": "620f6753fc86d1f5",
   "outputs": [
    {
     "data": {
      "text/plain": [
       "Dave     False\n",
       "Steve     True\n",
       "Rob       True\n",
       "Wes       <NA>\n",
       "dtype: boolean"
      ]
     },
     "execution_count": 11,
     "metadata": {},
     "output_type": "execute_result"
    }
   ],
   "execution_count": 11
  },
  {
   "metadata": {
    "ExecuteTime": {
     "end_time": "2024-08-10T19:11:38.828631Z",
     "start_time": "2024-08-10T19:11:38.822808Z"
    }
   },
   "cell_type": "code",
   "source": "pattern = r'([A-Z0-9._%+-]+)@([A-Z0-9.-]+)\\.([A-Z]{2,4})'",
   "id": "92cc868751dd2575",
   "outputs": [],
   "execution_count": 12
  },
  {
   "metadata": {
    "ExecuteTime": {
     "end_time": "2024-08-10T19:11:38.943036Z",
     "start_time": "2024-08-10T19:11:38.930856Z"
    }
   },
   "cell_type": "code",
   "source": "data.str.findall(pattern, flags=re.IGNORECASE)",
   "id": "90ac6f5011730dc0",
   "outputs": [
    {
     "data": {
      "text/plain": [
       "Dave     [(dave, google, com)]\n",
       "Steve    [(steve, gmail, com)]\n",
       "Rob        [(rob, gmail, com)]\n",
       "Wes                        NaN\n",
       "dtype: object"
      ]
     },
     "execution_count": 13,
     "metadata": {},
     "output_type": "execute_result"
    }
   ],
   "execution_count": 13
  },
  {
   "metadata": {
    "ExecuteTime": {
     "end_time": "2024-08-10T19:11:39.010008Z",
     "start_time": "2024-08-10T19:11:39.004021Z"
    }
   },
   "cell_type": "code",
   "source": "matches = data.str.findall(pattern, flags=re.IGNORECASE).str[0]",
   "id": "e29e5857e7f5c586",
   "outputs": [],
   "execution_count": 14
  },
  {
   "metadata": {
    "ExecuteTime": {
     "end_time": "2024-08-10T19:11:39.050362Z",
     "start_time": "2024-08-10T19:11:39.041055Z"
    }
   },
   "cell_type": "code",
   "source": "matches",
   "id": "f4776e88cc8fe6fd",
   "outputs": [
    {
     "data": {
      "text/plain": [
       "Dave     (dave, google, com)\n",
       "Steve    (steve, gmail, com)\n",
       "Rob        (rob, gmail, com)\n",
       "Wes                      NaN\n",
       "dtype: object"
      ]
     },
     "execution_count": 15,
     "metadata": {},
     "output_type": "execute_result"
    }
   ],
   "execution_count": 15
  },
  {
   "metadata": {
    "ExecuteTime": {
     "end_time": "2024-08-10T19:11:39.141968Z",
     "start_time": "2024-08-10T19:11:39.134579Z"
    }
   },
   "cell_type": "code",
   "source": "matches.str.get(1)",
   "id": "c29d36d014bd4b88",
   "outputs": [
    {
     "data": {
      "text/plain": [
       "Dave     google\n",
       "Steve     gmail\n",
       "Rob       gmail\n",
       "Wes         NaN\n",
       "dtype: object"
      ]
     },
     "execution_count": 16,
     "metadata": {},
     "output_type": "execute_result"
    }
   ],
   "execution_count": 16
  },
  {
   "metadata": {
    "ExecuteTime": {
     "end_time": "2024-08-10T19:11:39.165507Z",
     "start_time": "2024-08-10T19:11:39.156888Z"
    }
   },
   "cell_type": "code",
   "source": "data.str[:5]",
   "id": "7eecc6c2cfedae2b",
   "outputs": [
    {
     "data": {
      "text/plain": [
       "Dave     dave@\n",
       "Steve    steve\n",
       "Rob      rob@g\n",
       "Wes        NaN\n",
       "dtype: object"
      ]
     },
     "execution_count": 17,
     "metadata": {},
     "output_type": "execute_result"
    }
   ],
   "execution_count": 17
  },
  {
   "metadata": {
    "ExecuteTime": {
     "end_time": "2024-08-10T19:11:39.241522Z",
     "start_time": "2024-08-10T19:11:39.222402Z"
    }
   },
   "cell_type": "code",
   "source": "data.str.extract(pattern, flags=re.IGNORECASE)",
   "id": "2fca9d186f694410",
   "outputs": [
    {
     "data": {
      "text/plain": [
       "           0       1    2\n",
       "Dave    dave  google  com\n",
       "Steve  steve   gmail  com\n",
       "Rob      rob   gmail  com\n",
       "Wes      NaN     NaN  NaN"
      ],
      "text/html": [
       "<div>\n",
       "<style scoped>\n",
       "    .dataframe tbody tr th:only-of-type {\n",
       "        vertical-align: middle;\n",
       "    }\n",
       "\n",
       "    .dataframe tbody tr th {\n",
       "        vertical-align: top;\n",
       "    }\n",
       "\n",
       "    .dataframe thead th {\n",
       "        text-align: right;\n",
       "    }\n",
       "</style>\n",
       "<table border=\"1\" class=\"dataframe\">\n",
       "  <thead>\n",
       "    <tr style=\"text-align: right;\">\n",
       "      <th></th>\n",
       "      <th>0</th>\n",
       "      <th>1</th>\n",
       "      <th>2</th>\n",
       "    </tr>\n",
       "  </thead>\n",
       "  <tbody>\n",
       "    <tr>\n",
       "      <th>Dave</th>\n",
       "      <td>dave</td>\n",
       "      <td>google</td>\n",
       "      <td>com</td>\n",
       "    </tr>\n",
       "    <tr>\n",
       "      <th>Steve</th>\n",
       "      <td>steve</td>\n",
       "      <td>gmail</td>\n",
       "      <td>com</td>\n",
       "    </tr>\n",
       "    <tr>\n",
       "      <th>Rob</th>\n",
       "      <td>rob</td>\n",
       "      <td>gmail</td>\n",
       "      <td>com</td>\n",
       "    </tr>\n",
       "    <tr>\n",
       "      <th>Wes</th>\n",
       "      <td>NaN</td>\n",
       "      <td>NaN</td>\n",
       "      <td>NaN</td>\n",
       "    </tr>\n",
       "  </tbody>\n",
       "</table>\n",
       "</div>"
      ]
     },
     "execution_count": 18,
     "metadata": {},
     "output_type": "execute_result"
    }
   ],
   "execution_count": 18
  },
  {
   "metadata": {
    "ExecuteTime": {
     "end_time": "2024-08-10T19:11:39.275325Z",
     "start_time": "2024-08-10T19:11:39.271548Z"
    }
   },
   "cell_type": "code",
   "source": [
    "# Categorical data\n",
    "values = pd.Series(['apple','orange','apple','apple']*2)"
   ],
   "id": "bbc661f5e3346c1f",
   "outputs": [],
   "execution_count": 19
  },
  {
   "metadata": {
    "ExecuteTime": {
     "end_time": "2024-08-10T19:11:39.329588Z",
     "start_time": "2024-08-10T19:11:39.324336Z"
    }
   },
   "cell_type": "code",
   "source": "values",
   "id": "690b619816211c12",
   "outputs": [
    {
     "data": {
      "text/plain": [
       "0     apple\n",
       "1    orange\n",
       "2     apple\n",
       "3     apple\n",
       "4     apple\n",
       "5    orange\n",
       "6     apple\n",
       "7     apple\n",
       "dtype: object"
      ]
     },
     "execution_count": 20,
     "metadata": {},
     "output_type": "execute_result"
    }
   ],
   "execution_count": 20
  },
  {
   "metadata": {
    "ExecuteTime": {
     "end_time": "2024-08-10T19:11:39.388152Z",
     "start_time": "2024-08-10T19:11:39.381419Z"
    }
   },
   "cell_type": "code",
   "source": "pd.unique(values)",
   "id": "d6a804770395725a",
   "outputs": [
    {
     "data": {
      "text/plain": [
       "array(['apple', 'orange'], dtype=object)"
      ]
     },
     "execution_count": 21,
     "metadata": {},
     "output_type": "execute_result"
    }
   ],
   "execution_count": 21
  },
  {
   "metadata": {
    "ExecuteTime": {
     "end_time": "2024-08-10T19:11:39.473304Z",
     "start_time": "2024-08-10T19:11:39.464955Z"
    }
   },
   "cell_type": "code",
   "source": "pd.Series.value_counts(values)",
   "id": "c1bf367e42e24aad",
   "outputs": [
    {
     "data": {
      "text/plain": [
       "apple     6\n",
       "orange    2\n",
       "Name: count, dtype: int64"
      ]
     },
     "execution_count": 22,
     "metadata": {},
     "output_type": "execute_result"
    }
   ],
   "execution_count": 22
  },
  {
   "metadata": {
    "ExecuteTime": {
     "end_time": "2024-08-10T19:11:39.528397Z",
     "start_time": "2024-08-10T19:11:39.524829Z"
    }
   },
   "cell_type": "code",
   "source": "values = pd.Series([0, 1, 0, 0]*2)",
   "id": "a9350a6f20ea0df7",
   "outputs": [],
   "execution_count": 23
  },
  {
   "metadata": {
    "ExecuteTime": {
     "end_time": "2024-08-10T19:11:39.645065Z",
     "start_time": "2024-08-10T19:11:39.640825Z"
    }
   },
   "cell_type": "code",
   "source": "dim= pd.Series(['apple','orange'])",
   "id": "a31898641e6a1482",
   "outputs": [],
   "execution_count": 24
  },
  {
   "metadata": {
    "ExecuteTime": {
     "end_time": "2024-08-10T19:11:39.695587Z",
     "start_time": "2024-08-10T19:11:39.689120Z"
    }
   },
   "cell_type": "code",
   "source": "values",
   "id": "a490976f90f13667",
   "outputs": [
    {
     "data": {
      "text/plain": [
       "0    0\n",
       "1    1\n",
       "2    0\n",
       "3    0\n",
       "4    0\n",
       "5    1\n",
       "6    0\n",
       "7    0\n",
       "dtype: int64"
      ]
     },
     "execution_count": 25,
     "metadata": {},
     "output_type": "execute_result"
    }
   ],
   "execution_count": 25
  },
  {
   "metadata": {
    "ExecuteTime": {
     "end_time": "2024-08-10T19:11:39.719784Z",
     "start_time": "2024-08-10T19:11:39.714866Z"
    }
   },
   "cell_type": "code",
   "source": "dim",
   "id": "e526d31322400966",
   "outputs": [
    {
     "data": {
      "text/plain": [
       "0     apple\n",
       "1    orange\n",
       "dtype: object"
      ]
     },
     "execution_count": 26,
     "metadata": {},
     "output_type": "execute_result"
    }
   ],
   "execution_count": 26
  },
  {
   "metadata": {
    "ExecuteTime": {
     "end_time": "2024-08-10T19:11:39.746743Z",
     "start_time": "2024-08-10T19:11:39.738770Z"
    }
   },
   "cell_type": "code",
   "source": "dim.take(values)",
   "id": "5b02b71141d1d0c1",
   "outputs": [
    {
     "data": {
      "text/plain": [
       "0     apple\n",
       "1    orange\n",
       "0     apple\n",
       "0     apple\n",
       "0     apple\n",
       "1    orange\n",
       "0     apple\n",
       "0     apple\n",
       "dtype: object"
      ]
     },
     "execution_count": 27,
     "metadata": {},
     "output_type": "execute_result"
    }
   ],
   "execution_count": 27
  },
  {
   "metadata": {
    "ExecuteTime": {
     "end_time": "2024-08-10T19:11:39.823907Z",
     "start_time": "2024-08-10T19:11:39.820Z"
    }
   },
   "cell_type": "code",
   "source": "fruits = ['apple', 'orange', 'apple', 'apple'] * 2",
   "id": "8b1cf44a81e7e1d7",
   "outputs": [],
   "execution_count": 28
  },
  {
   "metadata": {
    "ExecuteTime": {
     "end_time": "2024-08-10T19:11:39.889101Z",
     "start_time": "2024-08-10T19:11:39.885142Z"
    }
   },
   "cell_type": "code",
   "source": "N =len(fruits)",
   "id": "a8d6216b632624af",
   "outputs": [],
   "execution_count": 29
  },
  {
   "metadata": {
    "ExecuteTime": {
     "end_time": "2024-08-10T19:11:39.955400Z",
     "start_time": "2024-08-10T19:11:39.952142Z"
    }
   },
   "cell_type": "code",
   "source": "rng = np.random.default_rng(seed=12345)",
   "id": "b217d61e71d23a47",
   "outputs": [],
   "execution_count": 30
  },
  {
   "metadata": {
    "ExecuteTime": {
     "end_time": "2024-08-10T19:11:40.001857Z",
     "start_time": "2024-08-10T19:11:39.993059Z"
    }
   },
   "cell_type": "code",
   "source": [
    "df = pd.DataFrame({'fruit': fruits,\n",
    "                    'basket_id': np.arange(N),\n",
    "                    'count': rng.integers(3, 15, size=N),\n",
    "                    'weight': rng.uniform(0, 4, size=N)},\n",
    "                    columns=['basket_id', 'fruit', 'count', 'weight'])"
   ],
   "id": "9a3d0f7fbe5f9e0d",
   "outputs": [],
   "execution_count": 31
  },
  {
   "metadata": {
    "ExecuteTime": {
     "end_time": "2024-08-10T19:11:40.049846Z",
     "start_time": "2024-08-10T19:11:40.039315Z"
    }
   },
   "cell_type": "code",
   "source": "df",
   "id": "b2f6290bf363fab6",
   "outputs": [
    {
     "data": {
      "text/plain": [
       "   basket_id   fruit  count    weight\n",
       "0          0   apple     11  1.564438\n",
       "1          1  orange      5  1.331256\n",
       "2          2   apple     12  2.393235\n",
       "3          3   apple      6  0.746937\n",
       "4          4   apple      5  2.691024\n",
       "5          5  orange     12  3.767211\n",
       "6          6   apple     10  0.992983\n",
       "7          7   apple     11  3.795525"
      ],
      "text/html": [
       "<div>\n",
       "<style scoped>\n",
       "    .dataframe tbody tr th:only-of-type {\n",
       "        vertical-align: middle;\n",
       "    }\n",
       "\n",
       "    .dataframe tbody tr th {\n",
       "        vertical-align: top;\n",
       "    }\n",
       "\n",
       "    .dataframe thead th {\n",
       "        text-align: right;\n",
       "    }\n",
       "</style>\n",
       "<table border=\"1\" class=\"dataframe\">\n",
       "  <thead>\n",
       "    <tr style=\"text-align: right;\">\n",
       "      <th></th>\n",
       "      <th>basket_id</th>\n",
       "      <th>fruit</th>\n",
       "      <th>count</th>\n",
       "      <th>weight</th>\n",
       "    </tr>\n",
       "  </thead>\n",
       "  <tbody>\n",
       "    <tr>\n",
       "      <th>0</th>\n",
       "      <td>0</td>\n",
       "      <td>apple</td>\n",
       "      <td>11</td>\n",
       "      <td>1.564438</td>\n",
       "    </tr>\n",
       "    <tr>\n",
       "      <th>1</th>\n",
       "      <td>1</td>\n",
       "      <td>orange</td>\n",
       "      <td>5</td>\n",
       "      <td>1.331256</td>\n",
       "    </tr>\n",
       "    <tr>\n",
       "      <th>2</th>\n",
       "      <td>2</td>\n",
       "      <td>apple</td>\n",
       "      <td>12</td>\n",
       "      <td>2.393235</td>\n",
       "    </tr>\n",
       "    <tr>\n",
       "      <th>3</th>\n",
       "      <td>3</td>\n",
       "      <td>apple</td>\n",
       "      <td>6</td>\n",
       "      <td>0.746937</td>\n",
       "    </tr>\n",
       "    <tr>\n",
       "      <th>4</th>\n",
       "      <td>4</td>\n",
       "      <td>apple</td>\n",
       "      <td>5</td>\n",
       "      <td>2.691024</td>\n",
       "    </tr>\n",
       "    <tr>\n",
       "      <th>5</th>\n",
       "      <td>5</td>\n",
       "      <td>orange</td>\n",
       "      <td>12</td>\n",
       "      <td>3.767211</td>\n",
       "    </tr>\n",
       "    <tr>\n",
       "      <th>6</th>\n",
       "      <td>6</td>\n",
       "      <td>apple</td>\n",
       "      <td>10</td>\n",
       "      <td>0.992983</td>\n",
       "    </tr>\n",
       "    <tr>\n",
       "      <th>7</th>\n",
       "      <td>7</td>\n",
       "      <td>apple</td>\n",
       "      <td>11</td>\n",
       "      <td>3.795525</td>\n",
       "    </tr>\n",
       "  </tbody>\n",
       "</table>\n",
       "</div>"
      ]
     },
     "execution_count": 32,
     "metadata": {},
     "output_type": "execute_result"
    }
   ],
   "execution_count": 32
  },
  {
   "metadata": {
    "ExecuteTime": {
     "end_time": "2024-08-10T19:11:40.084271Z",
     "start_time": "2024-08-10T19:11:40.077619Z"
    }
   },
   "cell_type": "code",
   "source": "fruit_cat = df['fruit'].astype('category')",
   "id": "ff38adca38fd362",
   "outputs": [],
   "execution_count": 33
  },
  {
   "metadata": {
    "ExecuteTime": {
     "end_time": "2024-08-10T19:11:40.126970Z",
     "start_time": "2024-08-10T19:11:40.120674Z"
    }
   },
   "cell_type": "code",
   "source": "fruit_cat",
   "id": "810496be4e3f6aa0",
   "outputs": [
    {
     "data": {
      "text/plain": [
       "0     apple\n",
       "1    orange\n",
       "2     apple\n",
       "3     apple\n",
       "4     apple\n",
       "5    orange\n",
       "6     apple\n",
       "7     apple\n",
       "Name: fruit, dtype: category\n",
       "Categories (2, object): ['apple', 'orange']"
      ]
     },
     "execution_count": 34,
     "metadata": {},
     "output_type": "execute_result"
    }
   ],
   "execution_count": 34
  },
  {
   "metadata": {
    "ExecuteTime": {
     "end_time": "2024-08-10T19:11:40.156784Z",
     "start_time": "2024-08-10T19:11:40.153653Z"
    }
   },
   "cell_type": "code",
   "source": "c = fruit_cat.array",
   "id": "a34046ea6e187bb2",
   "outputs": [],
   "execution_count": 35
  },
  {
   "metadata": {
    "ExecuteTime": {
     "end_time": "2024-08-10T19:11:40.273265Z",
     "start_time": "2024-08-10T19:11:40.268793Z"
    }
   },
   "cell_type": "code",
   "source": "type(c)",
   "id": "a5bdd959e04d0518",
   "outputs": [
    {
     "data": {
      "text/plain": [
       "pandas.core.arrays.categorical.Categorical"
      ]
     },
     "execution_count": 36,
     "metadata": {},
     "output_type": "execute_result"
    }
   ],
   "execution_count": 36
  },
  {
   "metadata": {
    "ExecuteTime": {
     "end_time": "2024-08-10T19:11:40.326135Z",
     "start_time": "2024-08-10T19:11:40.321372Z"
    }
   },
   "cell_type": "code",
   "source": "c.categories",
   "id": "8e290b0f13c192a0",
   "outputs": [
    {
     "data": {
      "text/plain": [
       "Index(['apple', 'orange'], dtype='object')"
      ]
     },
     "execution_count": 37,
     "metadata": {},
     "output_type": "execute_result"
    }
   ],
   "execution_count": 37
  },
  {
   "metadata": {
    "ExecuteTime": {
     "end_time": "2024-08-10T19:11:40.370422Z",
     "start_time": "2024-08-10T19:11:40.365427Z"
    }
   },
   "cell_type": "code",
   "source": "c.codes",
   "id": "f731faca7d9ad8db",
   "outputs": [
    {
     "data": {
      "text/plain": [
       "array([0, 1, 0, 0, 0, 1, 0, 0], dtype=int8)"
      ]
     },
     "execution_count": 38,
     "metadata": {},
     "output_type": "execute_result"
    }
   ],
   "execution_count": 38
  },
  {
   "metadata": {
    "ExecuteTime": {
     "end_time": "2024-08-10T19:11:40.397939Z",
     "start_time": "2024-08-10T19:11:40.391459Z"
    }
   },
   "cell_type": "code",
   "source": "dict(enumerate(c.categories))",
   "id": "ae647521421e7acd",
   "outputs": [
    {
     "data": {
      "text/plain": [
       "{0: 'apple', 1: 'orange'}"
      ]
     },
     "execution_count": 39,
     "metadata": {},
     "output_type": "execute_result"
    }
   ],
   "execution_count": 39
  },
  {
   "metadata": {
    "ExecuteTime": {
     "end_time": "2024-08-10T19:12:11.344684Z",
     "start_time": "2024-08-10T19:12:11.340547Z"
    }
   },
   "cell_type": "code",
   "source": "df['fruit'] = df['fruit'].astype('category')",
   "id": "744167c1f590044b",
   "outputs": [],
   "execution_count": 40
  },
  {
   "metadata": {
    "ExecuteTime": {
     "end_time": "2024-08-10T19:12:30.719195Z",
     "start_time": "2024-08-10T19:12:30.713078Z"
    }
   },
   "cell_type": "code",
   "source": "df['fruit']",
   "id": "e74098af202e5ee2",
   "outputs": [
    {
     "data": {
      "text/plain": [
       "0     apple\n",
       "1    orange\n",
       "2     apple\n",
       "3     apple\n",
       "4     apple\n",
       "5    orange\n",
       "6     apple\n",
       "7     apple\n",
       "Name: fruit, dtype: category\n",
       "Categories (2, object): ['apple', 'orange']"
      ]
     },
     "execution_count": 41,
     "metadata": {},
     "output_type": "execute_result"
    }
   ],
   "execution_count": 41
  },
  {
   "metadata": {
    "ExecuteTime": {
     "end_time": "2024-08-10T19:12:48.791330Z",
     "start_time": "2024-08-10T19:12:48.787266Z"
    }
   },
   "cell_type": "code",
   "source": "my_categories = pd.Categorical(['foo', 'bar', 'baz', 'foo', 'bar'])",
   "id": "8b195310a5460477",
   "outputs": [],
   "execution_count": 42
  },
  {
   "metadata": {
    "ExecuteTime": {
     "end_time": "2024-08-10T19:12:52.385930Z",
     "start_time": "2024-08-10T19:12:52.380655Z"
    }
   },
   "cell_type": "code",
   "source": "my_categories",
   "id": "5976862f02696def",
   "outputs": [
    {
     "data": {
      "text/plain": [
       "['foo', 'bar', 'baz', 'foo', 'bar']\n",
       "Categories (3, object): ['bar', 'baz', 'foo']"
      ]
     },
     "execution_count": 43,
     "metadata": {},
     "output_type": "execute_result"
    }
   ],
   "execution_count": 43
  },
  {
   "metadata": {
    "ExecuteTime": {
     "end_time": "2024-08-10T19:13:09.308228Z",
     "start_time": "2024-08-10T19:13:09.304463Z"
    }
   },
   "cell_type": "code",
   "source": "categories = ['foo', 'bar', 'baz']",
   "id": "53338505a62f7fe",
   "outputs": [],
   "execution_count": 44
  },
  {
   "metadata": {
    "ExecuteTime": {
     "end_time": "2024-08-10T19:13:13.590208Z",
     "start_time": "2024-08-10T19:13:13.587091Z"
    }
   },
   "cell_type": "code",
   "source": "codes = [0, 1, 2, 0, 1]",
   "id": "cdf0e826596f24c",
   "outputs": [],
   "execution_count": 45
  },
  {
   "metadata": {
    "ExecuteTime": {
     "end_time": "2024-08-10T19:13:19.374122Z",
     "start_time": "2024-08-10T19:13:19.370556Z"
    }
   },
   "cell_type": "code",
   "source": "my_cats_2 = pd.Categorical.from_codes(codes, categories)",
   "id": "d2e7f44573e1f36",
   "outputs": [],
   "execution_count": 46
  },
  {
   "metadata": {
    "ExecuteTime": {
     "end_time": "2024-08-10T19:13:21.360239Z",
     "start_time": "2024-08-10T19:13:21.355382Z"
    }
   },
   "cell_type": "code",
   "source": "my_cats_2",
   "id": "31274aad67af7653",
   "outputs": [
    {
     "data": {
      "text/plain": [
       "['foo', 'bar', 'baz', 'foo', 'bar']\n",
       "Categories (3, object): ['foo', 'bar', 'baz']"
      ]
     },
     "execution_count": 47,
     "metadata": {},
     "output_type": "execute_result"
    }
   ],
   "execution_count": 47
  },
  {
   "metadata": {
    "ExecuteTime": {
     "end_time": "2024-08-10T19:13:39.333727Z",
     "start_time": "2024-08-10T19:13:39.330210Z"
    }
   },
   "cell_type": "code",
   "source": "ordered_cat = pd.Categorical.from_codes(codes, categories, ordered=True)",
   "id": "ee095e1afddc688",
   "outputs": [],
   "execution_count": 48
  },
  {
   "metadata": {
    "ExecuteTime": {
     "end_time": "2024-08-10T19:13:41.449197Z",
     "start_time": "2024-08-10T19:13:41.443827Z"
    }
   },
   "cell_type": "code",
   "source": "ordered_cat",
   "id": "cbebcc7047abec12",
   "outputs": [
    {
     "data": {
      "text/plain": [
       "['foo', 'bar', 'baz', 'foo', 'bar']\n",
       "Categories (3, object): ['foo' < 'bar' < 'baz']"
      ]
     },
     "execution_count": 49,
     "metadata": {},
     "output_type": "execute_result"
    }
   ],
   "execution_count": 49
  },
  {
   "metadata": {
    "ExecuteTime": {
     "end_time": "2024-08-10T19:13:58.524725Z",
     "start_time": "2024-08-10T19:13:58.519906Z"
    }
   },
   "cell_type": "code",
   "source": "my_cats_2.as_ordered()",
   "id": "1dae133828fd661d",
   "outputs": [
    {
     "data": {
      "text/plain": [
       "['foo', 'bar', 'baz', 'foo', 'bar']\n",
       "Categories (3, object): ['foo' < 'bar' < 'baz']"
      ]
     },
     "execution_count": 50,
     "metadata": {},
     "output_type": "execute_result"
    }
   ],
   "execution_count": 50
  },
  {
   "metadata": {
    "ExecuteTime": {
     "end_time": "2024-08-10T19:14:39.837121Z",
     "start_time": "2024-08-10T19:14:39.833789Z"
    }
   },
   "cell_type": "code",
   "source": "rng=np.random.default_rng(seed=12345)",
   "id": "4b8528927fac105c",
   "outputs": [],
   "execution_count": 51
  },
  {
   "metadata": {
    "ExecuteTime": {
     "end_time": "2024-08-10T19:15:10.054965Z",
     "start_time": "2024-08-10T19:15:10.051699Z"
    }
   },
   "cell_type": "code",
   "source": "draws = rng.standard_normal(1000)",
   "id": "407ff9704088d8fa",
   "outputs": [],
   "execution_count": 52
  },
  {
   "metadata": {
    "ExecuteTime": {
     "end_time": "2024-08-10T19:15:22.962838Z",
     "start_time": "2024-08-10T19:15:22.958274Z"
    }
   },
   "cell_type": "code",
   "source": "draws[:5]",
   "id": "534d24b364d4f304",
   "outputs": [
    {
     "data": {
      "text/plain": [
       "array([-1.42382504,  1.26372846, -0.87066174, -0.25917323, -0.07534331])"
      ]
     },
     "execution_count": 53,
     "metadata": {},
     "output_type": "execute_result"
    }
   ],
   "execution_count": 53
  },
  {
   "metadata": {
    "ExecuteTime": {
     "end_time": "2024-08-10T19:15:32.541845Z",
     "start_time": "2024-08-10T19:15:32.535452Z"
    }
   },
   "cell_type": "code",
   "source": "bins = pd.qcut(draws, 4)",
   "id": "2cac3aca38214bee",
   "outputs": [],
   "execution_count": 54
  },
  {
   "metadata": {
    "ExecuteTime": {
     "end_time": "2024-08-10T19:15:38.165532Z",
     "start_time": "2024-08-10T19:15:38.159852Z"
    }
   },
   "cell_type": "code",
   "source": "bins",
   "id": "3145a25eaf588aa5",
   "outputs": [
    {
     "data": {
      "text/plain": [
       "[(-3.121, -0.675], (0.687, 3.211], (-3.121, -0.675], (-0.675, 0.0134], (-0.675, 0.0134], ..., (0.0134, 0.687], (0.0134, 0.687], (-0.675, 0.0134], (0.0134, 0.687], (-0.675, 0.0134]]\n",
       "Length: 1000\n",
       "Categories (4, interval[float64, right]): [(-3.121, -0.675] < (-0.675, 0.0134] < (0.0134, 0.687] < (0.687, 3.211]]"
      ]
     },
     "execution_count": 55,
     "metadata": {},
     "output_type": "execute_result"
    }
   ],
   "execution_count": 55
  },
  {
   "metadata": {
    "ExecuteTime": {
     "end_time": "2024-08-10T19:15:55.221871Z",
     "start_time": "2024-08-10T19:15:55.216199Z"
    }
   },
   "cell_type": "code",
   "source": "bins = pd.qcut(draws, 4, labels=['Q1', 'Q2', 'Q3', 'Q4'])",
   "id": "8663e60c93a3c4bb",
   "outputs": [],
   "execution_count": 56
  },
  {
   "metadata": {
    "ExecuteTime": {
     "end_time": "2024-08-10T19:15:58.208481Z",
     "start_time": "2024-08-10T19:15:58.203905Z"
    }
   },
   "cell_type": "code",
   "source": "bins",
   "id": "52bfe23281a0cc1e",
   "outputs": [
    {
     "data": {
      "text/plain": [
       "['Q1', 'Q4', 'Q1', 'Q2', 'Q2', ..., 'Q3', 'Q3', 'Q2', 'Q3', 'Q2']\n",
       "Length: 1000\n",
       "Categories (4, object): ['Q1' < 'Q2' < 'Q3' < 'Q4']"
      ]
     },
     "execution_count": 57,
     "metadata": {},
     "output_type": "execute_result"
    }
   ],
   "execution_count": 57
  },
  {
   "metadata": {
    "ExecuteTime": {
     "end_time": "2024-08-10T19:16:14.463426Z",
     "start_time": "2024-08-10T19:16:14.458203Z"
    }
   },
   "cell_type": "code",
   "source": "bins.codes[:10]",
   "id": "b7eb0adbeb4b45bd",
   "outputs": [
    {
     "data": {
      "text/plain": [
       "array([0, 3, 0, 1, 1, 0, 0, 2, 2, 0], dtype=int8)"
      ]
     },
     "execution_count": 58,
     "metadata": {},
     "output_type": "execute_result"
    }
   ],
   "execution_count": 58
  },
  {
   "metadata": {
    "ExecuteTime": {
     "end_time": "2024-08-10T19:16:25.244448Z",
     "start_time": "2024-08-10T19:16:25.240928Z"
    }
   },
   "cell_type": "code",
   "source": "bins = pd.Series(bins, name='quartile')",
   "id": "f65922e9cc55103a",
   "outputs": [],
   "execution_count": 59
  },
  {
   "metadata": {
    "ExecuteTime": {
     "end_time": "2024-08-10T19:16:32.177169Z",
     "start_time": "2024-08-10T19:16:32.171750Z"
    }
   },
   "cell_type": "code",
   "source": [
    "results = (pd.Series(draws)\n",
    "            .groupby(bins)\n",
    "            .agg(['count', 'min', 'max'])\n",
    "            .reset_index())"
   ],
   "id": "a7f8131a374caf75",
   "outputs": [
    {
     "name": "stderr",
     "output_type": "stream",
     "text": [
      "/var/folders/rh/4jm75bkx7z55jq443q6pw8ym0000gn/T/ipykernel_12472/2654362007.py:2: FutureWarning: The default of observed=False is deprecated and will be changed to True in a future version of pandas. Pass observed=False to retain current behavior or observed=True to adopt the future default and silence this warning.\n",
      "  .groupby(bins)\n"
     ]
    }
   ],
   "execution_count": 60
  },
  {
   "metadata": {
    "ExecuteTime": {
     "end_time": "2024-08-10T19:18:25.076188Z",
     "start_time": "2024-08-10T19:18:25.068444Z"
    }
   },
   "cell_type": "code",
   "source": "results",
   "id": "29e1fe12035fba09",
   "outputs": [
    {
     "data": {
      "text/plain": [
       "  quartile  count       min       max\n",
       "0       Q1    250 -3.119609 -0.678494\n",
       "1       Q2    250 -0.673305  0.008009\n",
       "2       Q3    250  0.018753  0.686183\n",
       "3       Q4    250  0.688282  3.211418"
      ],
      "text/html": [
       "<div>\n",
       "<style scoped>\n",
       "    .dataframe tbody tr th:only-of-type {\n",
       "        vertical-align: middle;\n",
       "    }\n",
       "\n",
       "    .dataframe tbody tr th {\n",
       "        vertical-align: top;\n",
       "    }\n",
       "\n",
       "    .dataframe thead th {\n",
       "        text-align: right;\n",
       "    }\n",
       "</style>\n",
       "<table border=\"1\" class=\"dataframe\">\n",
       "  <thead>\n",
       "    <tr style=\"text-align: right;\">\n",
       "      <th></th>\n",
       "      <th>quartile</th>\n",
       "      <th>count</th>\n",
       "      <th>min</th>\n",
       "      <th>max</th>\n",
       "    </tr>\n",
       "  </thead>\n",
       "  <tbody>\n",
       "    <tr>\n",
       "      <th>0</th>\n",
       "      <td>Q1</td>\n",
       "      <td>250</td>\n",
       "      <td>-3.119609</td>\n",
       "      <td>-0.678494</td>\n",
       "    </tr>\n",
       "    <tr>\n",
       "      <th>1</th>\n",
       "      <td>Q2</td>\n",
       "      <td>250</td>\n",
       "      <td>-0.673305</td>\n",
       "      <td>0.008009</td>\n",
       "    </tr>\n",
       "    <tr>\n",
       "      <th>2</th>\n",
       "      <td>Q3</td>\n",
       "      <td>250</td>\n",
       "      <td>0.018753</td>\n",
       "      <td>0.686183</td>\n",
       "    </tr>\n",
       "    <tr>\n",
       "      <th>3</th>\n",
       "      <td>Q4</td>\n",
       "      <td>250</td>\n",
       "      <td>0.688282</td>\n",
       "      <td>3.211418</td>\n",
       "    </tr>\n",
       "  </tbody>\n",
       "</table>\n",
       "</div>"
      ]
     },
     "execution_count": 61,
     "metadata": {},
     "output_type": "execute_result"
    }
   ],
   "execution_count": 61
  },
  {
   "metadata": {
    "ExecuteTime": {
     "end_time": "2024-08-10T19:18:32.036111Z",
     "start_time": "2024-08-10T19:18:32.030090Z"
    }
   },
   "cell_type": "code",
   "source": "results['quartile']",
   "id": "9585391bd5f8af12",
   "outputs": [
    {
     "data": {
      "text/plain": [
       "0    Q1\n",
       "1    Q2\n",
       "2    Q3\n",
       "3    Q4\n",
       "Name: quartile, dtype: category\n",
       "Categories (4, object): ['Q1' < 'Q2' < 'Q3' < 'Q4']"
      ]
     },
     "execution_count": 62,
     "metadata": {},
     "output_type": "execute_result"
    }
   ],
   "execution_count": 62
  },
  {
   "metadata": {
    "ExecuteTime": {
     "end_time": "2024-08-10T19:19:10.810713Z",
     "start_time": "2024-08-10T19:19:10.807838Z"
    }
   },
   "cell_type": "code",
   "source": "N = 10_000_000",
   "id": "a3e5c0f2815b8fb5",
   "outputs": [],
   "execution_count": 63
  },
  {
   "metadata": {
    "ExecuteTime": {
     "end_time": "2024-08-10T19:19:41.949793Z",
     "start_time": "2024-08-10T19:19:41.890515Z"
    }
   },
   "cell_type": "code",
   "source": "labels=['foo', 'bar', 'baz', 'qux'] * (N // 4)",
   "id": "90d7a9b43abb7a86",
   "outputs": [],
   "execution_count": 64
  },
  {
   "metadata": {
    "ExecuteTime": {
     "end_time": "2024-08-10T19:19:46.794573Z",
     "start_time": "2024-08-10T19:19:45.217172Z"
    }
   },
   "cell_type": "code",
   "source": "categories = pd.Categorical(labels)",
   "id": "aa66a01e6a799a1a",
   "outputs": [],
   "execution_count": 65
  },
  {
   "metadata": {
    "ExecuteTime": {
     "end_time": "2024-08-10T19:24:28.889650Z",
     "start_time": "2024-08-10T19:24:28.885317Z"
    }
   },
   "cell_type": "code",
   "source": [
    "import sys\n",
    "sys.getsizeof(labels)"
   ],
   "id": "5b7535c8ad822c71",
   "outputs": [
    {
     "data": {
      "text/plain": [
       "80000056"
      ]
     },
     "execution_count": 67,
     "metadata": {},
     "output_type": "execute_result"
    }
   ],
   "execution_count": 67
  },
  {
   "metadata": {
    "ExecuteTime": {
     "end_time": "2024-08-10T19:24:48.916224Z",
     "start_time": "2024-08-10T19:24:48.911196Z"
    }
   },
   "cell_type": "code",
   "source": "sys.getsizeof(categories)",
   "id": "d545654de4245726",
   "outputs": [
    {
     "data": {
      "text/plain": [
       "10000444"
      ]
     },
     "execution_count": 68,
     "metadata": {},
     "output_type": "execute_result"
    }
   ],
   "execution_count": 68
  },
  {
   "metadata": {
    "ExecuteTime": {
     "end_time": "2024-08-10T19:25:14.825528Z",
     "start_time": "2024-08-10T19:25:14.820769Z"
    }
   },
   "cell_type": "code",
   "source": "%time _ = labels[labels == 'foo']",
   "id": "c96108f1753a8bbe",
   "outputs": [
    {
     "name": "stdout",
     "output_type": "stream",
     "text": [
      "CPU times: user 4 μs, sys: 1e+03 ns, total: 5 μs\n",
      "Wall time: 11.9 μs\n"
     ]
    }
   ],
   "execution_count": 69
  },
  {
   "metadata": {
    "ExecuteTime": {
     "end_time": "2024-08-10T19:26:43.932034Z",
     "start_time": "2024-08-10T19:26:43.865221Z"
    }
   },
   "cell_type": "code",
   "source": "%timeit labels.counts()",
   "id": "7a09efae1b34c74",
   "outputs": [
    {
     "ename": "AttributeError",
     "evalue": "'list' object has no attribute 'counts'",
     "output_type": "error",
     "traceback": [
      "\u001B[0;31m---------------------------------------------------------------------------\u001B[0m",
      "\u001B[0;31mAttributeError\u001B[0m                            Traceback (most recent call last)",
      "Cell \u001B[0;32mIn[71], line 1\u001B[0m\n\u001B[0;32m----> 1\u001B[0m \u001B[43mget_ipython\u001B[49m\u001B[43m(\u001B[49m\u001B[43m)\u001B[49m\u001B[38;5;241;43m.\u001B[39;49m\u001B[43mrun_line_magic\u001B[49m\u001B[43m(\u001B[49m\u001B[38;5;124;43m'\u001B[39;49m\u001B[38;5;124;43mtimeit\u001B[39;49m\u001B[38;5;124;43m'\u001B[39;49m\u001B[43m,\u001B[49m\u001B[43m \u001B[49m\u001B[38;5;124;43m'\u001B[39;49m\u001B[38;5;124;43mlabels.counts()\u001B[39;49m\u001B[38;5;124;43m'\u001B[39;49m\u001B[43m)\u001B[49m\n",
      "File \u001B[0;32m~/miniconda3/envs/DataAnalisisBook/lib/python3.11/site-packages/IPython/core/interactiveshell.py:2480\u001B[0m, in \u001B[0;36mInteractiveShell.run_line_magic\u001B[0;34m(self, magic_name, line, _stack_depth)\u001B[0m\n\u001B[1;32m   2478\u001B[0m     kwargs[\u001B[38;5;124m'\u001B[39m\u001B[38;5;124mlocal_ns\u001B[39m\u001B[38;5;124m'\u001B[39m] \u001B[38;5;241m=\u001B[39m \u001B[38;5;28mself\u001B[39m\u001B[38;5;241m.\u001B[39mget_local_scope(stack_depth)\n\u001B[1;32m   2479\u001B[0m \u001B[38;5;28;01mwith\u001B[39;00m \u001B[38;5;28mself\u001B[39m\u001B[38;5;241m.\u001B[39mbuiltin_trap:\n\u001B[0;32m-> 2480\u001B[0m     result \u001B[38;5;241m=\u001B[39m \u001B[43mfn\u001B[49m\u001B[43m(\u001B[49m\u001B[38;5;241;43m*\u001B[39;49m\u001B[43margs\u001B[49m\u001B[43m,\u001B[49m\u001B[43m \u001B[49m\u001B[38;5;241;43m*\u001B[39;49m\u001B[38;5;241;43m*\u001B[39;49m\u001B[43mkwargs\u001B[49m\u001B[43m)\u001B[49m\n\u001B[1;32m   2482\u001B[0m \u001B[38;5;66;03m# The code below prevents the output from being displayed\u001B[39;00m\n\u001B[1;32m   2483\u001B[0m \u001B[38;5;66;03m# when using magics with decorator @output_can_be_silenced\u001B[39;00m\n\u001B[1;32m   2484\u001B[0m \u001B[38;5;66;03m# when the last Python token in the expression is a ';'.\u001B[39;00m\n\u001B[1;32m   2485\u001B[0m \u001B[38;5;28;01mif\u001B[39;00m \u001B[38;5;28mgetattr\u001B[39m(fn, magic\u001B[38;5;241m.\u001B[39mMAGIC_OUTPUT_CAN_BE_SILENCED, \u001B[38;5;28;01mFalse\u001B[39;00m):\n",
      "File \u001B[0;32m~/miniconda3/envs/DataAnalisisBook/lib/python3.11/site-packages/IPython/core/magics/execution.py:1185\u001B[0m, in \u001B[0;36mExecutionMagics.timeit\u001B[0;34m(self, line, cell, local_ns)\u001B[0m\n\u001B[1;32m   1183\u001B[0m \u001B[38;5;28;01mfor\u001B[39;00m index \u001B[38;5;129;01min\u001B[39;00m \u001B[38;5;28mrange\u001B[39m(\u001B[38;5;241m0\u001B[39m, \u001B[38;5;241m10\u001B[39m):\n\u001B[1;32m   1184\u001B[0m     number \u001B[38;5;241m=\u001B[39m \u001B[38;5;241m10\u001B[39m \u001B[38;5;241m*\u001B[39m\u001B[38;5;241m*\u001B[39m index\n\u001B[0;32m-> 1185\u001B[0m     time_number \u001B[38;5;241m=\u001B[39m \u001B[43mtimer\u001B[49m\u001B[38;5;241;43m.\u001B[39;49m\u001B[43mtimeit\u001B[49m\u001B[43m(\u001B[49m\u001B[43mnumber\u001B[49m\u001B[43m)\u001B[49m\n\u001B[1;32m   1186\u001B[0m     \u001B[38;5;28;01mif\u001B[39;00m time_number \u001B[38;5;241m>\u001B[39m\u001B[38;5;241m=\u001B[39m \u001B[38;5;241m0.2\u001B[39m:\n\u001B[1;32m   1187\u001B[0m         \u001B[38;5;28;01mbreak\u001B[39;00m\n",
      "File \u001B[0;32m~/miniconda3/envs/DataAnalisisBook/lib/python3.11/site-packages/IPython/core/magics/execution.py:173\u001B[0m, in \u001B[0;36mTimer.timeit\u001B[0;34m(self, number)\u001B[0m\n\u001B[1;32m    171\u001B[0m gc\u001B[38;5;241m.\u001B[39mdisable()\n\u001B[1;32m    172\u001B[0m \u001B[38;5;28;01mtry\u001B[39;00m:\n\u001B[0;32m--> 173\u001B[0m     timing \u001B[38;5;241m=\u001B[39m \u001B[38;5;28;43mself\u001B[39;49m\u001B[38;5;241;43m.\u001B[39;49m\u001B[43minner\u001B[49m\u001B[43m(\u001B[49m\u001B[43mit\u001B[49m\u001B[43m,\u001B[49m\u001B[43m \u001B[49m\u001B[38;5;28;43mself\u001B[39;49m\u001B[38;5;241;43m.\u001B[39;49m\u001B[43mtimer\u001B[49m\u001B[43m)\u001B[49m\n\u001B[1;32m    174\u001B[0m \u001B[38;5;28;01mfinally\u001B[39;00m:\n\u001B[1;32m    175\u001B[0m     \u001B[38;5;28;01mif\u001B[39;00m gcold:\n",
      "File \u001B[0;32m<magic-timeit>:1\u001B[0m, in \u001B[0;36minner\u001B[0;34m(_it, _timer)\u001B[0m\n",
      "\u001B[0;31mAttributeError\u001B[0m: 'list' object has no attribute 'counts'"
     ]
    }
   ],
   "execution_count": 71
  },
  {
   "metadata": {
    "ExecuteTime": {
     "end_time": "2024-08-10T19:27:44.331844Z",
     "start_time": "2024-08-10T19:27:40.198644Z"
    }
   },
   "cell_type": "code",
   "source": [
    "from collections import Counter\n",
    "%timeit Counter(labels)"
   ],
   "id": "70d3dc527bbff967",
   "outputs": [
    {
     "name": "stdout",
     "output_type": "stream",
     "text": [
      "494 ms ± 14.2 ms per loop (mean ± std. dev. of 7 runs, 1 loop each)\n"
     ]
    }
   ],
   "execution_count": 72
  },
  {
   "metadata": {
    "ExecuteTime": {
     "end_time": "2024-08-10T19:28:22.979493Z",
     "start_time": "2024-08-10T19:28:18.704303Z"
    }
   },
   "cell_type": "code",
   "source": "%timeit categories.value_counts()",
   "id": "a86683da767381ba",
   "outputs": [
    {
     "name": "stdout",
     "output_type": "stream",
     "text": [
      "51.3 ms ± 1.5 ms per loop (mean ± std. dev. of 7 runs, 10 loops each)\n"
     ]
    }
   ],
   "execution_count": 74
  },
  {
   "metadata": {},
   "cell_type": "code",
   "outputs": [],
   "execution_count": null,
   "source": "#Categorical Methods",
   "id": "aef02dac8bd831e3"
  },
  {
   "metadata": {
    "ExecuteTime": {
     "end_time": "2024-08-10T19:41:59.338594Z",
     "start_time": "2024-08-10T19:41:59.334629Z"
    }
   },
   "cell_type": "code",
   "source": "s = pd.Series(['a', 'b', 'c', 'd']*2)",
   "id": "6aeb4e8e7be00cfb",
   "outputs": [],
   "execution_count": 75
  },
  {
   "metadata": {
    "ExecuteTime": {
     "end_time": "2024-08-10T19:42:05.426268Z",
     "start_time": "2024-08-10T19:42:05.422809Z"
    }
   },
   "cell_type": "code",
   "source": "cat_s = s.astype('category')",
   "id": "975dd9d164e59032",
   "outputs": [],
   "execution_count": 76
  },
  {
   "metadata": {
    "ExecuteTime": {
     "end_time": "2024-08-10T19:42:17.929031Z",
     "start_time": "2024-08-10T19:42:17.923555Z"
    }
   },
   "cell_type": "code",
   "source": "cat_s",
   "id": "9ad765852061106d",
   "outputs": [
    {
     "data": {
      "text/plain": [
       "0    a\n",
       "1    b\n",
       "2    c\n",
       "3    d\n",
       "4    a\n",
       "5    b\n",
       "6    c\n",
       "7    d\n",
       "dtype: category\n",
       "Categories (4, object): ['a', 'b', 'c', 'd']"
      ]
     },
     "execution_count": 77,
     "metadata": {},
     "output_type": "execute_result"
    }
   ],
   "execution_count": 77
  },
  {
   "metadata": {
    "ExecuteTime": {
     "end_time": "2024-08-10T19:42:32.257280Z",
     "start_time": "2024-08-10T19:42:32.252899Z"
    }
   },
   "cell_type": "code",
   "source": "cat_s.cat.codes",
   "id": "43a812e1c39f1577",
   "outputs": [
    {
     "data": {
      "text/plain": [
       "0    0\n",
       "1    1\n",
       "2    2\n",
       "3    3\n",
       "4    0\n",
       "5    1\n",
       "6    2\n",
       "7    3\n",
       "dtype: int8"
      ]
     },
     "execution_count": 78,
     "metadata": {},
     "output_type": "execute_result"
    }
   ],
   "execution_count": 78
  },
  {
   "metadata": {
    "ExecuteTime": {
     "end_time": "2024-08-10T19:42:46.685571Z",
     "start_time": "2024-08-10T19:42:46.680409Z"
    }
   },
   "cell_type": "code",
   "source": "cat_s.cat.categories",
   "id": "75643efb93ac2a8c",
   "outputs": [
    {
     "data": {
      "text/plain": [
       "Index(['a', 'b', 'c', 'd'], dtype='object')"
      ]
     },
     "execution_count": 79,
     "metadata": {},
     "output_type": "execute_result"
    }
   ],
   "execution_count": 79
  },
  {
   "metadata": {
    "ExecuteTime": {
     "end_time": "2024-08-10T19:42:59.956781Z",
     "start_time": "2024-08-10T19:42:59.953631Z"
    }
   },
   "cell_type": "code",
   "source": "actual_categories = ['a', 'b', 'c', 'd', 'e']",
   "id": "65edc7df25723a91",
   "outputs": [],
   "execution_count": 80
  },
  {
   "metadata": {
    "ExecuteTime": {
     "end_time": "2024-08-10T19:43:10.154373Z",
     "start_time": "2024-08-10T19:43:10.150202Z"
    }
   },
   "cell_type": "code",
   "source": "cat_s2 = cat_s.cat.set_categories(actual_categories)",
   "id": "e4991f5c811eb68b",
   "outputs": [],
   "execution_count": 81
  },
  {
   "metadata": {
    "ExecuteTime": {
     "end_time": "2024-08-10T19:43:12.942425Z",
     "start_time": "2024-08-10T19:43:12.936429Z"
    }
   },
   "cell_type": "code",
   "source": "cat_s2",
   "id": "447d03c3d3b6e931",
   "outputs": [
    {
     "data": {
      "text/plain": [
       "0    a\n",
       "1    b\n",
       "2    c\n",
       "3    d\n",
       "4    a\n",
       "5    b\n",
       "6    c\n",
       "7    d\n",
       "dtype: category\n",
       "Categories (5, object): ['a', 'b', 'c', 'd', 'e']"
      ]
     },
     "execution_count": 82,
     "metadata": {},
     "output_type": "execute_result"
    }
   ],
   "execution_count": 82
  },
  {
   "metadata": {
    "ExecuteTime": {
     "end_time": "2024-08-10T19:43:24.589015Z",
     "start_time": "2024-08-10T19:43:24.582525Z"
    }
   },
   "cell_type": "code",
   "source": "cat_s.value_counts()",
   "id": "ba88df03cee239ab",
   "outputs": [
    {
     "data": {
      "text/plain": [
       "a    2\n",
       "b    2\n",
       "c    2\n",
       "d    2\n",
       "Name: count, dtype: int64"
      ]
     },
     "execution_count": 83,
     "metadata": {},
     "output_type": "execute_result"
    }
   ],
   "execution_count": 83
  },
  {
   "metadata": {
    "ExecuteTime": {
     "end_time": "2024-08-10T19:43:45.154835Z",
     "start_time": "2024-08-10T19:43:45.148921Z"
    }
   },
   "cell_type": "code",
   "source": "cat_s2.value_counts()",
   "id": "5c120c861703b06b",
   "outputs": [
    {
     "data": {
      "text/plain": [
       "a    2\n",
       "b    2\n",
       "c    2\n",
       "d    2\n",
       "e    0\n",
       "Name: count, dtype: int64"
      ]
     },
     "execution_count": 84,
     "metadata": {},
     "output_type": "execute_result"
    }
   ],
   "execution_count": 84
  },
  {
   "metadata": {
    "ExecuteTime": {
     "end_time": "2024-08-10T19:44:02.859897Z",
     "start_time": "2024-08-10T19:44:02.851297Z"
    }
   },
   "cell_type": "code",
   "source": "cat_s3 = cat_s[cat_s.isin(['a', 'b'])]",
   "id": "2e6586c65a49b0ae",
   "outputs": [],
   "execution_count": 85
  },
  {
   "metadata": {
    "ExecuteTime": {
     "end_time": "2024-08-10T19:44:06.711033Z",
     "start_time": "2024-08-10T19:44:06.705272Z"
    }
   },
   "cell_type": "code",
   "source": "cat_s3",
   "id": "e9702c750accf57d",
   "outputs": [
    {
     "data": {
      "text/plain": [
       "0    a\n",
       "1    b\n",
       "4    a\n",
       "5    b\n",
       "dtype: category\n",
       "Categories (4, object): ['a', 'b', 'c', 'd']"
      ]
     },
     "execution_count": 86,
     "metadata": {},
     "output_type": "execute_result"
    }
   ],
   "execution_count": 86
  },
  {
   "metadata": {
    "ExecuteTime": {
     "end_time": "2024-08-10T19:44:26.686980Z",
     "start_time": "2024-08-10T19:44:26.679330Z"
    }
   },
   "cell_type": "code",
   "source": "cat_s3.cat.remove_unused_categories()",
   "id": "ebc412738c5eb9e2",
   "outputs": [
    {
     "data": {
      "text/plain": [
       "0    a\n",
       "1    b\n",
       "4    a\n",
       "5    b\n",
       "dtype: category\n",
       "Categories (2, object): ['a', 'b']"
      ]
     },
     "execution_count": 87,
     "metadata": {},
     "output_type": "execute_result"
    }
   ],
   "execution_count": 87
  },
  {
   "metadata": {},
   "cell_type": "code",
   "outputs": [],
   "execution_count": null,
   "source": "",
   "id": "b9d67d0313f9992f"
  }
 ],
 "metadata": {
  "kernelspec": {
   "display_name": "Python 3",
   "language": "python",
   "name": "python3"
  },
  "language_info": {
   "codemirror_mode": {
    "name": "ipython",
    "version": 2
   },
   "file_extension": ".py",
   "mimetype": "text/x-python",
   "name": "python",
   "nbconvert_exporter": "python",
   "pygments_lexer": "ipython2",
   "version": "2.7.6"
  }
 },
 "nbformat": 4,
 "nbformat_minor": 5
}
