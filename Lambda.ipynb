{
 "cells": [
  {
   "metadata": {},
   "cell_type": "code",
   "outputs": [],
   "execution_count": null,
   "source": [
    "def apply_to_list(some_list,f):\n",
    "    return [f(x) for x in some_list]"
   ],
   "id": "7416ac10deeb19be"
  },
  {
   "metadata": {},
   "cell_type": "code",
   "outputs": [],
   "execution_count": null,
   "source": "ints=[4,0,1,5,6]",
   "id": "initial_id"
  },
  {
   "metadata": {},
   "cell_type": "code",
   "outputs": [],
   "execution_count": null,
   "source": "apply_to_list(ints,lambda x: x*2)",
   "id": "6b81da98578d8bae"
  },
  {
   "metadata": {
    "ExecuteTime": {
     "end_time": "2024-06-19T22:34:03.568690Z",
     "start_time": "2024-06-19T22:34:03.561107Z"
    }
   },
   "cell_type": "code",
   "source": "strings = [\"foo\", \"card\", \"bar\", \"aaaa\", \"abab\"]",
   "id": "ef4f3ad60c198d4e",
   "outputs": [],
   "execution_count": 1
  },
  {
   "metadata": {
    "ExecuteTime": {
     "end_time": "2024-06-19T22:34:08.370545Z",
     "start_time": "2024-06-19T22:34:08.365753Z"
    }
   },
   "cell_type": "code",
   "source": "strings.sort(key=lambda x: len(set(list(x))))",
   "id": "5ea4fe2e34c523ba",
   "outputs": [],
   "execution_count": 2
  },
  {
   "metadata": {
    "ExecuteTime": {
     "end_time": "2024-06-19T22:34:19.929265Z",
     "start_time": "2024-06-19T22:34:19.921638Z"
    }
   },
   "cell_type": "code",
   "source": "strings",
   "id": "3d5a7d27288c1716",
   "outputs": [
    {
     "data": {
      "text/plain": [
       "['aaaa', 'foo', 'abab', 'bar', 'card']"
      ]
     },
     "execution_count": 3,
     "metadata": {},
     "output_type": "execute_result"
    }
   ],
   "execution_count": 3
  }
 ],
 "metadata": {
  "kernelspec": {
   "display_name": "Python 3",
   "language": "python",
   "name": "python3"
  },
  "language_info": {
   "codemirror_mode": {
    "name": "ipython",
    "version": 2
   },
   "file_extension": ".py",
   "mimetype": "text/x-python",
   "name": "python",
   "nbconvert_exporter": "python",
   "pygments_lexer": "ipython2",
   "version": "2.7.6"
  }
 },
 "nbformat": 4,
 "nbformat_minor": 5
}
