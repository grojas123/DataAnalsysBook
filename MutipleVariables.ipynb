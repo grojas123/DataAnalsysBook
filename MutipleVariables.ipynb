{
 "cells": [
  {
   "cell_type": "code",
   "id": "initial_id",
   "metadata": {
    "collapsed": true,
    "ExecuteTime": {
     "end_time": "2024-06-19T21:34:47.348728Z",
     "start_time": "2024-06-19T21:34:47.342130Z"
    }
   },
   "source": [
    "def f():\n",
    "    a=5\n",
    "    b=6\n",
    "    c=7\n",
    "    return {\"a\":a,\"b\":b,\"c\":c}"
   ],
   "outputs": [],
   "execution_count": 9
  },
  {
   "metadata": {
    "ExecuteTime": {
     "end_time": "2024-06-19T21:34:49.521429Z",
     "start_time": "2024-06-19T21:34:49.517456Z"
    }
   },
   "cell_type": "code",
   "source": "a,b,c =f()",
   "id": "85fc623e596987f5",
   "outputs": [],
   "execution_count": 10
  },
  {
   "metadata": {
    "ExecuteTime": {
     "end_time": "2024-06-19T21:34:51.593718Z",
     "start_time": "2024-06-19T21:34:51.588971Z"
    }
   },
   "cell_type": "code",
   "source": "print(a,b,c)",
   "id": "30eb603ccb62ff57",
   "outputs": [
    {
     "name": "stdout",
     "output_type": "stream",
     "text": [
      "a b c\n"
     ]
    }
   ],
   "execution_count": 11
  },
  {
   "metadata": {},
   "cell_type": "markdown",
   "source": "",
   "id": "35a3cbd0533c6d06"
  },
  {
   "metadata": {
    "ExecuteTime": {
     "end_time": "2024-06-19T21:34:55.745821Z",
     "start_time": "2024-06-19T21:34:55.741825Z"
    }
   },
   "cell_type": "code",
   "source": "return_value=f()",
   "id": "42f24abd0ef4198",
   "outputs": [],
   "execution_count": 12
  },
  {
   "metadata": {
    "ExecuteTime": {
     "end_time": "2024-06-19T21:34:58.168836Z",
     "start_time": "2024-06-19T21:34:58.164228Z"
    }
   },
   "cell_type": "code",
   "source": "print(return_value)",
   "id": "a338fd3fa589e2ff",
   "outputs": [
    {
     "name": "stdout",
     "output_type": "stream",
     "text": [
      "{'a': 5, 'b': 6, 'c': 7}\n"
     ]
    }
   ],
   "execution_count": 13
  }
 ],
 "metadata": {
  "kernelspec": {
   "display_name": "Python 3",
   "language": "python",
   "name": "python3"
  },
  "language_info": {
   "codemirror_mode": {
    "name": "ipython",
    "version": 2
   },
   "file_extension": ".py",
   "mimetype": "text/x-python",
   "name": "python",
   "nbconvert_exporter": "python",
   "pygments_lexer": "ipython2",
   "version": "2.7.6"
  }
 },
 "nbformat": 4,
 "nbformat_minor": 5
}
